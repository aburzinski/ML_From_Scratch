{
 "cells": [
  {
   "cell_type": "markdown",
   "metadata": {},
   "source": [
    "### Import Packages"
   ]
  },
  {
   "cell_type": "code",
   "execution_count": 105,
   "metadata": {},
   "outputs": [],
   "source": [
    "import numpy as np\n",
    "from sklearn.preprocessing import StandardScaler\n",
    "import matplotlib.pyplot as plt"
   ]
  },
  {
   "cell_type": "markdown",
   "metadata": {},
   "source": [
    "### Import Data"
   ]
  },
  {
   "cell_type": "code",
   "execution_count": 13,
   "metadata": {},
   "outputs": [],
   "source": [
    "custs = np.genfromtxt('./Data/Hierarchical Clustering/customers.csv', delimiter = ',', skip_header = 1)\n",
    "\n",
    "scaler = StandardScaler().fit(custs)\n",
    "custs = scaler.transform(custs)"
   ]
  },
  {
   "cell_type": "markdown",
   "metadata": {},
   "source": [
    "### Create Distance Functions"
   ]
  },
  {
   "cell_type": "code",
   "execution_count": 17,
   "metadata": {},
   "outputs": [],
   "source": [
    "def minkowski_dist(x_1, x_2, p):\n",
    "    return np.sum(np.abs(x_1 - x_2) ** p, axis = 1) ** (1 / p)\n",
    "\n",
    "def taxicab_dist(x_1, x_2):\n",
    "    return minkowski_dist(x_1, x_2, 1)\n",
    "\n",
    "def euclidian_dist(x_1, x_2):\n",
    "    return minkowski_dist(x_1, x_2, 2)\n",
    "\n",
    "def chebychev_dist(x_1, x_2):\n",
    "    return np.max(np.abs(x_1 - x_2))\n",
    "\n",
    "def canberra_dist(x_1, x_2):\n",
    "    return np.sum(np.abs(x_1 - x_2) / (np.abs(x_1) + np.abs(x_2)))"
   ]
  },
  {
   "cell_type": "markdown",
   "metadata": {},
   "source": [
    "### Create Other Functions"
   ]
  },
  {
   "cell_type": "code",
   "execution_count": 95,
   "metadata": {},
   "outputs": [],
   "source": [
    "def dist_matrix(clusters, data, dist_fn, agg_fn):\n",
    "    dists = np.zeros([len(clusters), len(clusters)])\n",
    "    keys = [key for key in clusters.keys()]\n",
    "    for i in range(dists.shape[0] - 1):\n",
    "        for j in range(i + 1, dists.shape[0]):\n",
    "            point_a = agg_fn(data[clusters[keys[i]], :], axis = 0).reshape(1, -1)\n",
    "            point_b = agg_fn(data[clusters[keys[j]], :], axis = 0).reshape(1, -1)\n",
    "            dists[i, j] = euclidian_dist(point_a, point_b)\n",
    "            dists[j, i] = dists[i, j]\n",
    "    for i in range(len(clusters)):\n",
    "        dists[i, i] = np.nan\n",
    "    return dists"
   ]
  },
  {
   "cell_type": "code",
   "execution_count": 47,
   "metadata": {},
   "outputs": [],
   "source": [
    "def initialize_clusters(data):\n",
    "    clusters = {}\n",
    "    for row in range(data.shape[0]):\n",
    "        clusters[row] = [row]\n",
    "    return clusters"
   ]
  },
  {
   "cell_type": "code",
   "execution_count": 93,
   "metadata": {},
   "outputs": [],
   "source": [
    "def find_min_distance(data_matrix):\n",
    "    minimum = np.nanmin(data_matrix.reshape(-1, 1))\n",
    "    return np.where(data_matrix == minimum)[0]"
   ]
  },
  {
   "cell_type": "code",
   "execution_count": 92,
   "metadata": {},
   "outputs": [],
   "source": [
    "def reassign_cluster(clusters, min_idx):\n",
    "    keys = [key for key in clusters.keys()]\n",
    "    clusters[keys[min_idx[0]]] = clusters[keys[min_idx[0]]] + clusters[keys[min_idx[1]]]\n",
    "    del clusters[keys[min_idx[1]]]\n",
    "    return clusters"
   ]
  },
  {
   "cell_type": "code",
   "execution_count": 118,
   "metadata": {},
   "outputs": [],
   "source": [
    "def cluster(data, k):\n",
    "    clusters = initialize_clusters(data)\n",
    "\n",
    "    while len(clusters) > k:\n",
    "        mat = dist_matrix(clusters, data, euclidian_dist, np.mean)\n",
    "        min_idx = find_min_distance(mat)\n",
    "        clusters = reassign_cluster(clusters, min_idx)\n",
    "    \n",
    "    return clusters"
   ]
  },
  {
   "cell_type": "code",
   "execution_count": 112,
   "metadata": {},
   "outputs": [],
   "source": [
    "def plot_clusters(data, clusters):\n",
    "    colors = [0] * data.shape[0]\n",
    "    color_idx = 0\n",
    "    for key, value in clusters.items():\n",
    "        for val in value:\n",
    "            colors[val] = 'C' + str(color_idx)\n",
    "        color_idx += 1\n",
    "            \n",
    "    plt.scatter(data[:, 0], data[:, 1], color = colors)"
   ]
  },
  {
   "cell_type": "markdown",
   "metadata": {},
   "source": [
    "### Perform Hierarchical Clustering"
   ]
  },
  {
   "cell_type": "code",
   "execution_count": 117,
   "metadata": {},
   "outputs": [
    {
     "name": "stdout",
     "output_type": "stream",
     "text": [
      "Starting loop: 10\n",
      "Starting loop: 20\n",
      "Starting loop: 30\n",
      "Starting loop: 40\n",
      "Starting loop: 50\n",
      "Starting loop: 60\n",
      "Starting loop: 70\n",
      "Starting loop: 80\n",
      "Starting loop: 90\n",
      "Starting loop: 100\n",
      "Starting loop: 110\n",
      "Starting loop: 120\n",
      "Starting loop: 130\n",
      "Starting loop: 140\n",
      "Starting loop: 150\n",
      "Starting loop: 160\n",
      "Starting loop: 170\n",
      "Starting loop: 180\n",
      "Starting loop: 190\n",
      "Starting loop: 200\n",
      "Starting loop: 210\n",
      "Starting loop: 220\n",
      "Starting loop: 230\n",
      "Starting loop: 240\n",
      "Starting loop: 250\n",
      "Starting loop: 260\n",
      "Starting loop: 270\n",
      "Starting loop: 280\n",
      "Starting loop: 290\n",
      "Starting loop: 300\n",
      "Starting loop: 310\n",
      "Starting loop: 320\n",
      "Starting loop: 330\n",
      "Starting loop: 340\n",
      "Starting loop: 350\n",
      "Starting loop: 360\n",
      "Starting loop: 370\n",
      "Starting loop: 380\n",
      "Starting loop: 390\n",
      "Starting loop: 400\n",
      "Starting loop: 410\n",
      "Starting loop: 420\n"
     ]
    }
   ],
   "source": [
    "data = np.array([[1, 2],\n",
    "                 [0, 0],\n",
    "                 [3, 4],\n",
    "                 [-1, -2],\n",
    "                 [-2, -2]])\n",
    "\n",
    "clusts = initialize_clusters(custs[:, 2:4])\n",
    "loop = 0\n",
    "\n",
    "while len(clusts) > 15:\n",
    "    loop += 1\n",
    "    if loop % 10 == 0: print('Starting loop: ' + str(loop))\n",
    "    mat = dist_matrix(clusts, custs[:, 2:4], euclidian_dist, np.mean)\n",
    "    min_idx = find_min_distance(mat)\n",
    "    clusts = reassign_cluster(clusts, min_idx)\n",
    "\n"
   ]
  },
  {
   "cell_type": "code",
   "execution_count": 119,
   "metadata": {},
   "outputs": [
    {
     "data": {
      "image/png": "[encoded data removed]",
      "text/plain": [
       "<Figure size 432x288 with 1 Axes>"
      ]
     },
     "metadata": {
      "needs_background": "light"
     },
     "output_type": "display_data"
    }
   ],
   "source": [
    "plot_clusters(custs[:, 2:4], clusts)"
   ]
  }
 ],
 "metadata": {
  "kernelspec": {
   "display_name": "Python (tensorflow)",
   "language": "python",
   "name": "tensorflow"
  },
  "language_info": {
   "codemirror_mode": {
    "name": "ipython",
    "version": 3
   },
   "file_extension": ".py",
   "mimetype": "text/x-python",
   "name": "python",
   "nbconvert_exporter": "python",
   "pygments_lexer": "ipython3",
   "version": "3.7.3"
  }
 },
 "nbformat": 4,
 "nbformat_minor": 2
}

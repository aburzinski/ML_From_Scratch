{
 "cells": [
  {
   "cell_type": "markdown",
   "metadata": {},
   "source": [
    "### Import Numpy"
   ]
  },
  {
   "cell_type": "code",
   "execution_count": 1,
   "metadata": {},
   "outputs": [],
   "source": [
    "import numpy as np\n",
    "from sklearn import datasets\n",
    "from sklearn.model_selection import train_test_split"
   ]
  },
  {
   "cell_type": "markdown",
   "metadata": {},
   "source": [
    "### Create Tree Object"
   ]
  },
  {
   "cell_type": "code",
   "execution_count": 101,
   "metadata": {},
   "outputs": [],
   "source": [
    "class RandomForest:\n",
    "    \n",
    "    def __init__(self, X, y, predict_fn, score_fn, vars_per_split, max_depth = 3, n_trees = 5):\n",
    "        \n",
    "        self.trees = []\n",
    "        self.bag_idxs = []\n",
    "        \n",
    "        for i in range(n_trees):\n",
    "            if i % 20 == 0: print('Creating tree '+ str(i))\n",
    "            bag_idx = np.random.choice(a = np.arange(X.shape[0]), size = X.shape[0], replace = True)\n",
    "            self.bag_idxs.append(bag_idx)\n",
    "            self.trees.append(Tree(X[bag_idx, :], y[bag_idx], predict_fn, score_fn, vars_per_split, max_depth))\n",
    "            \n",
    "    def __str__(self):\n",
    "        return 'RandomForest model with ' + str(len(self.trees)) + ' trees'\n",
    "    \n",
    "    def predict(self, X):\n",
    "        preds = np.empty(shape = [X.shape[0], 0])\n",
    "        for tree in self.trees:\n",
    "            preds = np.append(preds, np.array(tree.predict(X)).reshape(-1, 1), axis = 1)\n",
    "        return np.mean(preds, axis = 1)\n",
    "            "
   ]
  },
  {
   "cell_type": "code",
   "execution_count": 3,
   "metadata": {},
   "outputs": [],
   "source": [
    "class Tree:\n",
    "    \n",
    "    def __init__(self, X, y, predict_fn, score_fn, vars_per_split, max_depth = 3):\n",
    "        self.rootNode = Node('Root', X, y, predict_fn, score_fn,\n",
    "                             idxs = np.arange(len(y)), max_depth = max_depth, current_depth = 0,\n",
    "                             vars_per_split = vars_per_split)\n",
    "        \n",
    "    def __str__(self):\n",
    "        return self.rootNode.__str__()\n",
    "        \n",
    "    def predict(self, X):\n",
    "        return self.rootNode.predict(X)"
   ]
  },
  {
   "cell_type": "markdown",
   "metadata": {},
   "source": [
    "### Create Node Object"
   ]
  },
  {
   "cell_type": "code",
   "execution_count": 95,
   "metadata": {},
   "outputs": [],
   "source": [
    "class Node:\n",
    "    \n",
    "    def __init__(self, name, X, y, predict_fn, score_fn, idxs, max_depth, current_depth, vars_per_split):\n",
    "        \n",
    "\n",
    "        self.name = name\n",
    "        self.X = X[idxs, :]\n",
    "        self.y = y[idxs]\n",
    "        self.predict_fn = predict_fn\n",
    "        self.score_fn = score_fn\n",
    "        self.idxs = idxs\n",
    "        self.num_rows = self.X.shape[0]\n",
    "        self.num_cols = self.X.shape[1]\n",
    "        self.score = float('inf')\n",
    "        self.split_col_idx = 0\n",
    "        self.vars_per_split = vars_per_split\n",
    "        self.split_cols = np.random.choice(a = np.arange(self.X.shape[1]), size = self.vars_per_split, replace = False)\n",
    "        self.split_value = None\n",
    "        self.max_depth = max_depth\n",
    "        self.current_depth = current_depth\n",
    "        \n",
    "        self.current_depth += 1\n",
    "        if self.current_depth > self.max_depth:\n",
    "            return\n",
    "        \n",
    "        self.find_best_split()\n",
    "        self.create_child_nodes()\n",
    "        \n",
    "        \n",
    "        \n",
    "    def find_best_split(self):\n",
    "        for col in self.split_cols:\n",
    "            for row in range(self.num_rows):\n",
    "                if self.calculate_score(self.X[row, col], col) < self.score:\n",
    "                    self.score = self.calculate_score(self.X[row, col], col)\n",
    "                    self.split_col_idx = col\n",
    "                    self.split_value = self.X[row, col]\n",
    "      \n",
    "    def calculate_score(self, value, col_idx):\n",
    "        return self.score_fn(self.X, self.y, value, col_idx)\n",
    "    \n",
    "    def create_child_nodes(self):\n",
    "        \n",
    "        lhs_idx = np.where(self.X[:, self.split_col_idx] <= self.split_value)[0]\n",
    "        rhs_idx = np.where(self.X[:, self.split_col_idx] > self.split_value)[0]\n",
    "        \n",
    "        if len(lhs_idx) == 0 or len(rhs_idx) == 0:\n",
    "            self.score = float('inf')\n",
    "            return\n",
    "        \n",
    "        self.lhn = Node(self.name + ' - Left', self.X, self.y, self.predict_fn, self.score_fn,\n",
    "                        lhs_idx, self.max_depth, self.current_depth, self.vars_per_split)\n",
    "        self.rhn = Node(self.name + ' - Right', self.X, self.y, self.predict_fn, self.score_fn,\n",
    "                        rhs_idx, self.max_depth, self.current_depth, self.vars_per_split)\n",
    "        \n",
    "    def predict_row(self, new_X_i):\n",
    "        if self.score == float('inf'):\n",
    "            return self.predict_fn(self.y)\n",
    "        else:\n",
    "            if new_X_i[self.split_col_idx] <= self.split_value:\n",
    "                return self.lhn.predict_row(new_X_i)\n",
    "            else:\n",
    "                return self.rhn.predict_row(new_X_i)\n",
    "            \n",
    "    def predict(self, new_X):\n",
    "        return [self.predict_row(new_X[i]) for i in range(new_X.shape[0])]\n",
    "    \n",
    "    def __str__(self):\n",
    "        if self.score == float('inf'):\n",
    "            return ('\\n' + '  ' * (self.current_depth - 1) + 'Rows: ' + str(self.num_rows) +\n",
    "                   ' - Prediction: ' + str(self.predict_fn(self.y)))\n",
    "        else:\n",
    "            return ('\\n' + '  ' * (self.current_depth - 1) + 'Rows: ' + str(self.num_rows) +\n",
    "                    ' - Split Col: ' + str(self.split_col_idx) + ' - Split Value: ' + str(self.split_value) +\n",
    "                    ' - Score: ' + str(self.score) + self.lhn.__str__() + self.rhn.__str__())"
   ]
  },
  {
   "cell_type": "markdown",
   "metadata": {},
   "source": [
    "### Create Scoring Function"
   ]
  },
  {
   "cell_type": "code",
   "execution_count": 5,
   "metadata": {},
   "outputs": [],
   "source": [
    "def find_gini(X, y, value, col_idx):\n",
    "    probs = np.array([])\n",
    "    ginis = np.array([])\n",
    "    \n",
    "    lhs = np.where(X[:, col_idx] <= value)[0]\n",
    "    rhs = np.where(X[:, col_idx] > value)[0]\n",
    "\n",
    "    lhs_mode = predict_mode(y[lhs])\n",
    "    \n",
    "    # Fixing bug for when there is no rhs data\n",
    "    if len(rhs) == 0:\n",
    "        rhs_mode = 0\n",
    "    else:\n",
    "        rhs_mode = predict_mode(y[rhs])\n",
    "    \n",
    "    preds = np.zeros(len(y))\n",
    "    preds[lhs] = lhs_mode\n",
    "    preds[rhs] = rhs_mode\n",
    "    \n",
    "    for predicted_class in np.unique(preds):\n",
    "        class_ginis = np.array([])\n",
    "        \n",
    "        probs = np.append(probs, np.sum(predicted_class == preds) / len(preds))\n",
    "        \n",
    "        for actual_class in np.unique(y):\n",
    "            class_ginis = np.append(class_ginis,\n",
    "                np.sum((predicted_class == preds) & (y == actual_class)) / np.sum(predicted_class == preds))\n",
    "        ginis = np.append(ginis, 1 - np.sum(class_ginis ** 2))\n",
    "        \n",
    "    return np.dot(ginis, probs)\n",
    "\n",
    "def find_rmse(X, y, value, col_idx):\n",
    "    lhs = np.where(X[:, col_idx] <= value)[0]\n",
    "    rhs = np.where(X[:, col_idx] > value)[0]\n",
    "    \n",
    "    lhs_mean = predict_mean(y[lhs])\n",
    "    rhs_mean = predict_mean(y[rhs])\n",
    "    \n",
    "    preds = np.zeros(len(y))\n",
    "    preds[lhs] = lhs_mean\n",
    "    preds[rhs] = rhs_mean\n",
    "    \n",
    "    return np.sqrt(np.mean((y - preds) ** 2))\n",
    "\n",
    "def find_information_gain(X, y, value, col_idx):\n",
    "    probs = np.array([])\n",
    "    \n",
    "    lhs = np.where(X[:, col_idx] <= value)[0]\n",
    "    rhs = np.where(X[:, col_idx] > value)[0]\n",
    "\n",
    "    lhs_mode = predict_mode(y[lhs])\n",
    "    \n",
    "    # Fixing bug for when there is no rhs data\n",
    "    if len(rhs) == 0:\n",
    "        rhs_mode = 0\n",
    "    else:\n",
    "        rhs_mode = predict_mode(y[rhs])\n",
    "        \n",
    "    preds = np.zeros(len(y))\n",
    "    preds[lhs] = lhs_mode\n",
    "    preds[rhs] = rhs_mode\n",
    "    \n",
    "    for predicted_class in np.unique(preds):\n",
    "        probs = np.append(probs, np.sum(predicted_class == preds) / len(preds))\n",
    "        \n",
    "    # Make answer negative to minimize\n",
    "    return np.sum(probs * np.log2(probs))"
   ]
  },
  {
   "cell_type": "markdown",
   "metadata": {},
   "source": [
    "### Create Prediction Logic Function"
   ]
  },
  {
   "cell_type": "code",
   "execution_count": 6,
   "metadata": {},
   "outputs": [],
   "source": [
    "def predict_mode(y):\n",
    "    return np.bincount(y).argmax()\n",
    "\n",
    "def predict_mean(y):\n",
    "    return np.mean(y)"
   ]
  },
  {
   "cell_type": "markdown",
   "metadata": {},
   "source": [
    "### Import Data"
   ]
  },
  {
   "cell_type": "code",
   "execution_count": 125,
   "metadata": {},
   "outputs": [],
   "source": [
    "iris = datasets.load_iris() # Classification\n",
    "wine = datasets.load_wine() # Classification\n",
    "breast_cancer = datasets.load_breast_cancer() # Classification\n",
    "boston = datasets.load_boston() # Regression\n",
    "diabetes = datasets.load_diabetes() # Regression\n",
    "\n",
    "train_X, test_X, train_y, test_y = train_test_split(boston['data'], boston['target'],\n",
    "                                                    test_size = .5, random_state = 0)\n"
   ]
  },
  {
   "cell_type": "markdown",
   "metadata": {},
   "source": [
    "### Train and Test Model"
   ]
  },
  {
   "cell_type": "code",
   "execution_count": 126,
   "metadata": {},
   "outputs": [
    {
     "name": "stdout",
     "output_type": "stream",
     "text": [
      "Creating tree 0\n",
      "Creating tree 20\n",
      "Creating tree 40\n",
      "RandomForest model with 50 trees\n",
      "[24. 20. 22.  9. 21. 21. 21. 20. 21. 19. 10. 12. 15.  8. 47. 33. 20. 35.\n",
      " 26. 21. 24. 20. 20. 25. 21. 16. 17. 17. 40. 19. 15. 18. 20. 21. 24. 19.\n",
      "  8. 19. 16. 15. 24. 20. 23. 16. 24. 23. 21. 19. 17. 24. 18. 20. 21. 37.\n",
      " 17. 20. 21. 19. 16. 20. 23. 21. 32. 33. 19. 29. 18. 19. 13. 22. 21. 23.\n",
      " 26. 30. 25.  9. 40. 22. 25. 20. 27. 18. 16. 40. 40. 24. 24. 17. 25. 17.\n",
      " 20. 13. 23. 30. 21. 22. 12. 25. 16. 19. 24. 20. 28. 22. 28. 20.  9. 17.\n",
      " 22. 25. 35. 11. 19. 20. 18. 21. 12. 19. 11. 44. 31. 10. 19. 20. 22. 19.\n",
      " 38. 18. 21. 33. 13. 11. 15. 20. 13. 34. 22. 19. 27. 10.  9. 21. 33. 26.\n",
      " 24. 17. 34. 33. 13.  9. 30. 27. 14. 25. 17. 26. 19. 16. 20. 15. 12. 19.\n",
      " 34. 34. 30. 21. 23. 26. 24. 13. 29. 13. 20. 26. 20.  9. 19. 19. 24. 23.\n",
      " 16. 15. 20. 20. 18. 26. 26. 28. 40. 17. 13. 31. 31. 20. 46. 25. 26. 19.\n",
      " 24. 42. 24. 18. 44. 34. 16. 25. 18. 24. 22. 19. 26. 27. 14. 22. 20. 12.\n",
      " 16. 25. 14. 33. 10. 21. 18. 16. 22. 21. 15. 20. 25. 20. 17. 23. 22. 31.\n",
      " 21. 21. 13. 21. 34. 19. 35. 26. 19. 17. 31. 27. 28. 16. 31. 15. 10. 12.\n",
      " 16.]\n",
      "[22.6 50.  23.   8.3 21.2 19.9 20.6 18.7 16.1 18.6  8.8 17.2 14.9 10.5\n",
      " 50.  29.  23.  33.3 29.4 21.  23.8 19.1 20.4 29.1 19.3 23.1 19.6 19.4\n",
      " 38.7 18.7 14.6 20.  20.5 20.1 23.6 16.8  5.6 50.  14.5 13.3 23.9 20.\n",
      " 19.8 13.8 16.5 21.6 20.3 17.  11.8 27.5 15.6 23.1 24.3 42.8 15.6 21.7\n",
      " 17.1 17.2 15.  21.7 18.6 21.  33.1 31.5 20.1 29.8 15.2 15.  27.5 22.6\n",
      " 20.  21.4 23.5 31.2 23.7  7.4 48.3 24.4 22.6 18.3 23.3 17.1 27.9 44.8\n",
      " 50.  23.  21.4 10.2 23.3 23.2 18.9 13.4 21.9 24.8 11.9 24.3 13.8 24.7\n",
      " 14.1 18.7 28.1 19.8 26.7 21.7 22.  22.9 10.4 21.9 20.6 26.4 41.3 17.2\n",
      " 27.1 20.4 16.5 24.4  8.4 23.   9.7 50.  30.5 12.3 19.4 21.2 20.3 18.8\n",
      " 33.4 18.5 19.6 33.2 13.1  7.5 13.6 17.4  8.4 35.4 24.  13.4 26.2  7.2\n",
      " 13.1 24.5 37.2 25.  24.1 16.6 32.9 36.2 11.   7.2 22.8 28.7 14.4 24.4\n",
      " 18.1 22.5 20.5 15.2 17.4 13.6  8.7 18.2 35.4 31.7 33.  22.2 20.4 23.9\n",
      " 25.  12.7 29.1 12.  17.7 27.  20.6 10.2 17.5 19.7 29.8 20.5 14.9 10.9\n",
      " 19.5 22.7 19.5 24.6 25.  24.5 50.  14.3 11.8 31.  28.7 16.2 43.5 25.\n",
      " 22.  19.9 22.1 46.  22.9 20.2 43.1 34.6 13.8 24.3 21.5 24.4 21.2 23.8\n",
      " 26.6 25.1  9.6 19.4 19.4  9.5 14.  26.5 13.8 34.7 16.3 21.7 17.5 15.6\n",
      " 20.9 21.7 12.7 18.5 23.7 19.3 12.7 21.6 23.2 29.6 21.2 23.8 17.1 22.\n",
      " 36.5 18.8 21.9 23.1 20.2 17.4 37.  24.1 36.2 15.7 32.2 13.5 17.9 13.3\n",
      " 11.7]\n"
     ]
    },
    {
     "data": {
      "text/plain": [
       "4.238314304676364"
      ]
     },
     "execution_count": 126,
     "metadata": {},
     "output_type": "execute_result"
    }
   ],
   "source": [
    "rf = RandomForest(train_X, train_y, predict_mean, find_rmse, vars_per_split = 4, max_depth = 100, n_trees = 50)\n",
    "print(rf)\n",
    "print(np.round(rf.predict(test_X)))\n",
    "print(test_y)\n",
    "np.sqrt(np.mean((rf.predict(test_X) - test_y) ** 2))\n",
    "# np.mean(np.round(rf.predict(test_X)) == test_y)"
   ]
  }
 ],
 "metadata": {
  "kernelspec": {
   "display_name": "Python (tensorflow)",
   "language": "python",
   "name": "tensorflow"
  },
  "language_info": {
   "codemirror_mode": {
    "name": "ipython",
    "version": 3
   },
   "file_extension": ".py",
   "mimetype": "text/x-python",
   "name": "python",
   "nbconvert_exporter": "python",
   "pygments_lexer": "ipython3",
   "version": "3.7.3"
  }
 },
 "nbformat": 4,
 "nbformat_minor": 2
}

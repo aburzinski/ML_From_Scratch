{
 "cells": [
  {
   "cell_type": "markdown",
   "metadata": {},
   "source": [
    "### Import Python Packages"
   ]
  },
  {
   "cell_type": "code",
   "execution_count": 1,
   "metadata": {},
   "outputs": [],
   "source": [
    "import numpy as np\n",
    "import matplotlib.pyplot as plt"
   ]
  },
  {
   "cell_type": "markdown",
   "metadata": {},
   "source": [
    "### Import the Data"
   ]
  },
  {
   "cell_type": "code",
   "execution_count": 2,
   "metadata": {},
   "outputs": [],
   "source": [
    "bank_data = np.genfromtxt('./Data/CART/data_banknote_authentication.txt', delimiter = ',')"
   ]
  },
  {
   "cell_type": "code",
   "execution_count": 3,
   "metadata": {},
   "outputs": [
    {
     "data": {
      "text/plain": [
       "(1372, 5)"
      ]
     },
     "execution_count": 3,
     "metadata": {},
     "output_type": "execute_result"
    }
   ],
   "source": [
    "bank_data.shape"
   ]
  },
  {
   "cell_type": "markdown",
   "metadata": {},
   "source": [
    "### Create Required Funtions"
   ]
  },
  {
   "cell_type": "code",
   "execution_count": 4,
   "metadata": {},
   "outputs": [],
   "source": [
    "def calc_gini(preds, actuals):\n",
    "    total_len = len(preds)\n",
    "    group_ginis = np.array([])\n",
    "    group_probs = np.array([])\n",
    "    for group_val in np.unique(preds):\n",
    "        group_probs = np.append(group_probs, np.sum(preds == group_val) / total_len)\n",
    "        cat_ginis = np.array([])\n",
    "        for cat_val in np.unique(preds):\n",
    "            cat_ginis = np.append(cat_ginis,\n",
    "                                  np.sum((actuals == cat_val) & (preds == group_val)) / np.sum(preds == group_val))\n",
    "        group_ginis = np.append(group_ginis, 1 - np.sum(cat_ginis ** 2))\n",
    "        \n",
    "    return np.dot(group_probs, group_ginis)"
   ]
  },
  {
   "cell_type": "code",
   "execution_count": 5,
   "metadata": {},
   "outputs": [],
   "source": [
    "def split_data(feature_index, value, array_to_split):\n",
    "    left_split_index = np.where(array_to_split[:, feature_index] - value < 0)\n",
    "    right_split_index = np.where(array_to_split[:, feature_index] - value >= 0)\n",
    "    left = array_to_split[left_split_index]\n",
    "    right = array_to_split[right_split_index]\n",
    "    \n",
    "    return (left, right)"
   ]
  },
  {
   "cell_type": "code",
   "execution_count": 6,
   "metadata": {},
   "outputs": [],
   "source": [
    "def get_split_index(feature_vals, split_val):\n",
    "    return np.where(feature_vals >= split_val)[0]"
   ]
  },
  {
   "cell_type": "code",
   "execution_count": 7,
   "metadata": {},
   "outputs": [],
   "source": [
    "def get_gini_from_split(data_array, feature_index, split_val, responses):\n",
    "    splits = get_split_index(data_array[:, feature_index], split_val)\n",
    "    preds = [1 if np.any(splits == i) else 0 for i in range(len(data_array[:, feature_index]))]\n",
    "    actuals = responses\n",
    "    return calc_gini(preds, actuals)"
   ]
  },
  {
   "cell_type": "code",
   "execution_count": 32,
   "metadata": {},
   "outputs": [],
   "source": [
    "def get_best_split(features, responses):\n",
    "    best_split = {'feature_index':-1, 'value': 0, 'gini': 1}\n",
    "    for feature_index in range(features.shape[1]):\n",
    "        values = features[:, feature_index]\n",
    "        for value in values:\n",
    "            gini = get_gini_from_split(features, feature_index, value, responses)\n",
    "            if gini < best_split['gini']:\n",
    "                best_split['feature_index'] = feature_index\n",
    "                best_split['value'] = value\n",
    "                best_split['gini'] = gini\n",
    "                \n",
    "    return best_split"
   ]
  },
  {
   "cell_type": "code",
   "execution_count": 76,
   "metadata": {},
   "outputs": [],
   "source": [
    "def get_terminals(data_array, feature_index, value, responses):\n",
    "    split_index = get_split_index(data_array[:, feature_index], value)\n",
    "    return (np.rint(np.mean([responses[i] for i in range(responses.shape[0]) if not np.any(split_index == i)])),\n",
    "            np.rint(np.mean(responses[split_index])))"
   ]
  },
  {
   "cell_type": "code",
   "execution_count": 82,
   "metadata": {},
   "outputs": [
    {
     "data": {
      "text/plain": [
       "array([0., 0., 0., 0., 0., 0., 0., 0., 0., 0.])"
      ]
     },
     "execution_count": 82,
     "metadata": {},
     "output_type": "execute_result"
    }
   ],
   "source": [
    "features = np.array([[2.771244718,1.784783929],\n",
    "                    [1.728571309,1.169761413],\n",
    "                    [3.678319846,2.81281357],\n",
    "                    [3.961043357,2.61995032],\n",
    "                    [2.999208922,2.209014212],\n",
    "                    [7.497545867,3.162953546],\n",
    "                    [9.00220326,3.339047188],\n",
    "                    [7.444542326,0.476683375],\n",
    "                    [10.12493903,3.234550982],\n",
    "                    [6.642287351,3.319983761]])\n",
    "\n",
    "actuals = np.array([0, 0, 0, 0, 0, 1, 1, 1, 1, 1])\n",
    "\n",
    "tree = {'indexes': np.zeros(actuals.shape), 'splits': []}\n",
    "\n",
    "# {'feature_index': 0, 'value': 6.642287351, 'gini': 0.0}\n",
    "split1 = get_best_split(features, actuals)\n",
    "\n",
    "get_terminals(features, split1['feature_index'], split1['value'], actuals)\n",
    "tree"
   ]
  }
 ],
 "metadata": {
  "kernelspec": {
   "display_name": "Python (tensorflow)",
   "language": "python",
   "name": "tensorflow"
  },
  "language_info": {
   "codemirror_mode": {
    "name": "ipython",
    "version": 3
   },
   "file_extension": ".py",
   "mimetype": "text/x-python",
   "name": "python",
   "nbconvert_exporter": "python",
   "pygments_lexer": "ipython3",
   "version": "3.7.3"
  }
 },
 "nbformat": 4,
 "nbformat_minor": 2
}

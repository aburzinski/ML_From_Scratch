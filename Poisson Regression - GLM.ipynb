{
 "cells": [
  {
   "cell_type": "markdown",
   "metadata": {},
   "source": [
    "### Import the Packages"
   ]
  },
  {
   "cell_type": "code",
   "execution_count": 1,
   "metadata": {},
   "outputs": [],
   "source": [
    "import numpy as np"
   ]
  },
  {
   "cell_type": "markdown",
   "metadata": {},
   "source": [
    "### Create MLE Functions"
   ]
  },
  {
   "cell_type": "code",
   "execution_count": 4,
   "metadata": {},
   "outputs": [],
   "source": [
    "def calc_lambda(X, beta):\n",
    "    return np.exp(np.dot(X, beta))"
   ]
  },
  {
   "cell_type": "code",
   "execution_count": 15,
   "metadata": {},
   "outputs": [],
   "source": [
    "def calc_gradient(Y, X, beta):\n",
    "    lambdas = calc_lambda(X, beta)\n",
    "    return np.dot((lambdas - Y), X)"
   ]
  },
  {
   "cell_type": "code",
   "execution_count": 22,
   "metadata": {},
   "outputs": [],
   "source": [
    "def calc_hessian(X, beta):\n",
    "    lambdas = calc_lambda(X, beta)\n",
    "    return np.linalg.multi_dot([np.transpose(X), np.diag(calc_lambda(X, beta)), X])"
   ]
  },
  {
   "cell_type": "markdown",
   "metadata": {},
   "source": [
    "### Initialize Dataset"
   ]
  },
  {
   "cell_type": "code",
   "execution_count": 1651,
   "metadata": {},
   "outputs": [],
   "source": [
    "X = np.array([[1, 0, 3.2],\n",
    "              [1, 0, 2.3],\n",
    "              [1, 0, 3.8],\n",
    "              [1, 0, 3.9],\n",
    "              [1, 0, 1.8],\n",
    "              [1, 0, 3.9],\n",
    "              [1, 0, 3.4],\n",
    "              [0, 0, 3.9],\n",
    "              [0, 0, 2.9],\n",
    "              [0, 0, 1.8],\n",
    "              [0, 0, 3.2],\n",
    "              [0, 0, 3.5],\n",
    "              [0, 1, 3.8],\n",
    "              [0, 1, 2.5],\n",
    "              [0, 1, 1.9],\n",
    "              [0, 1, 3.2],\n",
    "              [0, 1, 3.1],\n",
    "              [0, 1, 2.9]])\n",
    "\n",
    "Y = np.array([2, 1, 2, 3, 0, 1, 0, 1, 0, 0, 1, 0, 3, 2, 1, 3, 1, 2])\n",
    "\n",
    "X = np.insert(X, 0, 1, axis = 1)\n",
    "\n",
    "beta = np.zeros([X.shape[1]])"
   ]
  },
  {
   "cell_type": "markdown",
   "metadata": {},
   "source": [
    "### Newton-Raphson Method"
   ]
  },
  {
   "cell_type": "code",
   "execution_count": 26,
   "metadata": {},
   "outputs": [],
   "source": [
    "def calc_new_raph_delta(grad, hess):\n",
    "    return np.dot(np.linalg.inv(hess), grad)"
   ]
  },
  {
   "cell_type": "code",
   "execution_count": 1665,
   "metadata": {},
   "outputs": [
    {
     "name": "stdout",
     "output_type": "stream",
     "text": [
      "[-3.15638065  1.0644869   1.74691091  0.696942  ]\n",
      "[ 5.53900397e-16  7.42201317e-17  3.94898230e-17 -1.15759133e-16]\n"
     ]
    }
   ],
   "source": [
    "print(beta)\n",
    "\n",
    "grad = calc_gradient(Y, X, beta)\n",
    "hess = calc_hessian(X, beta)\n",
    "\n",
    "delta = calc_new_raph_delta(grad, hess)\n",
    "print(delta)\n",
    "\n",
    "beta = beta - delta"
   ]
  },
  {
   "cell_type": "markdown",
   "metadata": {},
   "source": [
    "### Make Prediction with New Data"
   ]
  },
  {
   "cell_type": "code",
   "execution_count": 1671,
   "metadata": {},
   "outputs": [
    {
     "data": {
      "text/plain": [
       "1.3949872360832007"
      ]
     },
     "execution_count": 1671,
     "metadata": {},
     "output_type": "execute_result"
    }
   ],
   "source": [
    "new_data = np.array([0, 1, 2.5])\n",
    "new_data = np.insert(new_data, 0, 1)\n",
    "\n",
    "pred = np.exp(np.dot(new_data, beta))\n",
    "pred"
   ]
  }
 ],
 "metadata": {
  "kernelspec": {
   "display_name": "Python (tensorflow)",
   "language": "python",
   "name": "tensorflow"
  },
  "language_info": {
   "codemirror_mode": {
    "name": "ipython",
    "version": 3
   },
   "file_extension": ".py",
   "mimetype": "text/x-python",
   "name": "python",
   "nbconvert_exporter": "python",
   "pygments_lexer": "ipython3",
   "version": "3.7.3"
  }
 },
 "nbformat": 4,
 "nbformat_minor": 2
}

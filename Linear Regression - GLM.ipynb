{
 "cells": [
  {
   "cell_type": "markdown",
   "metadata": {},
   "source": [
    "### Import Packages"
   ]
  },
  {
   "cell_type": "code",
   "execution_count": 8,
   "metadata": {},
   "outputs": [],
   "source": [
    "import numpy as np\n",
    "import sklearn.datasets\n",
    "from sklearn.model_selection import train_test_split"
   ]
  },
  {
   "cell_type": "markdown",
   "metadata": {},
   "source": [
    "### Create MLE Functions"
   ]
  },
  {
   "cell_type": "code",
   "execution_count": 9,
   "metadata": {},
   "outputs": [],
   "source": [
    "def calc_mu(X, beta):\n",
    "    return np.dot(X, beta)"
   ]
  },
  {
   "cell_type": "code",
   "execution_count": 10,
   "metadata": {},
   "outputs": [],
   "source": [
    "def calc_nll_gradient(Y, X, beta):\n",
    "    mu = calc_mu(X, beta)\n",
    "    return -2 * np.dot((Y - mu), X)"
   ]
  },
  {
   "cell_type": "code",
   "execution_count": 11,
   "metadata": {},
   "outputs": [],
   "source": [
    "def calc_nll_hessian(X):\n",
    "    return -2 * np.dot(np.transpose(X), X)"
   ]
  },
  {
   "cell_type": "markdown",
   "metadata": {},
   "source": [
    "### Initialize Variables"
   ]
  },
  {
   "cell_type": "code",
   "execution_count": 12,
   "metadata": {},
   "outputs": [],
   "source": [
    "# X = np.array([[1, 1],\n",
    "#               [2, 1],\n",
    "#               [2, 2],\n",
    "#               [3, 4]])\n",
    "\n",
    "# Y = np.array([2, 3, 4, 6])\n",
    "\n",
    "boston = sklearn.datasets.load_boston()\n",
    "\n",
    "train_X, test_X, train_y, test_y = train_test_split(boston['data'][:,4:6], boston['target'],\n",
    "                                                    test_size = .3, random_state = 0)\n",
    "train_X = np.insert(train_X, 0, 1, axis = 1)\n",
    "test_X = np.insert(test_X, 0, 1, axis = 1)\n",
    "\n",
    "beta = np.zeros([train_X.shape[1]])"
   ]
  },
  {
   "cell_type": "markdown",
   "metadata": {},
   "source": [
    "### Newton-Raphson Method"
   ]
  },
  {
   "cell_type": "code",
   "execution_count": 13,
   "metadata": {},
   "outputs": [],
   "source": [
    "def calc_new_raph_delta(grad, hess):\n",
    "    return np.dot(np.linalg.inv(hess), grad)"
   ]
  },
  {
   "cell_type": "code",
   "execution_count": 18,
   "metadata": {},
   "outputs": [
    {
     "name": "stdout",
     "output_type": "stream",
     "text": [
      "[-19.25279532 -19.78583813   8.40164281]\n",
      "[ 2.67231718e-14 -9.98757680e-15 -2.94046756e-15]\n"
     ]
    }
   ],
   "source": [
    "print(beta)\n",
    "\n",
    "grad = calc_nll_gradient(train_y, train_X, beta)\n",
    "hess = calc_nll_hessian(train_X)\n",
    "\n",
    "delta = calc_new_raph_delta(grad, hess)\n",
    "print(delta)\n",
    "\n",
    "beta = beta + delta"
   ]
  },
  {
   "cell_type": "markdown",
   "metadata": {},
   "source": [
    "### Make New Prediction"
   ]
  },
  {
   "cell_type": "code",
   "execution_count": 22,
   "metadata": {},
   "outputs": [
    {
     "data": {
      "text/plain": [
       "6.613679690065902"
      ]
     },
     "execution_count": 22,
     "metadata": {},
     "output_type": "execute_result"
    }
   ],
   "source": [
    "pred = np.dot(test_X, beta)\n",
    "np.sqrt(np.mean((pred - test_y) ** 2))"
   ]
  }
 ],
 "metadata": {
  "kernelspec": {
   "display_name": "Python (tensorflow)",
   "language": "python",
   "name": "tensorflow"
  },
  "language_info": {
   "codemirror_mode": {
    "name": "ipython",
    "version": 3
   },
   "file_extension": ".py",
   "mimetype": "text/x-python",
   "name": "python",
   "nbconvert_exporter": "python",
   "pygments_lexer": "ipython3",
   "version": "3.7.3"
  }
 },
 "nbformat": 4,
 "nbformat_minor": 2
}

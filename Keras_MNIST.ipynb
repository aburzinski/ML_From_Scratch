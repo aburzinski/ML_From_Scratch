{
  "nbformat": 4,
  "nbformat_minor": 0,
  "metadata": {
    "colab": {
      "name": "Keras MNIST.ipynb",
      "provenance": []
    },
    "kernelspec": {
      "name": "python3",
      "display_name": "Python 3"
    },
    "accelerator": "GPU"
  },
  "cells": [
    {
      "cell_type": "markdown",
      "metadata": {
        "id": "ECoXPUDtMaob",
        "colab_type": "text"
      },
      "source": [
        "### Import Packages and Enable GPU"
      ]
    },
    {
      "cell_type": "code",
      "metadata": {
        "id": "DV4YXalYMPke",
        "colab_type": "code",
        "colab": {
          "base_uri": "https://localhost:8080/",
          "height": 34
        },
        "outputId": "f16f9e5f-a151-41e3-bc9c-328fc771dc87"
      },
      "source": [
        "import tensorflow as tf\n",
        "device_name = tf.test.gpu_device_name()\n",
        "if device_name != '/device:GPU:0':\n",
        "    raise SystemError('GPU device not found')\n",
        "print('Found GPU at: {}'.format(device_name))\n",
        "\n",
        "from tensorflow import keras\n",
        "import matplotlib.pyplot as plt\n",
        "import numpy as np"
      ],
      "execution_count": 25,
      "outputs": [
        {
          "output_type": "stream",
          "text": [
            "Found GPU at: /device:GPU:0\n"
          ],
          "name": "stdout"
        }
      ]
    },
    {
      "cell_type": "markdown",
      "metadata": {
        "id": "nW-3bLtpTxXM",
        "colab_type": "text"
      },
      "source": [
        "### Import Data"
      ]
    },
    {
      "cell_type": "code",
      "metadata": {
        "id": "EWkVY-X8MeHL",
        "colab_type": "code",
        "colab": {}
      },
      "source": [
        "(x_train, y_train), (x_test, y_test) = keras.datasets.mnist.load_data()\n",
        "\n",
        "training_rows = 10000\n",
        "testing_rows = 1000\n",
        "\n",
        "X_train = x_train.reshape(x_train.shape[0], x_train.shape[1] * x_train.shape[2])[0:training_rows, :]\n",
        "X_test = x_test.reshape(x_test.shape[0], x_train.shape[1] * x_train.shape[2])[0:testing_rows, :]\n",
        "\n",
        "y_train = y_train[0:training_rows]\n",
        "y_test = y_test[0:testing_rows]\n",
        "\n",
        "y_train = keras.utils.to_categorical(y_train)\n",
        "y_test = keras.utils.to_categorical(y_test)\n",
        "\n",
        "X_train = X_train / 255.0\n",
        "X_test = X_test / 255.0"
      ],
      "execution_count": 0,
      "outputs": []
    },
    {
      "cell_type": "markdown",
      "metadata": {
        "id": "Tb6jWEWvVKJ_",
        "colab_type": "text"
      },
      "source": [
        "### Create Model"
      ]
    },
    {
      "cell_type": "code",
      "metadata": {
        "id": "GBj-Dt_bUK8Y",
        "colab_type": "code",
        "colab": {}
      },
      "source": [
        "model = keras.Sequential()\n",
        "\n",
        "model.add(keras.layers.Dense(units = 80, input_dim = 784, activation = 'relu'))\n",
        "model.add(keras.layers.Dense(units = 20, input_dim = 80, activation = 'relu'))\n",
        "model.add(keras.layers.Dense(units = 10, input_dim = 20, activation = 'softmax'))\n",
        "\n",
        "model.compile(loss = 'categorical_crossentropy', optimizer = 'SGD', metrics = ['accuracy'])"
      ],
      "execution_count": 0,
      "outputs": []
    },
    {
      "cell_type": "markdown",
      "metadata": {
        "id": "4_EdN83_Wlck",
        "colab_type": "text"
      },
      "source": [
        "### Fit model to training data"
      ]
    },
    {
      "cell_type": "code",
      "metadata": {
        "id": "OI7BPGcoV_nk",
        "colab_type": "code",
        "colab": {
          "base_uri": "https://localhost:8080/",
          "height": 34
        },
        "outputId": "5aa14237-7afa-46fc-f57e-e8b4ba77bbb9"
      },
      "source": [
        "model.fit(X_train, y_train, epochs = 1, batch_size = training_rows, verbose = 0)"
      ],
      "execution_count": 41,
      "outputs": [
        {
          "output_type": "execute_result",
          "data": {
            "text/plain": [
              "<tensorflow.python.keras.callbacks.History at 0x7f431a98ada0>"
            ]
          },
          "metadata": {
            "tags": []
          },
          "execution_count": 41
        }
      ]
    },
    {
      "cell_type": "markdown",
      "metadata": {
        "id": "Qt6bcpsIY_Q0",
        "colab_type": "text"
      },
      "source": [
        "### Check accuracy of model"
      ]
    },
    {
      "cell_type": "code",
      "metadata": {
        "id": "WqyR81G5YbuG",
        "colab_type": "code",
        "colab": {
          "base_uri": "https://localhost:8080/",
          "height": 357
        },
        "outputId": "31f1820c-b37f-42dd-ea89-2715cf69c6bf"
      },
      "source": [
        "loss, accuracy = model.evaluate(X_test, y_test)\n",
        "print('Accuracy: %.2f' % (accuracy*100))\n",
        "\n",
        "rand_image = np.random.choice(a = X_test.shape[0], size = 1, )\n",
        "\n",
        "pred = model.predict(X_test[rand_image])\n",
        "print('Predicted digit: ' + str(np.argmax(pred)), 'Actual digit: ' + str(np.argmax(y_test[rand_image])))\n",
        "print('Probability: ' + str(pred[0, np.argmax(pred)] * 100) + ' percent')\n",
        "plt.imshow(X_test[rand_image].reshape(28, 28), cmap = 'gray')"
      ],
      "execution_count": 42,
      "outputs": [
        {
          "output_type": "stream",
          "text": [
            "1000/1000 [==============================] - 0s 88us/sample - loss: 0.2637 - acc: 0.9150\n",
            "Accuracy: 91.50\n",
            "Predicted digit: 7 Actual digit: 7\n",
            "Probability: 99.11655783653259 percent\n"
          ],
          "name": "stdout"
        },
        {
          "output_type": "execute_result",
          "data": {
            "text/plain": [
              "<matplotlib.image.AxesImage at 0x7f431f019400>"
            ]
          },
          "metadata": {
            "tags": []
          },
          "execution_count": 42
        },
        {
          "output_type": "display_data",
          "data": {
            "image/png": "[encoded data removed]",
            "text/plain": [
              "<Figure size 432x288 with 1 Axes>"
            ]
          },
          "metadata": {
            "tags": []
          }
        }
      ]
    }
  ]
}
{
  "nbformat": 4,
  "nbformat_minor": 0,
  "metadata": {
    "kernelspec": {
      "display_name": "Python (tensorflow)",
      "language": "python",
      "name": "tensorflow"
    },
    "language_info": {
      "codemirror_mode": {
        "name": "ipython",
        "version": 3
      },
      "file_extension": ".py",
      "mimetype": "text/x-python",
      "name": "python",
      "nbconvert_exporter": "python",
      "pygments_lexer": "ipython3",
      "version": "3.7.3"
    },
    "colab": {
      "name": "RNN.ipynb",
      "provenance": [],
      "machine_shape": "hm"
    },
    "accelerator": "GPU"
  },
  "cells": [
    {
      "cell_type": "markdown",
      "metadata": {
        "id": "PssyTfAHVuUM",
        "colab_type": "text"
      },
      "source": [
        "### Import Packages"
      ]
    },
    {
      "cell_type": "code",
      "metadata": {
        "id": "LhDjR6xbVuUP",
        "colab_type": "code",
        "colab": {
          "base_uri": "https://localhost:8080/",
          "height": 52
        },
        "outputId": "9c6d65b2-0eb0-4942-b8f4-234ec05f06cc"
      },
      "source": [
        "import numpy as np\n",
        "import matplotlib.pyplot as plt\n",
        "from nltk import word_tokenize\n",
        "from nltk import download as nltk_download\n",
        "nltk_download('punkt')\n",
        "from collections import Counter\n",
        "from IPython.display import clear_output\n",
        "from gensim.models import Word2Vec\n",
        "from collections import defaultdict\n",
        "import random"
      ],
      "execution_count": 72,
      "outputs": [
        {
          "output_type": "stream",
          "text": [
            "[nltk_data] Downloading package punkt to /root/nltk_data...\n",
            "[nltk_data]   Package punkt is already up-to-date!\n"
          ],
          "name": "stdout"
        }
      ]
    },
    {
      "cell_type": "markdown",
      "metadata": {
        "id": "WD7txAKrVuUS",
        "colab_type": "text"
      },
      "source": [
        "### Create Necessary Functions"
      ]
    },
    {
      "cell_type": "code",
      "metadata": {
        "id": "xVmZtiKWVuUT",
        "colab_type": "code",
        "colab": {}
      },
      "source": [
        "def softmax(z, extra_param = None):\n",
        "    sums = np.sum(np.exp(z))\n",
        "    return np.exp(z) / sums\n",
        "\n",
        "def one_hot(y, total_cats = None):\n",
        "    if total_cats == None:\n",
        "        y_onehot = np.zeros([len(y), len(np.unique(y))])\n",
        "    else:\n",
        "        y_onehot = np.zeros([len(y), total_cats])\n",
        "\n",
        "    for i in range(len(y)):\n",
        "        y_onehot[i, y[i]] = 1\n",
        "        \n",
        "    return y_onehot\n",
        "\n",
        "def embed(sentence, hidden_size):\n",
        "    embedding = np.zeros([len(sentence), hidden_size])\n",
        "    for i, word in enumerate(sentence):\n",
        "        embedding[i] = w2v[word]\n",
        "    return embedding"
      ],
      "execution_count": 0,
      "outputs": []
    },
    {
      "cell_type": "markdown",
      "metadata": {
        "id": "QID6uHOSVuUW",
        "colab_type": "text"
      },
      "source": [
        "### Create RNN Class"
      ]
    },
    {
      "cell_type": "code",
      "metadata": {
        "id": "y5cIwPn9VuUX",
        "colab_type": "code",
        "colab": {}
      },
      "source": [
        "class RNN():\n",
        "    \n",
        "    def __init__(self, input_dim, output_dim, hidden_dim, bptt_truncate = 4):\n",
        "        \n",
        "        self.input_dim = input_dim\n",
        "        self.hidden_dim = hidden_dim\n",
        "        self.output_dim = output_dim\n",
        "        self.bptt_truncate = bptt_truncate\n",
        "        \n",
        "        self.U = np.random.uniform(-1 / np.sqrt(self.input_dim), 1 / np.sqrt(self.input_dim),\n",
        "                                   [self.hidden_dim, self.input_dim])\n",
        "        self.V = np.random.uniform(-1 / np.sqrt(self.hidden_dim), 1 / np.sqrt(self.hidden_dim),\n",
        "                                   [self.output_dim, self.hidden_dim])\n",
        "        self.W = np.random.uniform(-1 / np.sqrt(self.hidden_dim), 1 / np.sqrt(self.hidden_dim),\n",
        "                                   [self.hidden_dim, self.hidden_dim])\n",
        "    \n",
        "    def forward_propagation(self, X):\n",
        "        # Total number of time steps\n",
        "        T = X.shape[0]\n",
        "\n",
        "        # Matrix to hold the hidden state at each step from 0 to T\n",
        "        S = np.zeros([T + 1, self.hidden_dim])\n",
        "        # Initialize to zero\n",
        "        S[-1, :] = np.zeros([self.hidden_dim])\n",
        "        \n",
        "        # Matrix to hold output at each time step\n",
        "        O = np.zeros([T, self.output_dim])\n",
        "        \n",
        "        for t in range(T):\n",
        "            S[t, :] = np.tanh(np.dot(self.U, X[t, :]) + np.dot(self.W, S[t - 1, :]))\n",
        "            O[t, :] = softmax(np.dot(self.V, S[t, :]))\n",
        "        return (O, S)\n",
        "    \n",
        "    def predict(self, X):\n",
        "        O, S = self.forward_propagation(X)\n",
        "        return np.argmax(O[X.shape[0] - 1, :])\n",
        "    \n",
        "    def calc_total_loss(self, X, y):\n",
        "        O, S = self.forward_propagation(X)\n",
        "        return -1 * np.sum(y * np.log(O[X.shape[0] - 1, :]))\n",
        "    \n",
        "    def random_loss(self):\n",
        "        return np.log(self.input_dim)\n",
        "    \n",
        "    def bptt(self, X, y):\n",
        "        T = X.shape[0]\n",
        "        \n",
        "        O, S = self.forward_propagation(X)\n",
        "        \n",
        "        dL_dU = np.zeros(self.U.shape)\n",
        "        dL_dV = np.zeros(self.V.shape)\n",
        "        dL_dW = np.zeros(self.W.shape)\n",
        "        \n",
        "        for t in range(T):\n",
        "            \n",
        "#             a_t = np.dot((O - y), self.V) * (1 - S[t, :] ** 2)\n",
        "            a_t = np.dot((O - y)[t, :], self.V) * (1 - S[t, :] ** 2)\n",
        "\n",
        "            for step in range(t, max(t - self.bptt_truncate, -1), -1):\n",
        "                \n",
        "                dL_dU += np.outer(a_t, X[step, :])\n",
        "                dL_dW += np.outer(a_t, S[step, :])\n",
        "                a_t = np.dot(a_t, self.W) * (1 - S[step - 1, :] ** 2)\n",
        "            \n",
        "#             dL_dV += np.outer((O - y), S[t, :])\n",
        "            dL_dV += np.outer((O - y)[t, :], S[t, :])\n",
        "            \n",
        "        return (dL_dU, dL_dV, dL_dW)\n",
        "    \n",
        "    def sgd_step(self, X, y, lr, eta):\n",
        "        (dL_dU, dL_dV, dL_dW) = self.bptt(X, y)\n",
        "        \n",
        "        # Gradient Clipping\n",
        "        if np.linalg.norm(dL_dU) > eta:\n",
        "            dL_dU = dL_dU * eta / np.linalg.norm(dL_dU)\n",
        "        if np.linalg.norm(dL_dV) > eta:\n",
        "            dL_dV = dL_dV * eta / np.linalg.norm(dL_dV)\n",
        "        if np.linalg.norm(dL_dW) > eta:\n",
        "            dL_dW = dL_dW * eta / np.linalg.norm(dL_dW)\n",
        "            \n",
        "        self.U = self.U - lr * dL_dU\n",
        "        self.V = self.V - lr * dL_dV\n",
        "        self.W = self.W - lr * dL_dW"
      ],
      "execution_count": 0,
      "outputs": []
    },
    {
      "cell_type": "markdown",
      "metadata": {
        "id": "tE409OEdWY17",
        "colab_type": "text"
      },
      "source": [
        "### Install Kaggle"
      ]
    },
    {
      "cell_type": "code",
      "metadata": {
        "id": "3f_AdlIhWa3X",
        "colab_type": "code",
        "colab": {
          "resources": {
            "http://localhost:8080/nbextensions/google.colab/files.js": {
              "data": "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",
              "ok": true,
              "headers": [
                [
                  "content-type",
                  "application/javascript"
                ]
              ],
              "status": 200,
              "status_text": ""
            }
          },
          "base_uri": "https://localhost:8080/",
          "height": 75
        },
        "outputId": "c1c87a56-4a7a-4b00-93ce-420bbdc16d1b"
      },
      "source": [
        "# Colab library to upload files to notebook\n",
        "from google.colab import files\n",
        "\n",
        "# Install Kaggle library\n",
        "!pip install -q kaggle\n",
        "\n",
        "# Upload kaggle API key file\n",
        "uploaded = files.upload()"
      ],
      "execution_count": 6,
      "outputs": [
        {
          "output_type": "display_data",
          "data": {
            "text/html": [
              "\n",
              "     <input type=\"file\" id=\"files-996349e2-16cb-4f40-92d1-dbf5aba365ee\" name=\"files[]\" multiple disabled />\n",
              "     <output id=\"result-996349e2-16cb-4f40-92d1-dbf5aba365ee\">\n",
              "      Upload widget is only available when the cell has been executed in the\n",
              "      current browser session. Please rerun this cell to enable.\n",
              "      </output>\n",
              "      <script src=\"/nbextensions/google.colab/files.js\"></script> "
            ],
            "text/plain": [
              "<IPython.core.display.HTML object>"
            ]
          },
          "metadata": {
            "tags": []
          }
        },
        {
          "output_type": "stream",
          "text": [
            "Saving kaggle.json to kaggle.json\n"
          ],
          "name": "stdout"
        }
      ]
    },
    {
      "cell_type": "code",
      "metadata": {
        "id": "0r_96_PmW0Zg",
        "colab_type": "code",
        "colab": {
          "base_uri": "https://localhost:8080/",
          "height": 34
        },
        "outputId": "e871f6b2-35b0-4405-8d5e-71cfc0098e5b"
      },
      "source": [
        "!mkdir /root/.kaggle\n",
        "!mv kaggle.json /root/.kaggle/kaggle.json\n",
        "!chmod 600 /root/.kaggle/kaggle.json"
      ],
      "execution_count": 7,
      "outputs": [
        {
          "output_type": "stream",
          "text": [
            "mkdir: cannot create directory ‘/root/.kaggle’: File exists\n"
          ],
          "name": "stdout"
        }
      ]
    },
    {
      "cell_type": "markdown",
      "metadata": {
        "id": "QqXtx3wfVuUc",
        "colab_type": "text"
      },
      "source": [
        "### Create Dataset"
      ]
    },
    {
      "cell_type": "code",
      "metadata": {
        "id": "vzFY4rO9XAU1",
        "colab_type": "code",
        "colab": {
          "base_uri": "https://localhost:8080/",
          "height": 158
        },
        "outputId": "46259ea9-edeb-4497-f2c5-cd945e4df0d7"
      },
      "source": [
        "!kaggle competitions download -c movie-review-sentiment-analysis-kernels-only\n",
        "!unzip train.tsv.zip\n",
        "!unzip test.tsv.zip"
      ],
      "execution_count": 8,
      "outputs": [
        {
          "output_type": "stream",
          "text": [
            "Warning: Looks like you're using an outdated API Version, please consider updating (server 1.5.6 / client 1.5.4)\n",
            "test.tsv.zip: Skipping, found more recently modified local copy (use --force to force download)\n",
            "sampleSubmission.csv: Skipping, found more recently modified local copy (use --force to force download)\n",
            "train.tsv.zip: Skipping, found more recently modified local copy (use --force to force download)\n",
            "Archive:  train.tsv.zip\n",
            "replace train.tsv? [y]es, [n]o, [A]ll, [N]one, [r]ename: n\n",
            "Archive:  test.tsv.zip\n",
            "replace test.tsv? [y]es, [n]o, [A]ll, [N]one, [r]ename: n\n"
          ],
          "name": "stdout"
        }
      ]
    },
    {
      "cell_type": "code",
      "metadata": {
        "id": "D-EpYbvTXSLt",
        "colab_type": "code",
        "colab": {
          "base_uri": "https://localhost:8080/",
          "height": 213
        },
        "outputId": "c85f0ee7-26eb-405d-abc7-d5ac6e84d2d5"
      },
      "source": [
        "!head train.tsv"
      ],
      "execution_count": 9,
      "outputs": [
        {
          "output_type": "stream",
          "text": [
            "PhraseId\tSentenceId\tPhrase\tSentiment\n",
            "1\t1\tA series of escapades demonstrating the adage that what is good for the goose is also good for the gander , some of which occasionally amuses but none of which amounts to much of a story .\t1\n",
            "2\t1\tA series of escapades demonstrating the adage that what is good for the goose\t2\n",
            "3\t1\tA series\t2\n",
            "4\t1\tA\t2\n",
            "5\t1\tseries\t2\n",
            "6\t1\tof escapades demonstrating the adage that what is good for the goose\t2\n",
            "7\t1\tof\t2\n",
            "8\t1\tescapades demonstrating the adage that what is good for the goose\t2\n",
            "9\t1\tescapades\t2\n"
          ],
          "name": "stdout"
        }
      ]
    },
    {
      "cell_type": "code",
      "metadata": {
        "id": "64aMfWU8YrMX",
        "colab_type": "code",
        "colab": {}
      },
      "source": [
        "with open('./train.tsv', 'r') as file:\n",
        "    lines = [line.rstrip().split('\\t')[2:] for line in file if line != 'PhraseId\\tSentenceId\\tPhrase\\tSentiment\\n']\n",
        "    \n",
        "sentiments = np.array([int(line[1]) for line in lines])\n",
        "y = one_hot(sentiments)\n",
        "\n",
        "large_corpus = [[word.lower() for word in word_tokenize(line[0])] for line in lines if len([word.lower() for word in word_tokenize(line[0])]) > 0]"
      ],
      "execution_count": 0,
      "outputs": []
    },
    {
      "cell_type": "code",
      "metadata": {
        "id": "nOjgPqorpxr3",
        "colab_type": "code",
        "colab": {}
      },
      "source": [
        "corpus = [sentence for sentence in large_corpus if sentence[-1] == '.']\n",
        "\n",
        "word_counts = defaultdict(int)\n",
        "for row in corpus:\n",
        "    for word in row:\n",
        "        word_counts[word] += 1\n",
        "        \n",
        "vocab = sorted(list(word_counts.keys()), reverse = False)\n",
        "word_index = {word: i for i, word in enumerate(vocab)}\n",
        "index_word = {i: word for i, word in enumerate(vocab)}\n",
        "vocab_size = len(vocab)\n",
        "\n",
        "hidden_size = 128\n",
        "w2v = Word2Vec(corpus, min_count = 1, size = hidden_size, workers = 12, window = 5, iter = 500, sg = 1)\n",
        "\n",
        "# X = [[word_index[word] for word in sentence] for sentence in corpus]"
      ],
      "execution_count": 0,
      "outputs": []
    },
    {
      "cell_type": "markdown",
      "metadata": {
        "id": "1lPtV4pEVuUf",
        "colab_type": "text"
      },
      "source": [
        "### Train Model"
      ]
    },
    {
      "cell_type": "code",
      "metadata": {
        "id": "yVDX_tDNVuUf",
        "colab_type": "code",
        "colab": {
          "base_uri": "https://localhost:8080/",
          "height": 230
        },
        "outputId": "ef796312-6ef2-4743-ffdb-5284e8330e3a"
      },
      "source": [
        "rnn = RNN(hidden_size, y.shape[1], hidden_size, 6)\n",
        "total_losses = []\n",
        "epoch_size = 5000\n",
        "\n",
        "for i in range(1):\n",
        "    if i % 10 == 9:\n",
        "        clear_output()\n",
        "        plt.plot(total_losses)\n",
        "        plt.show()\n",
        "        print('Epoch: ' + str(i) + ' - Current Loss: ' + str(total_losses[-1]))\n",
        "    elif i > 0:\n",
        "        print('Epoch: ' + str(i) + ' - Current Loss: ' + str(total_losses[-1]))\n",
        "    losses = 0\n",
        "    idx = random.sample([i for i in range(epoch_size)], epoch_size)\n",
        "    for non_random_idx, i in enumerate(idx):\n",
        "        if non_random_idx % (epoch_size / 10) == 0:\n",
        "            print('    Batches Finished: ' + str(non_random_idx))\n",
        "        rnn.sgd_step(embed(corpus[i], hidden_size), y[i], .0001, 2)\n",
        "        losses += rnn.calc_total_loss(embed(corpus[i], hidden_size), y[i])\n",
        "    total_losses.append(losses / epoch_size)\n",
        "\n",
        "\n",
        "\n",
        "# plt.plot(losses)"
      ],
      "execution_count": 119,
      "outputs": [
        {
          "output_type": "stream",
          "text": [
            "    Batches Finished: 0\n"
          ],
          "name": "stdout"
        },
        {
          "output_type": "stream",
          "text": [
            "/usr/local/lib/python3.6/dist-packages/ipykernel_launcher.py:19: DeprecationWarning: Call to deprecated `__getitem__` (Method will be removed in 4.0.0, use self.wv.__getitem__() instead).\n"
          ],
          "name": "stderr"
        },
        {
          "output_type": "stream",
          "text": [
            "    Batches Finished: 500\n",
            "    Batches Finished: 1000\n",
            "    Batches Finished: 1500\n",
            "    Batches Finished: 2000\n",
            "    Batches Finished: 2500\n",
            "    Batches Finished: 3000\n",
            "    Batches Finished: 3500\n",
            "    Batches Finished: 4000\n",
            "    Batches Finished: 4500\n"
          ],
          "name": "stdout"
        }
      ]
    },
    {
      "cell_type": "markdown",
      "metadata": {
        "id": "yjsNN4-3VuUj",
        "colab_type": "text"
      },
      "source": [
        "### Predict Sentiment From Trained Model"
      ]
    },
    {
      "cell_type": "code",
      "metadata": {
        "id": "LPyh55E3VuUj",
        "colab_type": "code",
        "colab": {
          "base_uri": "https://localhost:8080/",
          "height": 406
        },
        "outputId": "09eaed84-6bbd-4e80-fe7e-31a48646229d"
      },
      "source": [
        "print(y[50:60])\n",
        "[rnn.forward_propagation(embed(sentence, hidden_size))[0][len(sentence) -1, :] for sentence in corpus[50:60]]\n"
      ],
      "execution_count": 121,
      "outputs": [
        {
          "output_type": "stream",
          "text": [
            "[[0. 0. 1. 0. 0.]\n",
            " [0. 0. 1. 0. 0.]\n",
            " [0. 0. 1. 0. 0.]\n",
            " [0. 0. 1. 0. 0.]\n",
            " [0. 0. 1. 0. 0.]\n",
            " [0. 0. 1. 0. 0.]\n",
            " [0. 0. 1. 0. 0.]\n",
            " [0. 0. 1. 0. 0.]\n",
            " [0. 0. 1. 0. 0.]\n",
            " [0. 0. 1. 0. 0.]]\n"
          ],
          "name": "stdout"
        },
        {
          "output_type": "stream",
          "text": [
            "/usr/local/lib/python3.6/dist-packages/ipykernel_launcher.py:19: DeprecationWarning: Call to deprecated `__getitem__` (Method will be removed in 4.0.0, use self.wv.__getitem__() instead).\n"
          ],
          "name": "stderr"
        },
        {
          "output_type": "execute_result",
          "data": {
            "text/plain": [
              "[array([0.09560893, 0.14054741, 0.47282912, 0.1690501 , 0.12196444]),\n",
              " array([0.11832074, 0.1841777 , 0.39476113, 0.1680638 , 0.13467662]),\n",
              " array([0.11832306, 0.18418106, 0.39475416, 0.16806421, 0.13467751]),\n",
              " array([0.06855058, 0.12728227, 0.57020102, 0.13676098, 0.09720515]),\n",
              " array([0.06864851, 0.12735809, 0.5697736 , 0.1369038 , 0.097316  ]),\n",
              " array([0.10114049, 0.18027122, 0.46662251, 0.14763339, 0.1043324 ]),\n",
              " array([0.10114205, 0.18027319, 0.46661781, 0.14763326, 0.10433369]),\n",
              " array([0.11294759, 0.1635729 , 0.42299351, 0.17485072, 0.12563527]),\n",
              " array([0.11464125, 0.16469108, 0.41864752, 0.17575831, 0.12626185]),\n",
              " array([0.09826658, 0.15512971, 0.47978986, 0.15405778, 0.11275607])]"
            ]
          },
          "metadata": {
            "tags": []
          },
          "execution_count": 121
        }
      ]
    }
  ]
}
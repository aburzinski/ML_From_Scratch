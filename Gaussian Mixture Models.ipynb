{
 "cells": [
  {
   "cell_type": "markdown",
   "metadata": {},
   "source": [
    "### Import Packages"
   ]
  },
  {
   "cell_type": "code",
   "execution_count": 266,
   "metadata": {},
   "outputs": [],
   "source": [
    "import numpy as np\n",
    "import matplotlib.pyplot as plt\n",
    "from sklearn.datasets import make_moons"
   ]
  },
  {
   "cell_type": "markdown",
   "metadata": {},
   "source": [
    "### Create Necessary Functions"
   ]
  },
  {
   "cell_type": "code",
   "execution_count": 75,
   "metadata": {},
   "outputs": [],
   "source": [
    "def gaussian_prob(x_i, mu, Sigma):\n",
    "    n = len(mean)\n",
    "    return (1/((2 * np.pi) ** (n/2) * np.linalg.det(Sigma) ** (1/2)) *\n",
    "                np.exp(-1/2 * np.linalg.multi_dot([np.transpose(x_i - mu), np.linalg.inv(Sigma), (x_i - mu)])))"
   ]
  },
  {
   "cell_type": "code",
   "execution_count": 90,
   "metadata": {},
   "outputs": [],
   "source": [
    "def point_prob(x_i, col, pi, mean, cov):\n",
    "    denom = 0\n",
    "    for i in range(len(pi)):\n",
    "        denom += gaussian_prob(x_i, mean[i, :], cov[i])\n",
    "    num = gaussian_prob(x_i, mean[col, :], cov[col]) * pi[col]\n",
    "    return num / denom"
   ]
  },
  {
   "cell_type": "code",
   "execution_count": 99,
   "metadata": {},
   "outputs": [],
   "source": [
    "def calc_probs(data, k, pi, mean, cov):\n",
    "    probs = np.zeros([data.shape[0], k])\n",
    "    for row in range(data.shape[0]):\n",
    "        for col in range(k):\n",
    "            probs[row, col] = point_prob(data[row, :], col, pi, mean, cov)\n",
    "            \n",
    "    return probs"
   ]
  },
  {
   "cell_type": "code",
   "execution_count": 259,
   "metadata": {},
   "outputs": [],
   "source": [
    "def update_weights(data, probs, k):\n",
    "    m = np.sum(probs, axis = 0)\n",
    "    pi = m / np.sum(m)\n",
    "    mean = np.multiply(np.dot(np.transpose(probs), data), (1 / m).reshape(-1, 1))\n",
    "    for c in range(k):\n",
    "        r_c = np.diag(probs[:, c])\n",
    "        cov[c] = np.linalg.multi_dot([np.transpose(data - mean[c, :]), r_c, (data - mean[c, :])]) / m[c]\n",
    "    return (pi, mean, cov)"
   ]
  },
  {
   "cell_type": "code",
   "execution_count": 215,
   "metadata": {},
   "outputs": [],
   "source": [
    "def calc_ll(data, pi, mean, cov):\n",
    "    ll = 0\n",
    "    for row in range(data.shape[0]):\n",
    "        row_sum = 0\n",
    "        for col in range(len(pi)):\n",
    "            row_sum += gaussian_prob(data[row, :], mean[col, :], cov[col])\n",
    "        ll += np.log(row_sum)\n",
    "    return ll"
   ]
  },
  {
   "cell_type": "code",
   "execution_count": 239,
   "metadata": {},
   "outputs": [],
   "source": [
    "def initialize_gmm(data, k):\n",
    "    pi = np.ones(k) * 1/k\n",
    "    mean_idx = np.random.choice(data.shape[0], size = k, replace = False)\n",
    "    mean = data[mean_idx,:]\n",
    "    cov = np.diag(np.ones(data.shape[1])) * np.ones([k, data.shape[1], data.shape[1]])\n",
    "        \n",
    "    return (pi, mean, cov)"
   ]
  },
  {
   "cell_type": "code",
   "execution_count": 261,
   "metadata": {},
   "outputs": [],
   "source": [
    "def iterate_gmm(data, k, pi, mean, cov):\n",
    "    log_like = calc_ll(data, pi, mean, cov)\n",
    "    while True:\n",
    "        probs = calc_probs(data, k, pi, mean, cov)\n",
    "        pi, mean, cov = update_weights(data, probs, k)\n",
    "        if np.abs(calc_ll(data, pi, mean, cov) - log_like) < 1e-3:\n",
    "            break\n",
    "        log_like = calc_ll(data, pi, mean, cov)\n",
    "        print(log_like)\n",
    "    return (pi, mean, cov, probs)"
   ]
  },
  {
   "cell_type": "markdown",
   "metadata": {},
   "source": [
    "### Generate Dataset"
   ]
  },
  {
   "cell_type": "code",
   "execution_count": 267,
   "metadata": {},
   "outputs": [
    {
     "data": {
      "image/png": "[encoded data removed]",
      "text/plain": [
       "<Figure size 432x288 with 1 Axes>"
      ]
     },
     "metadata": {
      "needs_background": "light"
     },
     "output_type": "display_data"
    }
   ],
   "source": [
    "mean_1 = np.array([3, 3])\n",
    "cov_1 = np.array([[1, .2],\n",
    "                  [.2, .5]])\n",
    "\n",
    "mean_2 = np.array([0, 0])\n",
    "cov_2 = np.array([[1, 0],\n",
    "                  [0, 1.5]])\n",
    "\n",
    "mean_3 = np.array([2, 0])\n",
    "cov_3 = np.array([[.5, -.2],\n",
    "                  [-.2, .5]])\n",
    "\n",
    "a = np.random.normal(size = [100, 2])\n",
    "\n",
    "data_1 = np.dot(a, cov_1) + mean_1\n",
    "data_2 = np.dot(a, cov_2) + mean_2\n",
    "data_3 = np.dot(a, cov_3) + mean_3\n",
    "\n",
    "# plt.scatter(data_1[:, 0], data_1[:, 1], color = 'C0')\n",
    "# plt.scatter(data_2[:, 0], data_2[:, 1], color = 'C1')\n",
    "# plt.scatter(data_3[:, 0], data_3[:, 1], color = 'C2')\n",
    "\n",
    "data = np.append(data_1, data_2, axis = 0)\n",
    "data = np.append(data, data_3, axis = 0)\n",
    "\n",
    "Xmoon, ymoon = make_moons(200, noise=.05, random_state=0)\n",
    "plt.scatter(Xmoon[:, 0], Xmoon[:, 1]);\n",
    "data = Xmoon"
   ]
  },
  {
   "cell_type": "markdown",
   "metadata": {},
   "source": [
    "### Perform Clustering"
   ]
  },
  {
   "cell_type": "code",
   "execution_count": 330,
   "metadata": {},
   "outputs": [
    {
     "name": "stdout",
     "output_type": "stream",
     "text": [
      "-3078.754511643388\n",
      "-3072.1456391113165\n",
      "-3062.7927758491874\n",
      "-3051.9495018656735\n",
      "-3040.4199623365544\n",
      "-3027.7015174255916\n",
      "-3013.9407059967607\n",
      "-2998.418584199237\n",
      "-2980.3622528061856\n",
      "-2961.42980040014\n",
      "-2942.8298795301093\n",
      "-2923.5622897916655\n",
      "-2903.0970904905234\n",
      "-2884.829973099\n",
      "-2869.8840665020757\n",
      "-2858.089323592526\n",
      "-2849.318867620536\n",
      "-2843.8493375752264\n",
      "-2840.0881917716165\n",
      "-2836.2599415066265\n",
      "-2830.42904675206\n",
      "-2820.042176558588\n",
      "-2811.118829068609\n",
      "-2805.1061048318356\n",
      "-2800.385908809946\n",
      "-2796.771465277526\n",
      "-2793.0341770230807\n",
      "-2788.019141561404\n",
      "-2780.981678700031\n",
      "-2773.968157857361\n",
      "-2768.748759261814\n",
      "-2764.6956897325135\n",
      "-2761.64700382142\n",
      "-2759.2006289144147\n",
      "-2757.4630195866994\n",
      "-2755.943060024208\n",
      "-2754.2986363822706\n",
      "-2752.5926577150735\n",
      "-2751.0108906704086\n",
      "-2749.5871294202834\n",
      "-2748.2972862554084\n",
      "-2747.112670531081\n",
      "-2745.9556652252036\n",
      "-2744.780020627897\n",
      "-2743.5642432745103\n",
      "-2742.294148842869\n",
      "-2741.1253184334223\n",
      "-2740.128786850276\n",
      "-2739.201337762632\n",
      "-2738.4159557948255\n",
      "-2737.9310159305555\n",
      "-2737.6876116907742\n",
      "-2737.534874209424\n",
      "-2737.4037523936663\n",
      "-2737.2792611610275\n",
      "-2737.1610661363293\n",
      "-2737.050513555388\n",
      "-2736.94694958395\n",
      "-2736.8478426677116\n",
      "-2736.750014510072\n",
      "-2736.6505906419898\n",
      "-2736.5480539410505\n",
      "-2736.443914313997\n",
      "-2736.34389862215\n",
      "-2736.255871141775\n",
      "-2736.1846760271833\n",
      "-2736.129644109523\n",
      "-2736.086931739679\n",
      "-2736.052545773326\n",
      "-2736.023529631525\n",
      "-2735.997875393899\n",
      "-2735.9741473132717\n",
      "-2735.951224522868\n",
      "-2735.9281962335394\n",
      "-2735.9043524560675\n",
      "-2735.87922824193\n",
      "-2735.8526827973183\n",
      "-2735.8250016348547\n",
      "-2735.7969899706886\n",
      "-2735.7699709114163\n",
      "-2735.7455531018195\n",
      "-2735.7251241979625\n",
      "-2735.70931802212\n",
      "-2735.697865530227\n",
      "-2735.689916880235\n",
      "-2735.6844983156243\n",
      "-2735.6807929886068\n",
      "-2735.6782126064504\n",
      "-2735.6763632523125\n",
      "-2735.6749879751264\n",
      "-2735.673918861576\n",
      "[[ 0.15484449 -0.05278735]\n",
      " [ 0.33808858 -0.16684318]\n",
      " [-0.01860192  0.31450482]\n",
      " [ 0.60965432  0.75768571]\n",
      " [-0.54564543  0.83537028]\n",
      " [ 1.77859926 -0.11337266]\n",
      " [-0.84072635  0.50325305]\n",
      " [ 1.07275316 -0.47876647]\n",
      " [ 0.86288149  0.48488813]\n",
      " [-0.39811888  0.87254817]\n",
      " [ 0.75767777 -0.45031678]\n",
      " [ 0.82720577 -0.45951574]\n",
      " [ 1.34150069 -0.38527702]\n",
      " [ 1.54213574 -0.35832607]\n",
      " [ 0.23347415  0.99220296]\n",
      " [ 0.98056067  0.15024385]\n",
      " [ 1.95452959  0.28936397]\n",
      " [-0.98612321  0.21296572]\n",
      " [ 0.09927406  0.94368168]\n",
      " [ 0.26312542 -0.09051415]]\n",
      "[[[ 0.00403265 -0.00653022]\n",
      "  [-0.00653022  0.01259355]]\n",
      "\n",
      " [[ 0.02869914 -0.03172457]\n",
      "  [-0.03172457  0.03575931]]\n",
      "\n",
      " [[ 0.00287639 -0.00553951]\n",
      "  [-0.00553951  0.0115527 ]]\n",
      "\n",
      " [[ 0.00379574 -0.0054184 ]\n",
      "  [-0.0054184   0.01247218]]\n",
      "\n",
      " [[ 0.02818615  0.02070245]\n",
      "  [ 0.02070245  0.01683178]]\n",
      "\n",
      " [[ 0.01242713  0.00772599]\n",
      "  [ 0.00772599  0.00714041]]\n",
      "\n",
      " [[ 0.0104424   0.00927889]\n",
      "  [ 0.00927889  0.01329123]]\n",
      "\n",
      " [[ 0.03766268 -0.00162642]\n",
      "  [-0.00162642  0.00035664]]\n",
      "\n",
      " [[ 0.00383842 -0.00585357]\n",
      "  [-0.00585357  0.01166108]]\n",
      "\n",
      " [[ 0.05180908  0.01187809]\n",
      "  [ 0.01187809  0.00586864]]\n",
      "\n",
      " [[ 0.01488575 -0.00600981]\n",
      "  [-0.00600981  0.00485627]]\n",
      "\n",
      " [[ 0.10804679 -0.02773262]\n",
      "  [-0.02773262  0.0071234 ]]\n",
      "\n",
      " [[ 0.03004053  0.00397286]\n",
      "  [ 0.00397286  0.00065125]]\n",
      "\n",
      " [[ 0.02205691  0.00700846]\n",
      "  [ 0.00700846  0.00320676]]\n",
      "\n",
      " [[ 0.02745219 -0.00781656]\n",
      "  [-0.00781656  0.00279771]]\n",
      "\n",
      " [[ 0.00114274 -0.00013043]\n",
      "  [-0.00013043  0.01281766]]\n",
      "\n",
      " [[ 0.00247872  0.00279216]\n",
      "  [ 0.00279216  0.01995441]]\n",
      "\n",
      " [[ 0.00354177  0.00401801]\n",
      "  [ 0.00401801  0.02752441]]\n",
      "\n",
      " [[ 0.06580929 -0.01355375]\n",
      "  [-0.01355375  0.003235  ]]\n",
      "\n",
      " [[ 0.02204675 -0.04466229]\n",
      "  [-0.04466229  0.0912094 ]]]\n"
     ]
    }
   ],
   "source": [
    "# Initialize mean, cov, pi\n",
    "k = 20\n",
    "\n",
    "pi, mean, cov = initialize_gmm(data, k)\n",
    "pi, mean, cov, probs = iterate_gmm(data, k, pi, mean, cov)\n",
    "\n",
    "print(mean)\n",
    "print(cov)"
   ]
  },
  {
   "cell_type": "code",
   "execution_count": 332,
   "metadata": {},
   "outputs": [
    {
     "data": {
      "text/plain": [
       "<matplotlib.collections.PathCollection at 0x222827fac50>"
      ]
     },
     "execution_count": 332,
     "metadata": {},
     "output_type": "execute_result"
    },
    {
     "data": {
      "image/png": "[encoded data removed]",
      "text/plain": [
       "<Figure size 432x288 with 1 Axes>"
      ]
     },
     "metadata": {
      "needs_background": "light"
     },
     "output_type": "display_data"
    },
    {
     "data": {
      "image/png": "[encoded data removed]",
      "text/plain": [
       "<Figure size 432x288 with 1 Axes>"
      ]
     },
     "metadata": {
      "needs_background": "light"
     },
     "output_type": "display_data"
    }
   ],
   "source": [
    "preds = np.argmax(probs, axis = 1)\n",
    "colors = ['C' + str(preds[i]) for i in range(len(preds))]\n",
    "plt.figure(0)\n",
    "plt.scatter(data[:, 0], data[:, 1], color = colors)\n",
    "\n",
    "counts = np.unique(preds, return_counts = True)\n",
    "point_probs = []\n",
    "for i in range(k):\n",
    "    if i in counts[0]:\n",
    "        point_probs.append(counts[1][np.where(i == counts[0])[0][0]])\n",
    "    else:\n",
    "        point_probs.append(0)\n",
    "point_probs = point_probs / np.sum(point_probs)\n",
    "point_probs\n",
    "\n",
    "new_idx = np.random.choice(len(pi), size = 200, p = point_probs)\n",
    "new_points = np.zeros([100, 2])\n",
    "for i in range(100):\n",
    "    new_points[i, :] = np.random.multivariate_normal(mean = mean[new_idx[i], :], cov = cov[new_idx[i]], size = 1)\n",
    "\n",
    "plt.figure(1)\n",
    "plt.scatter(new_points[:, 0], new_points[:, 1])\n"
   ]
  }
 ],
 "metadata": {
  "kernelspec": {
   "display_name": "Python (tensorflow)",
   "language": "python",
   "name": "tensorflow"
  },
  "language_info": {
   "codemirror_mode": {
    "name": "ipython",
    "version": 3
   },
   "file_extension": ".py",
   "mimetype": "text/x-python",
   "name": "python",
   "nbconvert_exporter": "python",
   "pygments_lexer": "ipython3",
   "version": "3.7.3"
  }
 },
 "nbformat": 4,
 "nbformat_minor": 2
}

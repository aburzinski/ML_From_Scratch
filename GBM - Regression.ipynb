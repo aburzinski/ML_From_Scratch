{
 "cells": [
  {
   "cell_type": "markdown",
   "metadata": {},
   "source": [
    "### Import Numpy"
   ]
  },
  {
   "cell_type": "code",
   "execution_count": 158,
   "metadata": {},
   "outputs": [],
   "source": [
    "import numpy as np\n",
    "from sklearn import datasets\n",
    "from sklearn.model_selection import train_test_split\n",
    "import matplotlib.pyplot as plt"
   ]
  },
  {
   "cell_type": "markdown",
   "metadata": {},
   "source": [
    "### Create GBM Object"
   ]
  },
  {
   "cell_type": "code",
   "execution_count": 110,
   "metadata": {},
   "outputs": [],
   "source": [
    "class GBM:\n",
    "    \n",
    "    def __init__(self, X, y, predict_fn, score_fn, max_depth = 3, n_trees = 5):\n",
    "    \n",
    "        self.trees = []\n",
    "        self.errors = []\n",
    "        self.trees.append(Tree(X, y, predict_fn, score_fn, max_depth))\n",
    "        \n",
    "        for i in range(1, n_trees):\n",
    "            if i % 20 == 0: print('Creating tree '+ str(i))\n",
    "            error = self.get_error_term(i - 1, X, y)\n",
    "            self.errors.append(error)\n",
    "            self.trees.append(Tree(X, error, predict_fn, score_fn, max_depth))\n",
    "\n",
    "    def __str__(self):\n",
    "        return 'A GBM model with ' + str(len(self.trees)) + ' trees'\n",
    "    \n",
    "    def predict_ith_tree(self, ith_tree, X):\n",
    "        preds = np.zeros(X.shape[0])\n",
    "        for i in range(ith_tree + 1):\n",
    "            preds = preds + self.trees[i].predict(X)\n",
    "        return preds\n",
    "    \n",
    "    def predict(self, X):\n",
    "        return self.predict_ith_tree(len(self.trees) - 1, X)\n",
    "    \n",
    "    def get_error_term(self, i, X, y):\n",
    "        return y - self.predict_ith_tree(i, X)"
   ]
  },
  {
   "cell_type": "markdown",
   "metadata": {},
   "source": [
    "### Create Tree Object"
   ]
  },
  {
   "cell_type": "code",
   "execution_count": 24,
   "metadata": {},
   "outputs": [],
   "source": [
    "class Tree:\n",
    "    \n",
    "    def __init__(self, X, y, predict_fn, score_fn, max_depth = 3):\n",
    "        self.rootNode = Node('Root', X, y, predict_fn, score_fn,\n",
    "                             idxs = np.arange(len(y)), max_depth = max_depth, current_depth = 0)\n",
    "        \n",
    "    def predict(self, X):\n",
    "        return self.rootNode.predict(X)\n",
    "    \n",
    "    def __str__(self):\n",
    "        return self.rootNode.__str__()"
   ]
  },
  {
   "cell_type": "markdown",
   "metadata": {},
   "source": [
    "### Create Node Object"
   ]
  },
  {
   "cell_type": "code",
   "execution_count": 25,
   "metadata": {},
   "outputs": [],
   "source": [
    "class Node:\n",
    "    \n",
    "    def __init__(self, name, X, y, predict_fn, score_fn, idxs, max_depth, current_depth):\n",
    "        \n",
    "\n",
    "        self.name = name\n",
    "        self.X = X[idxs, :]\n",
    "        self.y = y[idxs]\n",
    "        self.predict_fn = predict_fn\n",
    "        self.score_fn = score_fn\n",
    "        self.idxs = idxs\n",
    "        self.num_rows = self.X.shape[0]\n",
    "        self.num_cols = self.X.shape[1]\n",
    "        self.score = float('inf')\n",
    "        self.split_col_idx = 0\n",
    "        self.split_value = None\n",
    "        self.max_depth = max_depth\n",
    "        self.current_depth = current_depth\n",
    "        \n",
    "        self.current_depth += 1\n",
    "        if self.current_depth > self.max_depth:\n",
    "            return\n",
    "        \n",
    "        self.find_best_split()\n",
    "        self.create_child_nodes()\n",
    "        \n",
    "        \n",
    "        \n",
    "    def find_best_split(self):\n",
    "        for col in range(self.num_cols):\n",
    "            for row in range(self.num_rows):\n",
    "                if self.calculate_score(self.X[row, col], col) < self.score:\n",
    "                    self.score = self.calculate_score(self.X[row, col], col)\n",
    "                    self.split_col_idx = col\n",
    "                    self.split_value = self.X[row, col]\n",
    "      \n",
    "    def calculate_score(self, value, col_idx):\n",
    "        return self.score_fn(self.X, self.y, value, col_idx)\n",
    "    \n",
    "    def create_child_nodes(self):\n",
    "        \n",
    "        lhs_idx = np.where(self.X[:, self.split_col_idx] <= self.split_value)[0]\n",
    "        rhs_idx = np.where(self.X[:, self.split_col_idx] > self.split_value)[0]\n",
    "        \n",
    "        if len(lhs_idx) == 0 or len(rhs_idx) == 0:\n",
    "            self.score = float('inf')\n",
    "            return\n",
    "        \n",
    "        self.lhn = Node(self.name + ' - Left', self.X, self.y, self.predict_fn, self.score_fn,\n",
    "                        lhs_idx, self.max_depth, self.current_depth)\n",
    "        self.rhn = Node(self.name + ' - Right', self.X, self.y, self.predict_fn, self.score_fn,\n",
    "                        rhs_idx, self.max_depth, self.current_depth)\n",
    "        \n",
    "    def predict_row(self, new_X_i):\n",
    "        if self.score == float('inf'):\n",
    "            return self.predict_fn(self.y)\n",
    "        else:\n",
    "            if new_X_i[self.split_col_idx] <= self.split_value:\n",
    "                return self.lhn.predict_row(new_X_i)\n",
    "            else:\n",
    "                return self.rhn.predict_row(new_X_i)\n",
    "            \n",
    "    def predict(self, new_X):\n",
    "        return [self.predict_row(new_X[i]) for i in range(new_X.shape[0])]\n",
    "    \n",
    "    def __str__(self):\n",
    "        if self.score == float('inf'):\n",
    "            return ('\\n' + '  ' * (self.current_depth - 1) + 'Rows: ' + str(self.num_rows) +\n",
    "                   ' - Prediction: ' + str(self.predict_fn(self.y)))\n",
    "        else:\n",
    "            return ('\\n' + '  ' * (self.current_depth - 1) + 'Rows: ' + str(self.num_rows) +\n",
    "                    ' - Split Col: ' + str(self.split_col_idx) + ' - Split Value: ' + str(self.split_value) +\n",
    "                    ' - Score: ' + str(self.score) + self.lhn.__str__() + self.rhn.__str__())"
   ]
  },
  {
   "cell_type": "markdown",
   "metadata": {},
   "source": [
    "### Create Scoring Function"
   ]
  },
  {
   "cell_type": "code",
   "execution_count": 26,
   "metadata": {},
   "outputs": [],
   "source": [
    "def find_rmse(X, y, value, col_idx):\n",
    "    lhs = np.where(X[:, col_idx] <= value)[0]\n",
    "    rhs = np.where(X[:, col_idx] > value)[0]\n",
    "    \n",
    "    lhs_mean = predict_mean(y[lhs])\n",
    "    rhs_mean = predict_mean(y[rhs])\n",
    "    \n",
    "    preds = np.zeros(len(y))\n",
    "    preds[lhs] = lhs_mean\n",
    "    preds[rhs] = rhs_mean\n",
    "    \n",
    "    return np.sqrt(np.mean((y - preds) ** 2))"
   ]
  },
  {
   "cell_type": "markdown",
   "metadata": {},
   "source": [
    "### Create Prediction Logic Function"
   ]
  },
  {
   "cell_type": "code",
   "execution_count": 27,
   "metadata": {},
   "outputs": [],
   "source": [
    "def predict_mean(y):\n",
    "    return np.mean(y)"
   ]
  },
  {
   "cell_type": "markdown",
   "metadata": {},
   "source": [
    "### Import Data"
   ]
  },
  {
   "cell_type": "code",
   "execution_count": 112,
   "metadata": {},
   "outputs": [],
   "source": [
    "iris = datasets.load_iris() # Classification\n",
    "wine = datasets.load_wine() # Classification\n",
    "breast_cancer = datasets.load_breast_cancer() # Classification\n",
    "boston = datasets.load_boston() # Regression\n",
    "diabetes = datasets.load_diabetes() # Regression\n",
    "\n",
    "train_X, test_X, train_y, test_y = train_test_split(boston['data'], boston['target'],\n",
    "                                                    test_size = .5, random_state = 0)\n"
   ]
  },
  {
   "cell_type": "markdown",
   "metadata": {},
   "source": [
    "### Train and Test Model"
   ]
  },
  {
   "cell_type": "code",
   "execution_count": 166,
   "metadata": {},
   "outputs": [
    {
     "name": "stdout",
     "output_type": "stream",
     "text": [
      "Creating tree 20\n",
      "A GBM model with 34 trees\n",
      "[26.02364577 21.28797555 24.25538649  6.71115251 20.00723703 19.27957926\n",
      " 22.06345277 19.92410668 24.75069293 19.20207995  9.48565438 11.18991092\n",
      " 13.5877168   5.41043589 48.91817922 40.74266091 20.01916473 37.33336625\n",
      " 26.93694466 22.05568431 23.19569217 23.47642362 21.56157515 26.60423867\n",
      " 22.53266034 17.44203137 18.51141626 15.88977861 39.61932203 19.8922516\n",
      " 16.76839385 20.59538671 18.29395798 21.13189456 26.38543994 20.36375507\n",
      "  7.33803702 19.99047704 14.43875409 14.6128849  24.99934116 21.73360356\n",
      " 21.96728015 14.83444719 23.33044637 20.0995609  18.39323267 14.44395322\n",
      " 15.9005347  22.34889647 17.54629226 19.82123205 22.18405283 42.36726621\n",
      " 12.040815   18.36584156 19.39576218 17.64299674 13.36258914 20.68840183\n",
      " 27.75327    23.3267571  31.10105879 32.50719747 21.57382064 35.90711118\n",
      " 19.01326638 18.50519851 10.07915584 25.01452496 19.88100085 21.27078335\n",
      " 26.62464962 32.33024219 27.39459338  5.87242312 41.56557069 24.36003661\n",
      " 23.13937771 19.84159549 28.42458715 20.99336481 14.88124891 40.95752236\n",
      " 43.78592412 22.34024478 24.69035835 15.71745425 24.11279748 17.13182921\n",
      " 16.2541746  13.34443183 24.60080066 31.61971189 20.25017892 22.23807513\n",
      " 16.88580768 17.87517559 16.69596567 17.49159462 27.16359455 21.99719036\n",
      " 25.31174589 22.34161528 24.27043803 19.6273288   5.73650256 14.65131338\n",
      " 19.15022486 24.45933632 32.04320425  9.67092908 18.39801546 16.6717863\n",
      " 15.77144286 21.46089885 13.01384914 20.36538874 15.31194165 45.22470488\n",
      " 34.02544924  6.08524746 17.68790522 19.37044403 20.87255071 17.67399273\n",
      " 49.0309955  15.28151772 19.87259937 31.32174962 11.99331511 15.3402404\n",
      " 15.99171648 19.80673824 15.20642154 35.95057405 24.03021089 15.9005347\n",
      " 27.14976296 10.15626838 10.12686961 20.2729932  34.63520047 25.3980694\n",
      " 22.1676658  17.6954546  35.97879835 30.21379613 11.97705073  4.32577232\n",
      " 29.05202237 23.86814049 12.70820286 29.56785537 18.20135233 34.83309752\n",
      " 17.88890199 14.45654631 19.05166916 13.98299829 14.72207621 18.29350787\n",
      " 33.2603865  30.64418024 23.39846183 20.30841678 29.65544925 23.04631334\n",
      " 29.72492505 15.47089534 31.47518461 16.50867399 21.47069943 22.84839142\n",
      " 22.84945654 10.53884486 16.38345003 16.49858182 24.31669174 21.43041462\n",
      " 15.37028335 17.08266437 19.01586749 22.64259064 17.70776354 23.01573744\n",
      " 22.93078256 29.67689268 42.85146357 14.62526516 13.8993724  29.47578019\n",
      " 30.51202955 21.45669823 57.50726064 25.79477886 23.62256738 21.69454177\n",
      " 27.33285094 48.2090598  24.6323489  21.81888015 47.59045034 34.7084162\n",
      " 15.02832602 23.80696551 21.26979711 21.08500855 22.94897603 20.75961756\n",
      " 28.22845911 24.42322349 14.8810299  21.12106868 20.53204464 13.1580283\n",
      " 13.65903845 28.10228405 15.14074958 29.41257434  9.14253431 20.34669115\n",
      " 18.25086993 13.53818763 23.6643276  21.66524115 13.12799835 21.92546499\n",
      " 23.25737099 19.56356937 16.02535167 23.9822551  22.58627986 31.50453059\n",
      " 22.28961103 23.97060093 14.50747097 21.83032127 30.73932652 17.35985519\n",
      " 43.05875403 23.68398582 19.94881926 17.11876308 33.34456597 31.77021815\n",
      " 30.11349314 18.57866487 25.57533683 15.73995988  4.99673348 11.89190642\n",
      " 14.50178523]\n",
      "[22.6 50.  23.   8.3 21.2 19.9 20.6 18.7 16.1 18.6  8.8 17.2 14.9 10.5\n",
      " 50.  29.  23.  33.3 29.4 21.  23.8 19.1 20.4 29.1 19.3 23.1 19.6 19.4\n",
      " 38.7 18.7 14.6 20.  20.5 20.1 23.6 16.8  5.6 50.  14.5 13.3 23.9 20.\n",
      " 19.8 13.8 16.5 21.6 20.3 17.  11.8 27.5 15.6 23.1 24.3 42.8 15.6 21.7\n",
      " 17.1 17.2 15.  21.7 18.6 21.  33.1 31.5 20.1 29.8 15.2 15.  27.5 22.6\n",
      " 20.  21.4 23.5 31.2 23.7  7.4 48.3 24.4 22.6 18.3 23.3 17.1 27.9 44.8\n",
      " 50.  23.  21.4 10.2 23.3 23.2 18.9 13.4 21.9 24.8 11.9 24.3 13.8 24.7\n",
      " 14.1 18.7 28.1 19.8 26.7 21.7 22.  22.9 10.4 21.9 20.6 26.4 41.3 17.2\n",
      " 27.1 20.4 16.5 24.4  8.4 23.   9.7 50.  30.5 12.3 19.4 21.2 20.3 18.8\n",
      " 33.4 18.5 19.6 33.2 13.1  7.5 13.6 17.4  8.4 35.4 24.  13.4 26.2  7.2\n",
      " 13.1 24.5 37.2 25.  24.1 16.6 32.9 36.2 11.   7.2 22.8 28.7 14.4 24.4\n",
      " 18.1 22.5 20.5 15.2 17.4 13.6  8.7 18.2 35.4 31.7 33.  22.2 20.4 23.9\n",
      " 25.  12.7 29.1 12.  17.7 27.  20.6 10.2 17.5 19.7 29.8 20.5 14.9 10.9\n",
      " 19.5 22.7 19.5 24.6 25.  24.5 50.  14.3 11.8 31.  28.7 16.2 43.5 25.\n",
      " 22.  19.9 22.1 46.  22.9 20.2 43.1 34.6 13.8 24.3 21.5 24.4 21.2 23.8\n",
      " 26.6 25.1  9.6 19.4 19.4  9.5 14.  26.5 13.8 34.7 16.3 21.7 17.5 15.6\n",
      " 20.9 21.7 12.7 18.5 23.7 19.3 12.7 21.6 23.2 29.6 21.2 23.8 17.1 22.\n",
      " 36.5 18.8 21.9 23.1 20.2 17.4 37.  24.1 36.2 15.7 32.2 13.5 17.9 13.3\n",
      " 11.7]\n"
     ]
    },
    {
     "data": {
      "text/plain": [
       "5.061892880830706"
      ]
     },
     "execution_count": 166,
     "metadata": {},
     "output_type": "execute_result"
    }
   ],
   "source": [
    "gbm = GBM(train_X, train_y, predict_mean, find_rmse, max_depth = 2, n_trees = 34)\n",
    "\n",
    "print(gbm)\n",
    "\n",
    "print(gbm.predict(test_X))\n",
    "print(test_y)\n",
    "\n",
    "np.sqrt(np.mean((gbm.predict(test_X) - test_y) ** 2))\n",
    "# np.mean(gbm.predict(test_X) == test_y)"
   ]
  },
  {
   "cell_type": "code",
   "execution_count": 167,
   "metadata": {},
   "outputs": [
    {
     "name": "stdout",
     "output_type": "stream",
     "text": [
      "Model 0\n",
      "Model 2\n",
      "Model 4\n",
      "Model 6\n",
      "Model 8\n",
      "Model 10\n",
      "Model 12\n",
      "Model 14\n",
      "Model 16\n",
      "Model 18\n",
      "Model 20\n",
      "Model 22\n",
      "Creating tree 20\n",
      "Model 24\n",
      "Creating tree 20\n",
      "Model 26\n",
      "Creating tree 20\n",
      "Model 28\n",
      "Creating tree 20\n",
      "Model 30\n",
      "Creating tree 20\n",
      "Model 32\n",
      "Creating tree 20\n",
      "Model 34\n",
      "Creating tree 20\n",
      "Model 36\n",
      "Creating tree 20\n",
      "Model 38\n",
      "Creating tree 20\n"
     ]
    },
    {
     "data": {
      "text/plain": [
       "[<matplotlib.lines.Line2D at 0x22415532048>]"
      ]
     },
     "execution_count": 167,
     "metadata": {},
     "output_type": "execute_result"
    },
    {
     "data": {
      "image/png": "[encoded data removed]",
      "text/plain": [
       "<Figure size 432x288 with 1 Axes>"
      ]
     },
     "metadata": {
      "needs_background": "light"
     },
     "output_type": "display_data"
    }
   ],
   "source": [
    "data = []\n",
    "for i in range(0, 40, 2):\n",
    "    print('Model ' + str(i))\n",
    "    gbm = GBM(train_X, train_y, predict_mean, find_rmse, max_depth = 3, n_trees = i)\n",
    "    data.append(np.sqrt(np.mean((gbm.predict(test_X) - test_y) ** 2)))\n",
    "    \n",
    "plt.plot([i for i in range(0, 40, 2)], data)"
   ]
  }
 ],
 "metadata": {
  "kernelspec": {
   "display_name": "Python (tensorflow)",
   "language": "python",
   "name": "tensorflow"
  },
  "language_info": {
   "codemirror_mode": {
    "name": "ipython",
    "version": 3
   },
   "file_extension": ".py",
   "mimetype": "text/x-python",
   "name": "python",
   "nbconvert_exporter": "python",
   "pygments_lexer": "ipython3",
   "version": "3.7.3"
  }
 },
 "nbformat": 4,
 "nbformat_minor": 2
}

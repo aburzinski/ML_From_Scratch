{
 "cells": [
  {
   "cell_type": "markdown",
   "metadata": {},
   "source": [
    "### Import Required Packages"
   ]
  },
  {
   "cell_type": "code",
   "execution_count": 6,
   "metadata": {},
   "outputs": [],
   "source": [
    "import numpy as np\n",
    "from sklearn import datasets"
   ]
  },
  {
   "cell_type": "markdown",
   "metadata": {},
   "source": [
    "### Create Necessary Functions"
   ]
  },
  {
   "cell_type": "code",
   "execution_count": 1,
   "metadata": {},
   "outputs": [],
   "source": [
    "def calc_probs(X, beta):\n",
    "    X_beta = np.dot(X, beta)\n",
    "    return np.exp(X_beta) / (1 + np.exp(X_beta))"
   ]
  },
  {
   "cell_type": "code",
   "execution_count": 2,
   "metadata": {},
   "outputs": [],
   "source": [
    "def calc_ll_gradient(Y, X, beta):\n",
    "    P = calc_probs(X, beta)\n",
    "    return np.dot(np.transpose(Y - P), X)"
   ]
  },
  {
   "cell_type": "code",
   "execution_count": 3,
   "metadata": {},
   "outputs": [],
   "source": [
    "def calc_ll_hessian(Y, X, beta):\n",
    "    P = calc_probs(X, beta)\n",
    "    return -1 * np.linalg.multi_dot([np.transpose(X), np.diag(P * (1 - P)), X])"
   ]
  },
  {
   "cell_type": "code",
   "execution_count": 4,
   "metadata": {},
   "outputs": [],
   "source": [
    "def calc_new_raph_delta(grad, hess):\n",
    "    return np.dot(np.linalg.inv(hess), grad)"
   ]
  },
  {
   "cell_type": "markdown",
   "metadata": {},
   "source": [
    "### Initialize Necessary Vectors"
   ]
  },
  {
   "cell_type": "code",
   "execution_count": 395,
   "metadata": {},
   "outputs": [],
   "source": [
    "X = np.array([[1, 2],\n",
    "             [1, 3],\n",
    "             [0, 1],\n",
    "             [2, 3],\n",
    "             [-1, -4],\n",
    "             [4, -1],\n",
    "             [.1, 8],\n",
    "             [-2, -3],\n",
    "             [1, 3],\n",
    "             [2, 1],\n",
    "             [-4, -3]])\n",
    "\n",
    "Y = np.array([0, 1, 0, 1, 0, 1, 0, 0, 0, 1, 1])\n",
    "\n",
    "# breast_cancer = datasets.load_breast_cancer()\n",
    "# Y = breast_cancer['target']\n",
    "# X = breast_cancer['data'][:, 0:29]\n",
    "\n",
    "X = np.insert(X, 0, 1, axis = 1)\n",
    "\n",
    "# beta = np.zeros([X.shape[1]])\n",
    "beta = np.array([-.2, .2, -.2])"
   ]
  },
  {
   "cell_type": "markdown",
   "metadata": {},
   "source": [
    "### Maximize Likelihood to Solve for Betas (Solve using Newton Raphson)"
   ]
  },
  {
   "cell_type": "code",
   "execution_count": 404,
   "metadata": {},
   "outputs": [
    {
     "name": "stdout",
     "output_type": "stream",
     "text": [
      "[-0.1980656   0.42897399 -0.17092966]\n",
      "[-8.35344520e-17 -1.42709279e-16  5.11697623e-17]\n"
     ]
    }
   ],
   "source": [
    "print(beta)\n",
    "\n",
    "P = calc_probs(X, beta)\n",
    "# print(P)\n",
    "\n",
    "grad = calc_ll_gradient(Y, X, beta)\n",
    "# print(grad)\n",
    "\n",
    "hess = calc_ll_hessian(Y, X, beta)\n",
    "# print(hess)\n",
    "# print(np.linalg.inv(hess))\n",
    "\n",
    "delta = calc_new_raph_delta(grad, hess)\n",
    "print(delta)\n",
    "\n",
    "beta = beta - delta"
   ]
  },
  {
   "cell_type": "markdown",
   "metadata": {},
   "source": [
    "### Make a Prediction with New Data"
   ]
  },
  {
   "cell_type": "code",
   "execution_count": 412,
   "metadata": {},
   "outputs": [
    {
     "data": {
      "text/plain": [
       "0.14934694920216918"
      ]
     },
     "execution_count": 412,
     "metadata": {},
     "output_type": "execute_result"
    }
   ],
   "source": [
    "new_data = np.array([-2, 4])\n",
    "new_data = np.insert(new_data, 0, 1)\n",
    "\n",
    "pred = np.exp(np.dot(new_data, beta)) / (1 + np.exp(np.dot(new_data, beta)))\n",
    "pred"
   ]
  }
 ],
 "metadata": {
  "kernelspec": {
   "display_name": "Python (tensorflow)",
   "language": "python",
   "name": "tensorflow"
  },
  "language_info": {
   "codemirror_mode": {
    "name": "ipython",
    "version": 3
   },
   "file_extension": ".py",
   "mimetype": "text/x-python",
   "name": "python",
   "nbconvert_exporter": "python",
   "pygments_lexer": "ipython3",
   "version": "3.7.3"
  }
 },
 "nbformat": 4,
 "nbformat_minor": 2
}

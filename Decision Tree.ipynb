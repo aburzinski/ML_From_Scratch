{
 "cells": [
  {
   "cell_type": "markdown",
   "metadata": {},
   "source": [
    "### Import Numpy"
   ]
  },
  {
   "cell_type": "code",
   "execution_count": 1,
   "metadata": {},
   "outputs": [],
   "source": [
    "import numpy as np\n",
    "from sklearn import datasets\n",
    "from sklearn.model_selection import train_test_split"
   ]
  },
  {
   "cell_type": "markdown",
   "metadata": {},
   "source": [
    "### Create Tree Object"
   ]
  },
  {
   "cell_type": "code",
   "execution_count": 2,
   "metadata": {},
   "outputs": [],
   "source": [
    "class Tree:\n",
    "    \n",
    "    def __init__(self, X, y, predict_fn, score_fn, max_depth = 3):\n",
    "        self.rootNode = Node('Root', X, y, predict_fn, score_fn,\n",
    "                             idxs = np.arange(len(y)), max_depth = max_depth, current_depth = 0)\n",
    "        \n",
    "    def predict(self, X):\n",
    "        return self.rootNode.predict(X)\n",
    "    \n",
    "    def __str__(self):\n",
    "        return self.rootNode.__str__()"
   ]
  },
  {
   "cell_type": "markdown",
   "metadata": {},
   "source": [
    "### Create Node Object"
   ]
  },
  {
   "cell_type": "code",
   "execution_count": 3,
   "metadata": {},
   "outputs": [],
   "source": [
    "class Node:\n",
    "    \n",
    "    def __init__(self, name, X, y, predict_fn, score_fn, idxs, max_depth, current_depth):\n",
    "        \n",
    "\n",
    "        self.name = name\n",
    "        self.X = X[idxs, :]\n",
    "        self.y = y[idxs]\n",
    "        self.predict_fn = predict_fn\n",
    "        self.score_fn = score_fn\n",
    "        self.idxs = idxs\n",
    "        self.num_rows = self.X.shape[0]\n",
    "        self.num_cols = self.X.shape[1]\n",
    "        self.score = float('inf')\n",
    "        self.split_col_idx = 0\n",
    "        self.split_value = None\n",
    "        self.max_depth = max_depth\n",
    "        self.current_depth = current_depth\n",
    "        \n",
    "        self.current_depth += 1\n",
    "        if self.current_depth > self.max_depth:\n",
    "            return\n",
    "        \n",
    "        self.find_best_split()\n",
    "        self.create_child_nodes()\n",
    "        \n",
    "        \n",
    "        \n",
    "    def find_best_split(self):\n",
    "        for col in range(self.num_cols):\n",
    "            for row in range(self.num_rows):\n",
    "                if self.calculate_score(self.X[row, col], col) < self.score:\n",
    "                    self.score = self.calculate_score(self.X[row, col], col)\n",
    "                    self.split_col_idx = col\n",
    "                    self.split_value = self.X[row, col]\n",
    "      \n",
    "    def calculate_score(self, value, col_idx):\n",
    "        return self.score_fn(self.X, self.y, value, col_idx)\n",
    "    \n",
    "    def create_child_nodes(self):\n",
    "        \n",
    "        lhs_idx = np.where(self.X[:, self.split_col_idx] <= self.split_value)[0]\n",
    "        rhs_idx = np.where(self.X[:, self.split_col_idx] > self.split_value)[0]\n",
    "        \n",
    "        if len(lhs_idx) == 0 or len(rhs_idx) == 0:\n",
    "            self.score = float('inf')\n",
    "            return\n",
    "        \n",
    "        self.lhn = Node(self.name + ' - Left', self.X, self.y, self.predict_fn, self.score_fn,\n",
    "                        lhs_idx, self.max_depth, self.current_depth)\n",
    "        self.rhn = Node(self.name + ' - Right', self.X, self.y, self.predict_fn, self.score_fn,\n",
    "                        rhs_idx, self.max_depth, self.current_depth)\n",
    "        \n",
    "    def predict_row(self, new_X_i):\n",
    "        if self.score == float('inf'):\n",
    "            return self.predict_fn(self.y)\n",
    "        else:\n",
    "            if new_X_i[self.split_col_idx] <= self.split_value:\n",
    "                return self.lhn.predict_row(new_X_i)\n",
    "            else:\n",
    "                return self.rhn.predict_row(new_X_i)\n",
    "            \n",
    "    def predict(self, new_X):\n",
    "        return [self.predict_row(new_X[i]) for i in range(new_X.shape[0])]\n",
    "    \n",
    "    def __str__(self):\n",
    "        if self.score == float('inf'):\n",
    "            return ('\\n' + '  ' * (self.current_depth - 1) + 'Rows: ' + str(self.num_rows) +\n",
    "                   ' - Prediction: ' + str(self.predict_fn(self.y)))\n",
    "        else:\n",
    "            return ('\\n' + '  ' * (self.current_depth - 1) + 'Rows: ' + str(self.num_rows) +\n",
    "                    ' - Split Col: ' + str(self.split_col_idx) + ' - Split Value: ' + str(self.split_value) +\n",
    "                    ' - Score: ' + str(self.score) + self.lhn.__str__() + self.rhn.__str__())"
   ]
  },
  {
   "cell_type": "markdown",
   "metadata": {},
   "source": [
    "### Create Scoring Function"
   ]
  },
  {
   "cell_type": "code",
   "execution_count": 4,
   "metadata": {},
   "outputs": [],
   "source": [
    "def find_gini(X, y, value, col_idx):\n",
    "    probs = np.array([])\n",
    "    ginis = np.array([])\n",
    "    \n",
    "    lhs = np.where(X[:, col_idx] <= value)[0]\n",
    "    rhs = np.where(X[:, col_idx] > value)[0]\n",
    "\n",
    "    lhs_mode = predict_mode(y[lhs])\n",
    "    \n",
    "    # Fixing bug for when there is no rhs data\n",
    "    if len(rhs) == 0:\n",
    "        rhs_mode = 0\n",
    "    else:\n",
    "        rhs_mode = predict_mode(y[rhs])\n",
    "    \n",
    "    preds = np.zeros(len(y))\n",
    "    preds[lhs] = lhs_mode\n",
    "    preds[rhs] = rhs_mode\n",
    "    \n",
    "    for predicted_class in np.unique(preds):\n",
    "        class_ginis = np.array([])\n",
    "        \n",
    "        probs = np.append(probs, np.sum(predicted_class == preds) / len(preds))\n",
    "        \n",
    "        for actual_class in np.unique(y):\n",
    "            class_ginis = np.append(class_ginis,\n",
    "                np.sum((predicted_class == preds) & (y == actual_class)) / np.sum(predicted_class == preds))\n",
    "        ginis = np.append(ginis, 1 - np.sum(class_ginis ** 2))\n",
    "        \n",
    "    return np.dot(ginis, probs)\n",
    "\n",
    "def find_rmse(X, y, value, col_idx):\n",
    "    lhs = np.where(X[:, col_idx] <= value)[0]\n",
    "    rhs = np.where(X[:, col_idx] > value)[0]\n",
    "    \n",
    "    lhs_mean = predict_mean(y[lhs])\n",
    "    rhs_mean = predict_mean(y[rhs])\n",
    "    \n",
    "    preds = np.zeros(len(y))\n",
    "    preds[lhs] = lhs_mean\n",
    "    preds[rhs] = rhs_mean\n",
    "    \n",
    "    return np.sqrt(np.mean((y - preds) ** 2))\n",
    "\n",
    "def find_information_gain(X, y, value, col_idx):\n",
    "    probs = np.array([])\n",
    "    \n",
    "    lhs = np.where(X[:, col_idx] <= value)[0]\n",
    "    rhs = np.where(X[:, col_idx] > value)[0]\n",
    "\n",
    "    lhs_mode = predict_mode(y[lhs])\n",
    "    \n",
    "    # Fixing bug for when there is no rhs data\n",
    "    if len(rhs) == 0:\n",
    "        rhs_mode = 0\n",
    "    else:\n",
    "        rhs_mode = predict_mode(y[rhs])\n",
    "        \n",
    "    preds = np.zeros(len(y))\n",
    "    preds[lhs] = lhs_mode\n",
    "    preds[rhs] = rhs_mode\n",
    "    \n",
    "    for predicted_class in np.unique(preds):\n",
    "        probs = np.append(probs, np.sum(predicted_class == preds) / len(preds))\n",
    "        \n",
    "    # Make answer negative to minimize\n",
    "    return np.sum(probs * np.log2(probs))"
   ]
  },
  {
   "cell_type": "markdown",
   "metadata": {},
   "source": [
    "### Create Prediction Logic Function"
   ]
  },
  {
   "cell_type": "code",
   "execution_count": 5,
   "metadata": {},
   "outputs": [],
   "source": [
    "def predict_mode(y):\n",
    "    return np.bincount(y).argmax()\n",
    "\n",
    "def predict_mean(y):\n",
    "    return np.mean(y)"
   ]
  },
  {
   "cell_type": "markdown",
   "metadata": {},
   "source": [
    "### Import Data"
   ]
  },
  {
   "cell_type": "code",
   "execution_count": 54,
   "metadata": {},
   "outputs": [],
   "source": [
    "iris = datasets.load_iris() # Classification\n",
    "wine = datasets.load_wine() # Classification\n",
    "breast_cancer = datasets.load_breast_cancer() # Classification\n",
    "boston = datasets.load_boston() # Regression\n",
    "diabetes = datasets.load_diabetes() # Regression\n",
    "\n",
    "train_X, test_X, train_y, test_y = train_test_split(boston['data'], boston['target'],\n",
    "                                                    test_size = .5, random_state = 0)\n"
   ]
  },
  {
   "cell_type": "markdown",
   "metadata": {},
   "source": [
    "### Train and Test Model"
   ]
  },
  {
   "cell_type": "code",
   "execution_count": 56,
   "metadata": {},
   "outputs": [
    {
     "name": "stdout",
     "output_type": "stream",
     "text": [
      "[25. 14. 23.  8. 21. 19. 22. 19. 15. 19.  7.  8. 18.  5. 50. 35. 21. 35.\n",
      " 25. 20. 23. 23. 19. 25. 21. 14. 19. 13. 42. 20. 15. 21. 18. 21. 23. 20.\n",
      "  8. 20. 15. 13. 21. 21. 19. 13. 25. 23. 22. 18. 16. 21. 18. 20. 23. 47.\n",
      " 13. 20. 19. 16. 14. 19. 23. 23. 32. 32. 21. 32. 18. 19.  8. 23. 21. 21.\n",
      " 25. 32. 25.  8. 42. 23. 23. 17. 32. 20. 14. 42. 42. 25. 21. 12. 28. 19.\n",
      " 18. 12. 23. 25. 21. 25. 12. 24. 16. 16. 23. 19. 31. 22. 31. 19.  8. 20.\n",
      " 21. 19. 30.  8. 20. 18. 19. 23. 11. 20. 10. 42. 32. 11. 20. 17. 23. 17.\n",
      " 35. 20. 16. 36. 17.  8. 15. 23. 11. 36. 23. 16. 28.  9.  5. 22. 30. 25.\n",
      " 28. 19. 35. 37. 14. 11. 25. 25. 16. 23. 19. 24. 17. 16. 22. 15. 12. 19.\n",
      " 35. 32. 22. 22. 23. 25. 28. 17. 31. 13. 21. 28. 22. 11. 20. 20. 15. 23.\n",
      " 14. 16. 20. 23. 20. 25. 21. 30. 40. 13. 12. 34. 33. 23. 50. 27. 23. 22.\n",
      " 23. 45. 23. 22. 50. 35. 18. 28. 20. 25. 22. 23. 25. 28. 12. 19. 23. 15.\n",
      " 18. 30. 17. 36.  8. 19. 19. 15. 19. 20. 15. 19. 24. 19. 16. 23. 23. 28.\n",
      " 19. 23. 15. 21. 34. 18. 42. 25. 15. 18. 32. 35. 26. 13. 30. 19.  9. 11.\n",
      " 15.]\n",
      "[22.6 50.  23.   8.3 21.2 19.9 20.6 18.7 16.1 18.6  8.8 17.2 14.9 10.5\n",
      " 50.  29.  23.  33.3 29.4 21.  23.8 19.1 20.4 29.1 19.3 23.1 19.6 19.4\n",
      " 38.7 18.7 14.6 20.  20.5 20.1 23.6 16.8  5.6 50.  14.5 13.3 23.9 20.\n",
      " 19.8 13.8 16.5 21.6 20.3 17.  11.8 27.5 15.6 23.1 24.3 42.8 15.6 21.7\n",
      " 17.1 17.2 15.  21.7 18.6 21.  33.1 31.5 20.1 29.8 15.2 15.  27.5 22.6\n",
      " 20.  21.4 23.5 31.2 23.7  7.4 48.3 24.4 22.6 18.3 23.3 17.1 27.9 44.8\n",
      " 50.  23.  21.4 10.2 23.3 23.2 18.9 13.4 21.9 24.8 11.9 24.3 13.8 24.7\n",
      " 14.1 18.7 28.1 19.8 26.7 21.7 22.  22.9 10.4 21.9 20.6 26.4 41.3 17.2\n",
      " 27.1 20.4 16.5 24.4  8.4 23.   9.7 50.  30.5 12.3 19.4 21.2 20.3 18.8\n",
      " 33.4 18.5 19.6 33.2 13.1  7.5 13.6 17.4  8.4 35.4 24.  13.4 26.2  7.2\n",
      " 13.1 24.5 37.2 25.  24.1 16.6 32.9 36.2 11.   7.2 22.8 28.7 14.4 24.4\n",
      " 18.1 22.5 20.5 15.2 17.4 13.6  8.7 18.2 35.4 31.7 33.  22.2 20.4 23.9\n",
      " 25.  12.7 29.1 12.  17.7 27.  20.6 10.2 17.5 19.7 29.8 20.5 14.9 10.9\n",
      " 19.5 22.7 19.5 24.6 25.  24.5 50.  14.3 11.8 31.  28.7 16.2 43.5 25.\n",
      " 22.  19.9 22.1 46.  22.9 20.2 43.1 34.6 13.8 24.3 21.5 24.4 21.2 23.8\n",
      " 26.6 25.1  9.6 19.4 19.4  9.5 14.  26.5 13.8 34.7 16.3 21.7 17.5 15.6\n",
      " 20.9 21.7 12.7 18.5 23.7 19.3 12.7 21.6 23.2 29.6 21.2 23.8 17.1 22.\n",
      " 36.5 18.8 21.9 23.1 20.2 17.4 37.  24.1 36.2 15.7 32.2 13.5 17.9 13.3\n",
      " 11.7]\n"
     ]
    },
    {
     "data": {
      "text/plain": [
       "5.040327404969242"
      ]
     },
     "execution_count": 56,
     "metadata": {},
     "output_type": "execute_result"
    }
   ],
   "source": [
    "tree = Tree(train_X, train_y, predict_mean, find_rmse, max_depth = 10)\n",
    "\n",
    "# print(tree)\n",
    "print(np.round(tree.predict(test_X)))\n",
    "print(test_y)\n",
    "np.sqrt(np.mean((tree.predict(test_X) - test_y) ** 2))\n",
    "# np.mean(tree.predict(test_X) == test_y)"
   ]
  }
 ],
 "metadata": {
  "kernelspec": {
   "display_name": "Python (tensorflow)",
   "language": "python",
   "name": "tensorflow"
  },
  "language_info": {
   "codemirror_mode": {
    "name": "ipython",
    "version": 3
   },
   "file_extension": ".py",
   "mimetype": "text/x-python",
   "name": "python",
   "nbconvert_exporter": "python",
   "pygments_lexer": "ipython3",
   "version": "3.7.3"
  }
 },
 "nbformat": 4,
 "nbformat_minor": 2
}

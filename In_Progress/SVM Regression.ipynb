{
 "cells": [
  {
   "cell_type": "markdown",
   "metadata": {},
   "source": [
    "### Import Packages"
   ]
  },
  {
   "cell_type": "code",
   "execution_count": 1,
   "metadata": {},
   "outputs": [],
   "source": [
    "import numpy as np\n",
    "from sklearn import datasets\n",
    "from sklearn.model_selection import train_test_split\n",
    "import matplotlib.pyplot as plt\n",
    "from sklearn.preprocessing import StandardScaler"
   ]
  },
  {
   "cell_type": "markdown",
   "metadata": {},
   "source": [
    "### Import Datasets"
   ]
  },
  {
   "cell_type": "code",
   "execution_count": 2,
   "metadata": {},
   "outputs": [],
   "source": [
    "iris = datasets.load_iris() # Classification\n",
    "wine = datasets.load_wine() # Classification\n",
    "breast_cancer = datasets.load_breast_cancer() # Classification\n",
    "boston = datasets.load_boston() # Regression\n",
    "diabetes = datasets.load_diabetes() # Regression"
   ]
  },
  {
   "cell_type": "markdown",
   "metadata": {},
   "source": [
    "### Create Necessary Functions"
   ]
  },
  {
   "cell_type": "code",
   "execution_count": 3,
   "metadata": {},
   "outputs": [],
   "source": [
    "def predict(X, w):\n",
    "    return np.dot(X, w)"
   ]
  },
  {
   "cell_type": "code",
   "execution_count": 4,
   "metadata": {},
   "outputs": [],
   "source": [
    "def loss(X, y, w, reg):\n",
    "    f_x = predict(X, w)\n",
    "    idx = np.where(np.abs(f_x - y) < 1)\n",
    "    rtn = np.abs(f_x - y) - 1\n",
    "    rtn[idx] = 0\n",
    "    rtn + reg * np.linalg.norm(w)\n",
    "    return np.sum(rtn)"
   ]
  },
  {
   "cell_type": "code",
   "execution_count": 23,
   "metadata": {},
   "outputs": [],
   "source": [
    "def d_loss(X, y, w, reg):\n",
    "    f_x = predict(X, w)\n",
    "    idx = np.where(np.abs(f_x - y) >= 1)\n",
    "    mult = np.zeros(X.shape) - 2 * reg * w\n",
    "    mult[idx, :] = X[idx,:] * np.sign(w) * np.sign(X[idx,:])\n",
    "    return np.sum(mult, axis = 0)"
   ]
  },
  {
   "cell_type": "code",
   "execution_count": 6,
   "metadata": {},
   "outputs": [],
   "source": [
    "def distance(X, w):\n",
    "    return np.abs(np.dot(X, w)) / np.linalg.norm(w)"
   ]
  },
  {
   "cell_type": "markdown",
   "metadata": {},
   "source": [
    "### Create Plotting Function"
   ]
  },
  {
   "cell_type": "code",
   "execution_count": 19,
   "metadata": {},
   "outputs": [],
   "source": [
    "def plot_2dim_db(X, y, w):\n",
    "    \n",
    "    plot_color = ['r' if y[i] > 0 else 'b' for i in range(len(y))]\n",
    "\n",
    "    plt.xlim([np.min(X[:, 1]) - 1, np.max(X[:, 1]) + 1])\n",
    "    plt.ylim([np.min(X[:, 2]) - 1, np.max(X[:, 2]) + 1])\n",
    "    plt.scatter(X[:, 1], X[:, 2], marker='o')\n",
    "\n",
    "    dim1_min = np.min([X[:, 1], X[:, 2]])\n",
    "    dim1_max = np.max([X[:, 1], X[:, 2]])\n",
    "\n",
    "    dim2_min = -1 * (dim1_min * w[1] + w[0]) / w[2]\n",
    "    dim2_max = -1 * (dim1_max * w[1] + w[0]) / w[2]\n",
    "\n",
    "    plt.plot([dim1_min, dim1_max], [dim2_min, dim2_max], color = 'black')\n",
    "    \n",
    "    margin = 1/np.linalg.norm(w)\n",
    "    \n",
    "    margin_plus_min = -1 * (dim1_min * w[1] + w[0] + margin) / w[2]\n",
    "    margin_plus_max = -1 * (dim1_max * w[1] + w[0] + margin) / w[2]\n",
    "    \n",
    "    plt.plot([dim1_min, dim1_max], [margin_plus_min, margin_plus_max], color = 'grey', linestyle = 'dashed')\n",
    "    \n",
    "    margin_minus_min = -1 * (dim1_min * w[1] + w[0] - margin) / w[2]\n",
    "    margin_minus_max = -1 * (dim1_max * w[1] + w[0] - margin) / w[2]\n",
    "    \n",
    "    plt.plot([dim1_min, dim1_max], [margin_minus_min, margin_minus_max], color = 'grey', linestyle = 'dashed')"
   ]
  },
  {
   "cell_type": "markdown",
   "metadata": {},
   "source": [
    "### Inititalize Variables"
   ]
  },
  {
   "cell_type": "code",
   "execution_count": 24,
   "metadata": {},
   "outputs": [],
   "source": [
    "train_X, test_X, train_y, test_y = train_test_split(diabetes['data'][:,4:6], diabetes['target'],\n",
    "                                                    test_size = .3, random_state = 0)\n",
    "\n",
    "scale_X = StandardScaler().fit(train_X)\n",
    "train_X = scale_X.transform(train_X)\n",
    "test_X = scale_X.transform(test_X)\n",
    "\n",
    "scale_y = StandardScaler().fit(train_y.reshape(-1, 1))\n",
    "train_y = scale_y.transform(train_y.reshape(-1, 1))[:,0]\n",
    "test_y = scale_y.transform(test_y.reshape(-1, 1))[:,0]\n",
    "\n",
    "train_X = np.insert(train_X, 0, 1, axis = 1)\n",
    "test_X = np.insert(test_X, 0, 1, axis = 1)\n",
    "\n",
    "w = np.ones(shape = train_X.shape[1]) * -1\n",
    "# w = np.array([1, -1, 1])\n",
    "lr = .000001\n",
    "\n",
    "reg = 0"
   ]
  },
  {
   "cell_type": "markdown",
   "metadata": {},
   "source": [
    "### Train Model"
   ]
  },
  {
   "cell_type": "code",
   "execution_count": 25,
   "metadata": {},
   "outputs": [],
   "source": [
    "for _ in range(100000):\n",
    "    grad_loss = d_loss(train_X, train_y, w, reg)\n",
    "    w = w - lr * grad_loss[0:len(w)]\n",
    "\n",
    "# grad_loss = d_loss(train_X, train_y, w, reg)\n",
    "\n",
    "# print(w)\n",
    "# print(loss(train_X, train_y, w, reg))\n",
    "# print(grad_loss)\n",
    "\n",
    "# w = w - lr * grad_loss[0:len(w)]\n",
    "# plot_2dim_db(train_X, train_y, w)\n"
   ]
  },
  {
   "cell_type": "markdown",
   "metadata": {},
   "source": [
    "### Calculate Accuracy"
   ]
  },
  {
   "cell_type": "code",
   "execution_count": 26,
   "metadata": {},
   "outputs": [
    {
     "data": {
      "text/plain": [
       "array([71.42468937])"
      ]
     },
     "execution_count": 26,
     "metadata": {},
     "output_type": "execute_result"
    }
   ],
   "source": [
    "# plot_2dim_db(test_X, test_y, w)\n",
    "# print(predict(train_X, w))\n",
    "# print(train_y)\n",
    "\n",
    "np.sqrt(np.mean((predict(test_X, w) - test_y) ** 2)) * scale_y.scale_"
   ]
  }
 ],
 "metadata": {
  "kernelspec": {
   "display_name": "Python (tensorflow)",
   "language": "python",
   "name": "tensorflow"
  },
  "language_info": {
   "codemirror_mode": {
    "name": "ipython",
    "version": 3
   },
   "file_extension": ".py",
   "mimetype": "text/x-python",
   "name": "python",
   "nbconvert_exporter": "python",
   "pygments_lexer": "ipython3",
   "version": "3.7.3"
  }
 },
 "nbformat": 4,
 "nbformat_minor": 2
}

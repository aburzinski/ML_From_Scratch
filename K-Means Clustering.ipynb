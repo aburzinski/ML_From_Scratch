{
 "cells": [
  {
   "cell_type": "markdown",
   "metadata": {},
   "source": [
    "### Import Packages"
   ]
  },
  {
   "cell_type": "code",
   "execution_count": 81,
   "metadata": {},
   "outputs": [],
   "source": [
    "import numpy as np\n",
    "from sklearn import datasets\n",
    "from sklearn.preprocessing import StandardScaler\n",
    "import matplotlib.pyplot as plt"
   ]
  },
  {
   "cell_type": "markdown",
   "metadata": {},
   "source": [
    "### Import Data"
   ]
  },
  {
   "cell_type": "code",
   "execution_count": 380,
   "metadata": {},
   "outputs": [],
   "source": [
    "# Columns are Age, Income, Spending Score\n",
    "data = np.genfromtxt('./Data/K-Means/mall-customers.csv', delimiter = ',', skip_header = 1, usecols = (2, 3))\n",
    "\n",
    "scaler = StandardScaler().fit(data)\n",
    "data = scaler.transform(data)"
   ]
  },
  {
   "cell_type": "markdown",
   "metadata": {},
   "source": [
    "### Create Distance Functions"
   ]
  },
  {
   "cell_type": "code",
   "execution_count": 381,
   "metadata": {},
   "outputs": [],
   "source": [
    "def minkowski_dist(x_1, x_2, p):\n",
    "    return np.sum(np.abs(x_1 - x_2) ** p, axis = 1) ** (1 / p)\n",
    "\n",
    "def taxicab_dist(x_1, x_2):\n",
    "    return minkowski_dist(x_1, x_2, 1)\n",
    "\n",
    "def euclidian_dist(x_1, x_2):\n",
    "    return minkowski_dist(x_1, x_2, 2)\n",
    "\n",
    "def chebychev_dist(x_1, x_2):\n",
    "    return np.max(np.abs(x_1 - x_2))\n",
    "\n",
    "def canberra_dist(x_1, x_2):\n",
    "    return np.sum(np.abs(x_1 - x_2) / (np.abs(x_1) + np.abs(x_2)))"
   ]
  },
  {
   "cell_type": "markdown",
   "metadata": {},
   "source": [
    "### Create Plotting Function"
   ]
  },
  {
   "cell_type": "code",
   "execution_count": 382,
   "metadata": {},
   "outputs": [],
   "source": [
    "def plot_2d_clusters(data, clusters, centroids, final_iteration):\n",
    "    if final_iteration:\n",
    "        plot_color = ['C' + str(c) for c in clusters]\n",
    "        plt.scatter(data[:, 0], data[:, 1], marker = 'o', linestyle = 'None', color = plot_color)\n",
    "        plot_color = ['C' + str(i) for i in range(len(centroids))]\n",
    "        plt.scatter(centroids[:, 0], centroids[:, 1], marker = '^', c = 'black', s = 22 * 4)\n",
    "    else:\n",
    "        plot_color = ['C' + str(i) for i in range(len(centroids))]\n",
    "        plt.scatter(centroids[:, 0], centroids[:, 1], marker = '^', c = 'gray', s = 22 * 4)"
   ]
  },
  {
   "cell_type": "markdown",
   "metadata": {},
   "source": [
    "### Clustering Algorithm - Step 1"
   ]
  },
  {
   "cell_type": "code",
   "execution_count": 383,
   "metadata": {},
   "outputs": [],
   "source": [
    "# Step One - Initialize Centroids\n",
    "def initialize(data, dist_fn, k):\n",
    "    centroids = data[np.random.choice(data.shape[0], size = k, replace = False), :]\n",
    "    return centroids"
   ]
  },
  {
   "cell_type": "markdown",
   "metadata": {},
   "source": [
    "### K-Means++ Initialization - Step 1"
   ]
  },
  {
   "cell_type": "code",
   "execution_count": 384,
   "metadata": {},
   "outputs": [],
   "source": [
    "def plus_plus_init(data, dist_fn, k):\n",
    "    centroids = data[np.random.choice(data.shape[0], size = 1, replace = False), :]\n",
    "    dists = np.zeros(data.shape[0])\n",
    "\n",
    "    for i in range(k - 1):\n",
    "        for j in range(data.shape[0]):\n",
    "            dists[j] = np.min([dist_fn(data[j, :].reshape(1, -1), centroids[c, :].reshape(1, -1))\n",
    "                               for c in range(centroids.shape[0])])\n",
    "            probs = dists ** 2 / np.sum(dists ** 2)\n",
    "\n",
    "        centroids = np.append(centroids, data[np.random.choice(data.shape[0], size = 1, replace = False, p = probs)\n",
    "                                              , :], axis = 0)\n",
    "\n",
    "    return centroids"
   ]
  },
  {
   "cell_type": "markdown",
   "metadata": {},
   "source": [
    "### Clustering Algorithm - Step 2"
   ]
  },
  {
   "cell_type": "code",
   "execution_count": 385,
   "metadata": {},
   "outputs": [],
   "source": [
    "# Step Two A - Compute Distance to Centroids\n",
    "def iterate(data, dist_fn, k, centroids):\n",
    "    iterate = True\n",
    "    final_iteration = False\n",
    "    clusters = np.zeros(data.shape[0])\n",
    "\n",
    "    while iterate:\n",
    "        dists = np.zeros([data.shape[0], k])\n",
    "        for i in range(k):\n",
    "            centroid = centroids[i, :] * np.ones([data.shape[0], centroids.shape[1]])\n",
    "            dists[:, i] = dist_fn(centroid, data)\n",
    "\n",
    "        new_clusters = np.argmin(dists, axis = 1)\n",
    "        if np.all(clusters == new_clusters):\n",
    "            iterate = False\n",
    "            final_iteration = True\n",
    "        clusters = new_clusters\n",
    "\n",
    "        # Step Two B - Re-Compute Centroids\n",
    "        for i in range(k):\n",
    "            centroids[i, :] = np.mean(data[new_clusters == i, :], axis = 0)\n",
    "\n",
    "    #     plot_2d_clusters(data, new_clusters, centroids, final_iteration)\n",
    "\n",
    "    #     final_centroids = np.append(centroids, np.unique(clusters , return_counts = True)[1].reshape(-1, 1), axis = 1)\n",
    "\n",
    "    return (centroids, clusters)"
   ]
  },
  {
   "cell_type": "markdown",
   "metadata": {},
   "source": [
    "### Combine Steps"
   ]
  },
  {
   "cell_type": "code",
   "execution_count": 387,
   "metadata": {},
   "outputs": [],
   "source": [
    "def k_means(data, k, dist_fn = euclidian_dist):\n",
    "    centroids = plus_plus_init(data, dist_fn, k)\n",
    "    return iterate(data, dist_fn, k, centroids)"
   ]
  },
  {
   "cell_type": "markdown",
   "metadata": {},
   "source": [
    "### Calculate Within Cluster Sum of Squares"
   ]
  },
  {
   "cell_type": "code",
   "execution_count": 386,
   "metadata": {},
   "outputs": [],
   "source": [
    "def calc_wcss(data, centroids, clusters):\n",
    "    css = np.zeros(centroids.shape[0])\n",
    "    for i in range(centroids.shape[0]):\n",
    "        cluster_idx = np.where(clusters == i)[0]\n",
    "        centroid = centroids[i, :] * np.ones([cluster_idx.shape[0], centroids.shape[1]])\n",
    "        css[i] = np.sum(dist_fn(centroid, data[cluster_idx, :]))\n",
    "    return np.sum(css)"
   ]
  },
  {
   "cell_type": "markdown",
   "metadata": {},
   "source": [
    "### Run Algorithms"
   ]
  },
  {
   "cell_type": "code",
   "execution_count": 388,
   "metadata": {},
   "outputs": [
    {
     "name": "stdout",
     "output_type": "stream",
     "text": [
      "[[-0.05174147  1.5484968 ]\n",
      " [ 1.7664858  -0.21631161]\n",
      " [-0.71697441  0.40518523]\n",
      " [-0.83847416 -1.18190729]\n",
      " [ 0.67204379 -0.36671733]]\n",
      "[3 3 3 3 3 3 3 3 1 3 1 3 4 3 3 3 3 3 4 3 3 3 4 3 4 3 4 3 3 3 1 3 4 3 4 3 4\n",
      " 3 3 3 1 3 4 3 4 3 4 3 3 3 4 3 3 1 4 4 4 1 3 4 1 3 1 4 1 3 4 1 3 3 1 4 1 1\n",
      " 1 2 4 4 2 4 1 4 1 4 2 4 4 2 2 4 1 2 4 4 2 2 4 2 4 2 2 4 1 2 4 2 1 4 1 1 1\n",
      " 2 2 2 2 2 1 4 4 4 2 2 2 2 2 2 4 2 1 2 4 2 2 2 2 2 4 2 2 2 1 2 2 2 2 2 4 2\n",
      " 2 2 0 2 0 2 4 2 2 2 2 2 1 2 2 2 0 0 0 2 0 2 0 2 0 0 0 2 1 2 1 0 0 0 0 0 0\n",
      " 0 0 0 0 0 0 0 0 0 0 0 0 0 0 0]\n"
     ]
    }
   ],
   "source": [
    "centroids, clusters = k_means(data, 5)\n",
    "print(centroids)\n",
    "print(clusters)"
   ]
  },
  {
   "cell_type": "markdown",
   "metadata": {},
   "source": [
    "### Elbow Method"
   ]
  },
  {
   "cell_type": "code",
   "execution_count": 389,
   "metadata": {},
   "outputs": [
    {
     "data": {
      "text/plain": [
       "[<matplotlib.lines.Line2D at 0x1b691debc50>]"
      ]
     },
     "execution_count": 389,
     "metadata": {},
     "output_type": "execute_result"
    },
    {
     "data": {
      "image/png": "[encoded data removed]",
      "text/plain": [
       "<Figure size 432x288 with 1 Axes>"
      ]
     },
     "metadata": {
      "needs_background": "light"
     },
     "output_type": "display_data"
    }
   ],
   "source": [
    "wcss = []\n",
    "for i in range(1, 10):\n",
    "    np.random.seed(0)\n",
    "    centroids, clusters = k_means(data, i)\n",
    "    wcss.append(calc_wcss(data, centroids, clusters))\n",
    "    \n",
    "plt.plot(range(1, 10), wcss)"
   ]
  },
  {
   "cell_type": "markdown",
   "metadata": {},
   "source": [
    "### Comapre Initialization Methods"
   ]
  },
  {
   "cell_type": "code",
   "execution_count": 422,
   "metadata": {},
   "outputs": [
    {
     "name": "stdout",
     "output_type": "stream",
     "text": [
      "[16.84804015]\n",
      "[29.52868233]\n"
     ]
    },
    {
     "data": {
      "image/png": "[encoded data removed]",
      "text/plain": [
       "<Figure size 432x288 with 1 Axes>"
      ]
     },
     "metadata": {
      "needs_background": "light"
     },
     "output_type": "display_data"
    }
   ],
   "source": [
    "centroids = initialize(data, euclidian_dist, 5)\n",
    "plt.scatter(centroids[:, 0], centroids[:, 1])\n",
    "pp_centroids = plus_plus_init(data, euclidian_dist, 5)\n",
    "plt.scatter(pp_centroids[:, 0], pp_centroids[:, 1])\n",
    "\n",
    "total_dist = 0\n",
    "total_pp_dist = 0\n",
    "for i in range(5):\n",
    "    for j in range(i, 5):\n",
    "        total_dist += euclidian_dist(centroids[i, :].reshape(1, -1), centroids[j, :].reshape(1, -1))\n",
    "        total_pp_dist += euclidian_dist(pp_centroids[i, :].reshape(1, -1), pp_centroids[j, :].reshape(1, -1))\n",
    "        \n",
    "print(total_dist)\n",
    "print(total_pp_dist)"
   ]
  }
 ],
 "metadata": {
  "kernelspec": {
   "display_name": "Python (tensorflow)",
   "language": "python",
   "name": "tensorflow"
  },
  "language_info": {
   "codemirror_mode": {
    "name": "ipython",
    "version": 3
   },
   "file_extension": ".py",
   "mimetype": "text/x-python",
   "name": "python",
   "nbconvert_exporter": "python",
   "pygments_lexer": "ipython3",
   "version": "3.7.3"
  }
 },
 "nbformat": 4,
 "nbformat_minor": 2
}

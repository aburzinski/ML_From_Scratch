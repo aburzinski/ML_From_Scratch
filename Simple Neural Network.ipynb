{
 "cells": [
  {
   "cell_type": "markdown",
   "metadata": {},
   "source": [
    "### Import Packages"
   ]
  },
  {
   "cell_type": "code",
   "execution_count": 1,
   "metadata": {},
   "outputs": [],
   "source": [
    "import numpy as np\n",
    "from sklearn import datasets\n",
    "from sklearn.preprocessing import StandardScaler\n",
    "from sklearn.preprocessing import MinMaxScaler\n",
    "from sklearn.model_selection import train_test_split\n",
    "import matplotlib.pyplot as plt"
   ]
  },
  {
   "cell_type": "markdown",
   "metadata": {},
   "source": [
    "### Create output function"
   ]
  },
  {
   "cell_type": "code",
   "execution_count": 2,
   "metadata": {},
   "outputs": [],
   "source": [
    "def output(w, a, b):\n",
    "    return np.dot(a, w) + np.sum(b)"
   ]
  },
  {
   "cell_type": "code",
   "execution_count": 3,
   "metadata": {},
   "outputs": [],
   "source": [
    "def d_output_w(a):\n",
    "    return np.transpose(a)"
   ]
  },
  {
   "cell_type": "code",
   "execution_count": 4,
   "metadata": {},
   "outputs": [],
   "source": [
    "def d_output_b(a):\n",
    "    return np.transpose(np.ones(a.shape[0]))"
   ]
  },
  {
   "cell_type": "markdown",
   "metadata": {},
   "source": [
    "### Create Activation Functions"
   ]
  },
  {
   "cell_type": "code",
   "execution_count": 40,
   "metadata": {},
   "outputs": [],
   "source": [
    "def sigmoid(z, extra_param = None):\n",
    "    return np.exp(z) / (1 + np.exp(z))"
   ]
  },
  {
   "cell_type": "code",
   "execution_count": 41,
   "metadata": {},
   "outputs": [],
   "source": [
    "def d_sigmoid(z, extra_param = None):\n",
    "    return sigmoid(z) * (1 - sigmoid(z))"
   ]
  },
  {
   "cell_type": "code",
   "execution_count": 42,
   "metadata": {},
   "outputs": [],
   "source": [
    "def tanh(z, extra_param = None):\n",
    "    return (np.exp(2 * z) - 1) / (np.exp(2 * z) + 1)"
   ]
  },
  {
   "cell_type": "code",
   "execution_count": 43,
   "metadata": {},
   "outputs": [],
   "source": [
    "def d_tanh(z, extra_param = None):\n",
    "    return 1 - tanh(z) ** 2"
   ]
  },
  {
   "cell_type": "code",
   "execution_count": 44,
   "metadata": {},
   "outputs": [],
   "source": [
    "def relu(z, extra_param = None):\n",
    "    return z * (z > 0)"
   ]
  },
  {
   "cell_type": "code",
   "execution_count": 45,
   "metadata": {},
   "outputs": [],
   "source": [
    "def d_relu(z, extra_param = None):\n",
    "    return 1 * (z > 0)"
   ]
  },
  {
   "cell_type": "code",
   "execution_count": 46,
   "metadata": {},
   "outputs": [],
   "source": [
    "def relu6(z, extra_param = None):\n",
    "    return z * (z > 0) + (6 - z) * (z > 6)"
   ]
  },
  {
   "cell_type": "code",
   "execution_count": 47,
   "metadata": {},
   "outputs": [],
   "source": [
    "def d_relu6(z, extra_param = None):\n",
    "    return 1 * (z > 0) * (z < 6)"
   ]
  },
  {
   "cell_type": "code",
   "execution_count": 11,
   "metadata": {},
   "outputs": [],
   "source": [
    "def leaky_relu(z, alpha):\n",
    "    return z * (z > 0) + (alpha * z) * (z <= 0)"
   ]
  },
  {
   "cell_type": "code",
   "execution_count": 36,
   "metadata": {},
   "outputs": [],
   "source": [
    "def d_leaky_relu(z, alpha):\n",
    "    return 1 * (z > 0) - alpha * (z < 0)"
   ]
  },
  {
   "cell_type": "code",
   "execution_count": 473,
   "metadata": {},
   "outputs": [],
   "source": [
    "def softmax(z, extra_param = None):\n",
    "    sums = np.dot(np.transpose(np.sum(np.exp(z), axis = 1).reshape(1, -1)), np.ones([1, z.shape[1]]))\n",
    "    return np.exp(z) / sums"
   ]
  },
  {
   "cell_type": "code",
   "execution_count": 393,
   "metadata": {},
   "outputs": [],
   "source": [
    "def d_softmax(z, extra_param = None):\n",
    "    # Using this to return 1 since both parts of this gradient are calculated in the d_loss function\n",
    "    return 1"
   ]
  },
  {
   "cell_type": "markdown",
   "metadata": {},
   "source": [
    "### Create Loss Functions"
   ]
  },
  {
   "cell_type": "code",
   "execution_count": 366,
   "metadata": {},
   "outputs": [],
   "source": [
    "def mse(y, a):\n",
    "    return np.mean(.5 * (y.reshape(-1, 1) - a) ** 2)"
   ]
  },
  {
   "cell_type": "code",
   "execution_count": 13,
   "metadata": {},
   "outputs": [],
   "source": [
    "def d_mse(y, a):\n",
    "    return (a - y.reshape(-1, 1))"
   ]
  },
  {
   "cell_type": "code",
   "execution_count": 367,
   "metadata": {},
   "outputs": [],
   "source": [
    "def binary_cross_ent(y, a):\n",
    "    return np.mean(-1 * y * np.log(a) - (1 - y) * np.log(1 - a))"
   ]
  },
  {
   "cell_type": "code",
   "execution_count": 341,
   "metadata": {},
   "outputs": [],
   "source": [
    "def d_binary_cross_ent(y, a):\n",
    "    return -1 * y / a + (1 - y) / (1 - a)"
   ]
  },
  {
   "cell_type": "code",
   "execution_count": 458,
   "metadata": {},
   "outputs": [],
   "source": [
    "def cross_entropy(y, a):\n",
    "    return np.mean(-1 * np.sum(y * np.log(a), axis = 1))"
   ]
  },
  {
   "cell_type": "code",
   "execution_count": 394,
   "metadata": {},
   "outputs": [],
   "source": [
    "def d_cross_entropy(y, a):\n",
    "    return a - y"
   ]
  },
  {
   "cell_type": "markdown",
   "metadata": {},
   "source": [
    "### Create Neural Network Class"
   ]
  },
  {
   "cell_type": "code",
   "execution_count": 488,
   "metadata": {},
   "outputs": [],
   "source": [
    "class NeuralNet:\n",
    "    \n",
    "    def __init__(self, X, y, hidden_layer_nodes, output_layer_nodes, act_fn, d_act_fn,\n",
    "                 final_act_fn, d_final_act_fn, loss_fn, d_loss_fn, random_state, alpha = None):\n",
    "        \n",
    "        self.X = X\n",
    "        self.y = y\n",
    "        self.alpha = alpha\n",
    "        \n",
    "        self.hidden_layer_nodes = hidden_layer_nodes\n",
    "        self.output_layer_nodes = output_layer_nodes\n",
    "        \n",
    "        self.act_fn = act_fn\n",
    "        self.d_act_fn = d_act_fn\n",
    "        self.final_act_fn = final_act_fn\n",
    "        self.d_final_act_fn = d_final_act_fn\n",
    "        self.loss_fn = loss_fn\n",
    "        self.d_loss_fn = d_loss_fn\n",
    "        \n",
    "        self.layers = []\n",
    "        self.losses = np.array([])\n",
    "        \n",
    "        # Create First Layer\n",
    "        self.layers.append(Layer(self.act_fn, self.d_act_fn, self.hidden_layer_nodes[0],\n",
    "                                 self.X.shape[1], X, 0, alpha, False))\n",
    "        \n",
    "        # Create Hidden Layers\n",
    "        for i in range(1, 1 + len(self.hidden_layer_nodes)):\n",
    "            if i == len(self.hidden_layer_nodes):\n",
    "                # Create final node - skip to below\n",
    "                break\n",
    "            else:\n",
    "                self.layers.append(Layer(self.act_fn, self.d_act_fn, self.hidden_layer_nodes[i],\n",
    "                                         self.layers[i - 1].nodes, self.layers[i - 1].outputs, 0, alpha, False))\n",
    "\n",
    "        # Create Final Layer\n",
    "        self.layers.append(Layer(self.final_act_fn, self.d_final_act_fn, self.output_layer_nodes,\n",
    "                                self.layers[-1].nodes, self.layers[-1].outputs, 0, alpha, True, loss_fn, d_loss_fn, y))\n",
    "        \n",
    "    def train(self, eta, epochs):\n",
    "        self.eta = eta\n",
    "        self.epochs = epochs\n",
    "        \n",
    "        for i in range(self.epochs):\n",
    "            if i % 100 == 0:\n",
    "                self.losses = np.append(self.losses, self.get_loss())\n",
    "            self.forward_prop()\n",
    "            self.backward_prop()\n",
    "    \n",
    "    def forward_prop(self):\n",
    "        self.layers[0].set_activations(self.X)\n",
    "        self.layers[0].forward_prop()\n",
    "        \n",
    "        for i in range(1, len(self.layers)):\n",
    "            self.layers[i].set_activations(self.layers[i - 1].outputs)\n",
    "            self.layers[i].forward_prop()\n",
    "    \n",
    "    def backward_prop(self):\n",
    "        # Final layer first\n",
    "        self.layers[-1].backward_prop(self.eta)\n",
    "        \n",
    "        for i in range(len(self.layers) - 2, -1, -1):\n",
    "            self.layers[i].backward_prop(self.eta, self.layers[i + 1].d_w,\n",
    "                                         self.layers[i + 1].d_b, self.layers[i + 1].weights)\n",
    "        \n",
    "    def get_loss(self):\n",
    "        return self.loss_fn(self.y, self.layers[-1].outputs)\n",
    "    \n",
    "    def predict(self, new_X):\n",
    "        outputs = new_X\n",
    "        for layer in self.layers:\n",
    "            outputs = layer.predict(outputs)\n",
    "        return outputs"
   ]
  },
  {
   "cell_type": "markdown",
   "metadata": {},
   "source": [
    "### Create Layer Class"
   ]
  },
  {
   "cell_type": "code",
   "execution_count": 444,
   "metadata": {},
   "outputs": [],
   "source": [
    "class Layer:\n",
    "    \n",
    "    def __init__(self, act_fn, d_act_fn, nodes, nodes_prev, activations, random_state, alpha,\n",
    "                 is_final, loss_fn = None, d_loss_fn = None, y = None):\n",
    "        self.act_fn = act_fn\n",
    "        self.d_act_fn = d_act_fn\n",
    "        self.nodes = nodes\n",
    "        self.nodes_prev = nodes_prev \n",
    "        self.is_final = is_final\n",
    "        self.loss_fn = loss_fn\n",
    "        self.d_loss_fn = d_loss_fn\n",
    "        self.y = y\n",
    "        self.alpha = alpha\n",
    "        \n",
    "        np.random.seed(random_state)\n",
    "        self.weights = np.random.random(size = [self.nodes_prev, self.nodes]) * 2 - 1\n",
    "        self.biases = np.random.random(size = [self.nodes]) * 2 - 1\n",
    "        self.activations = activations\n",
    "        \n",
    "        self.weighted_inputs = self.get_weighted_inputs()\n",
    "        self.outputs = self.calc_outputs()\n",
    "        \n",
    "    def output(self, w, a, b):\n",
    "        return np.dot(a, w) + np.sum(b)\n",
    "    \n",
    "    def d_output_w(self, a):\n",
    "        return np.transpose(a)\n",
    "    \n",
    "    def set_activations(self, activations):\n",
    "        self.activations = activations\n",
    "        \n",
    "    def get_weighted_inputs(self):\n",
    "        return self.output(self.weights, self.activations, self.biases)\n",
    "    \n",
    "    def calc_outputs(self):\n",
    "        return self.act_fn(self.weighted_inputs, self.alpha)\n",
    "    \n",
    "    def forward_prop(self):\n",
    "        self.weighted_inputs = self.get_weighted_inputs()\n",
    "        self.outputs = self.calc_outputs()\n",
    "    \n",
    "    def get_weight_deltas(self, d_w_next = None, w_next = None):\n",
    "        if self.is_final:\n",
    "            return self.d_loss_fn(self.y, self.outputs) * self.d_act_fn(self.weighted_inputs, self.alpha)\n",
    "        else:\n",
    "             return np.dot(d_w_next, np.transpose(w_next)) * self.d_act_fn(self.weighted_inputs, self.alpha)\n",
    "        \n",
    "    def get_bias_deltas(self, d_b_next = None, w_next = None):\n",
    "        if self.is_final:\n",
    "            return self.d_w\n",
    "        else:\n",
    "            return np.dot(d_b_next, np.transpose(w_next)) * self.d_act_fn(self.weighted_inputs, self.alpha)\n",
    "            \n",
    "    \n",
    "    def backward_prop(self, eta, d_w_next = None, d_b_next = None, w_next = None):\n",
    "        self.d_w = self.get_weight_deltas(d_w_next, w_next)\n",
    "        self.d_b = self.get_bias_deltas(d_b_next, w_next)\n",
    "        \n",
    "        self.weights = self.weights - eta * np.dot(self.d_output_w(self.activations), self.d_w)\n",
    "        self.biases = self.biases - eta * np.sum(self.d_b, axis = 0)\n",
    "\n",
    "    \n",
    "    def predict(self, new_X):\n",
    "        return self.act_fn(self.output(self.weights, new_X, self.biases), self.alpha)\n"
   ]
  },
  {
   "cell_type": "markdown",
   "metadata": {},
   "source": [
    "### Initialize Regression Data"
   ]
  },
  {
   "cell_type": "code",
   "execution_count": 495,
   "metadata": {},
   "outputs": [],
   "source": [
    "boston = datasets.load_boston()\n",
    "X = boston['data']\n",
    "y = boston['target']\n",
    "\n",
    "X_scaler = StandardScaler().fit(X)\n",
    "X = X_scaler.transform(X)\n",
    "\n",
    "y_scaler = MinMaxScaler((0, 1)).fit(y.reshape(-1, 1))\n",
    "y = y_scaler.transform(y.reshape(-1, 1))\n",
    "\n",
    "X_train, X_test, y_train, y_test = train_test_split(X, y, test_size = .3, random_state = 0)"
   ]
  },
  {
   "cell_type": "markdown",
   "metadata": {},
   "source": [
    "### Create and Train Neural Net"
   ]
  },
  {
   "cell_type": "code",
   "execution_count": 496,
   "metadata": {},
   "outputs": [
    {
     "data": {
      "text/plain": [
       "3.770101152882372"
      ]
     },
     "execution_count": 496,
     "metadata": {},
     "output_type": "execute_result"
    }
   ],
   "source": [
    "nn1 = NeuralNet(X_train, y_train, [8], 1, sigmoid, d_sigmoid, sigmoid, d_sigmoid,\n",
    "                mse, d_mse, random_state = 0)\n",
    "nn1.train(eta = .01, epochs = 20000)\n",
    "\n",
    "preds1 = nn1.predict(X_test)\n",
    "rmse1 = np.sqrt(np.mean((y_scaler.inverse_transform(y_test) - y_scaler.inverse_transform(preds1)) ** 2))\n",
    "rmse1"
   ]
  },
  {
   "cell_type": "markdown",
   "metadata": {},
   "source": [
    "### Compare Activation Functions"
   ]
  },
  {
   "cell_type": "code",
   "execution_count": 497,
   "metadata": {},
   "outputs": [
    {
     "name": "stdout",
     "output_type": "stream",
     "text": [
      "6.819162610211857 5.99203608274016 5.897227304208365 5.897227304208365 5.768210641844075\n"
     ]
    },
    {
     "data": {
      "image/png": "[encoded data removed]",
      "text/plain": [
       "<Figure size 432x288 with 1 Axes>"
      ]
     },
     "metadata": {
      "needs_background": "light"
     },
     "output_type": "display_data"
    }
   ],
   "source": [
    "nn1 = NeuralNet(X_train, y_train, [4], 1, sigmoid, d_sigmoid, sigmoid, d_sigmoid,\n",
    "                mse, d_mse, random_state = 1)\n",
    "nn1.train(eta = .00001, epochs = 20000)\n",
    "\n",
    "nn2 = NeuralNet(X_train, y_train, [4], 1, tanh, d_tanh, sigmoid, d_sigmoid,\n",
    "                mse, d_mse, random_state = 1)\n",
    "nn2.train(eta = .00001, epochs = 20000)\n",
    "\n",
    "nn3 = NeuralNet(X_train, y_train, [4], 1, relu, d_relu, sigmoid, d_sigmoid,\n",
    "                mse, d_mse, random_state = 1)\n",
    "nn3.train(eta = .00001, epochs = 20000)\n",
    "\n",
    "nn4 = NeuralNet(X_train, y_train, [4], 1, relu6, d_relu6, sigmoid, d_sigmoid,\n",
    "                mse, d_mse, random_state = 1)\n",
    "nn4.train(eta = .00001, epochs = 20000)\n",
    "\n",
    "nn5 = NeuralNet(X_train, y_train, [4], 1, leaky_relu, d_leaky_relu, sigmoid, d_sigmoid,\n",
    "                mse, d_mse, random_state = 1, alpha = .1)\n",
    "nn5.train(eta = .00001, epochs = 20000)\n",
    "\n",
    "\n",
    "# plt.ylim([0, 10])\n",
    "plt.plot(nn1.losses)\n",
    "plt.plot(nn2.losses, color = 'red')\n",
    "plt.plot(nn3.losses, color = 'green')\n",
    "plt.plot(nn4.losses, color = 'purple')\n",
    "plt.plot(nn5.losses, color = 'orange')\n",
    "\n",
    "preds1 = nn1.predict(X_test)\n",
    "preds2 = nn2.predict(X_test)\n",
    "preds3 = nn3.predict(X_test)\n",
    "preds4 = nn4.predict(X_test)\n",
    "preds5 = nn5.predict(X_test)\n",
    "\n",
    "rmse1 = np.sqrt(np.mean((y_scaler.inverse_transform(y_test) - y_scaler.inverse_transform(preds1)) ** 2))\n",
    "rmse2 = np.sqrt(np.mean((y_scaler.inverse_transform(y_test) - y_scaler.inverse_transform(preds2)) ** 2))\n",
    "rmse3 = np.sqrt(np.mean((y_scaler.inverse_transform(y_test) - y_scaler.inverse_transform(preds3)) ** 2))\n",
    "rmse4 = np.sqrt(np.mean((y_scaler.inverse_transform(y_test) - y_scaler.inverse_transform(preds4)) ** 2))\n",
    "rmse5 = np.sqrt(np.mean((y_scaler.inverse_transform(y_test) - y_scaler.inverse_transform(preds5)) ** 2))\n",
    "\n",
    "print(rmse1, rmse2, rmse3, rmse4, rmse5)"
   ]
  },
  {
   "cell_type": "markdown",
   "metadata": {},
   "source": [
    "### Initialize Binary Classification Data"
   ]
  },
  {
   "cell_type": "code",
   "execution_count": 492,
   "metadata": {},
   "outputs": [],
   "source": [
    "breast_cancer = datasets.load_breast_cancer()\n",
    "X = breast_cancer['data']\n",
    "y = breast_cancer['target'].reshape(-1, 1)\n",
    "\n",
    "X_scaler = StandardScaler().fit(X)\n",
    "X = X_scaler.transform(X)\n",
    "\n",
    "X_train, X_test, y_train, y_test = train_test_split(X, y, test_size = .3, random_state = 0)"
   ]
  },
  {
   "cell_type": "code",
   "execution_count": 493,
   "metadata": {},
   "outputs": [
    {
     "name": "stdout",
     "output_type": "stream",
     "text": [
      "0.9707602339181286 0.9766081871345029 0.9824561403508771\n"
     ]
    },
    {
     "data": {
      "image/png": "[encoded data removed]",
      "text/plain": [
       "<Figure size 432x288 with 1 Axes>"
      ]
     },
     "metadata": {
      "needs_background": "light"
     },
     "output_type": "display_data"
    }
   ],
   "source": [
    "nn1 = NeuralNet(X_train, y_train, [8], 1, sigmoid, d_sigmoid, sigmoid, d_sigmoid,\n",
    "                binary_cross_ent, d_binary_cross_ent, random_state = 0)\n",
    "\n",
    "nn1.train(eta = .0001, epochs = 2000)\n",
    "\n",
    "nn2 = NeuralNet(X_train, y_train, [8], 1, tanh, d_tanh, sigmoid, d_sigmoid,\n",
    "                binary_cross_ent, d_binary_cross_ent, random_state = 0)\n",
    "\n",
    "nn2.train(eta = .0001, epochs = 2000)\n",
    "\n",
    "nn3 = NeuralNet(X_train, y_train, [8], 1, relu, d_relu, sigmoid, d_sigmoid,\n",
    "                binary_cross_ent, d_binary_cross_ent, random_state = 0)\n",
    "\n",
    "nn3.train(eta = .0001, epochs = 2000)\n",
    "\n",
    "# plt.ylim([0, np.max(nn1.losses) * 1.1])\n",
    "plt.plot(np.exp(-1 * nn1.losses))\n",
    "plt.plot(np.exp(-1 * nn2.losses), color = 'red')\n",
    "plt.plot(np.exp(-1 * nn3.losses), color = 'green')\n",
    "\n",
    "preds1 = nn1.predict(X_test)\n",
    "preds2 = nn2.predict(X_test)\n",
    "preds3 = nn3.predict(X_test)\n",
    "\n",
    "accuracy1 = np.mean(np.round(preds1) == y_test)\n",
    "accuracy2 = np.mean(np.round(preds2) == y_test)\n",
    "accuracy3 = np.mean(np.round(preds3) == y_test)\n",
    "\n",
    "print(accuracy1, accuracy2, accuracy3)"
   ]
  },
  {
   "cell_type": "markdown",
   "metadata": {},
   "source": [
    "### Initialize Multi-Class Classification Data"
   ]
  },
  {
   "cell_type": "code",
   "execution_count": 489,
   "metadata": {},
   "outputs": [],
   "source": [
    "digits = datasets.load_digits()\n",
    "X = digits['data']\n",
    "y = digits['target']\n",
    "\n",
    "X_scaler = StandardScaler().fit(X)\n",
    "X = X_scaler.transform(X)\n",
    "\n",
    "y_onehot = np.zeros([len(y), len(np.unique(y))])\n",
    "\n",
    "for i in range(len(y)):\n",
    "    y_onehot[i, y[i]] = 1\n",
    "\n",
    "X_train, X_test, y_train, y_test = train_test_split(X, y_onehot, test_size = .3, random_state = 0)"
   ]
  },
  {
   "cell_type": "code",
   "execution_count": 490,
   "metadata": {},
   "outputs": [
    {
     "name": "stdout",
     "output_type": "stream",
     "text": [
      "0.9898148148148148\n"
     ]
    },
    {
     "data": {
      "image/png": "[encoded data removed]",
      "text/plain": [
       "<Figure size 432x288 with 1 Axes>"
      ]
     },
     "metadata": {
      "needs_background": "light"
     },
     "output_type": "display_data"
    }
   ],
   "source": [
    "nn1 = NeuralNet(X_train, y_train, [16], y_train.shape[1], sigmoid, d_sigmoid, softmax, d_softmax,\n",
    "                cross_entropy, d_cross_entropy, random_state = 0)\n",
    "\n",
    "nn1.train(eta = .0001, epochs = 2000)\n",
    "\n",
    "plt.plot(np.exp(-1 * nn1.losses))\n",
    "\n",
    "print(np.mean(np.round(nn1.predict(X_test)) == y_test))\n"
   ]
  }
 ],
 "metadata": {
  "kernelspec": {
   "display_name": "Python (tensorflow)",
   "language": "python",
   "name": "tensorflow"
  },
  "language_info": {
   "codemirror_mode": {
    "name": "ipython",
    "version": 3
   },
   "file_extension": ".py",
   "mimetype": "text/x-python",
   "name": "python",
   "nbconvert_exporter": "python",
   "pygments_lexer": "ipython3",
   "version": "3.7.3"
  }
 },
 "nbformat": 4,
 "nbformat_minor": 2
}

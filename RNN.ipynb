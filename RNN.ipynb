{
 "cells": [
  {
   "cell_type": "markdown",
   "metadata": {},
   "source": [
    "### Import Packages"
   ]
  },
  {
   "cell_type": "code",
   "execution_count": 362,
   "metadata": {},
   "outputs": [],
   "source": [
    "import numpy as np\n",
    "import matplotlib.pyplot as plt\n",
    "from nltk.corpus import gutenberg\n",
    "from collections import Counter\n",
    "from IPython.display import clear_output"
   ]
  },
  {
   "cell_type": "markdown",
   "metadata": {},
   "source": [
    "### Create Necessary Functions"
   ]
  },
  {
   "cell_type": "code",
   "execution_count": 363,
   "metadata": {},
   "outputs": [],
   "source": [
    "def softmax(z, extra_param = None):\n",
    "    sums = np.sum(np.exp(z))\n",
    "    return np.exp(z) / sums\n",
    "\n",
    "def one_hot(y, total_cats = None):\n",
    "    if total_cats == None:\n",
    "        y_onehot = np.zeros([len(y), len(np.unique(y))])\n",
    "    else:\n",
    "        y_onehot = np.zeros([len(y), total_cats])\n",
    "\n",
    "    for i in range(len(y)):\n",
    "        y_onehot[i, y[i]] = 1\n",
    "        \n",
    "    return y_onehot"
   ]
  },
  {
   "cell_type": "markdown",
   "metadata": {},
   "source": [
    "### Create RNN Class"
   ]
  },
  {
   "cell_type": "code",
   "execution_count": 455,
   "metadata": {},
   "outputs": [],
   "source": [
    "class RNN():\n",
    "    \n",
    "    def __init__(self, input_dim, hidden_dim, bptt_truncate = 4):\n",
    "        \n",
    "        self.input_dim = input_dim\n",
    "        self.hidden_dim = hidden_dim\n",
    "        self.bptt_truncate = bptt_truncate\n",
    "        \n",
    "        self.U = np.random.uniform(-1 / np.sqrt(self.input_dim), 1 / np.sqrt(self.input_dim),\n",
    "                                   [self.hidden_dim, self.input_dim])\n",
    "        self.V = np.random.uniform(-1 / np.sqrt(self.hidden_dim), 1 / np.sqrt(self.hidden_dim),\n",
    "                                   [self.input_dim, self.hidden_dim])\n",
    "        self.W = np.random.uniform(-1 / np.sqrt(self.hidden_dim), 1 / np.sqrt(self.hidden_dim),\n",
    "                                   [self.hidden_dim, self.hidden_dim])\n",
    "    \n",
    "    def forward_propagation(self, X):\n",
    "        # Total number of time steps\n",
    "        T = X.shape[0]\n",
    "\n",
    "        # Matrix to hold the hidden state at each step from 0 to T\n",
    "        S = np.zeros([T + 1, self.hidden_dim])\n",
    "        # Initialize to zero\n",
    "        S[-1, :] = np.zeros([self.hidden_dim])\n",
    "        \n",
    "        # Matrix to hold output at each time step\n",
    "        O = np.zeros([T, self.input_dim])\n",
    "        \n",
    "        for t in range(T):\n",
    "            S[t, :] = np.tanh(np.dot(self.U, X[t, :]) + np.dot(self.W, S[t - 1, :]))\n",
    "            O[t, :] = softmax(np.dot(self.V, S[t, :]))\n",
    "        return (O, S)\n",
    "    \n",
    "    def predict(self, X):\n",
    "        O, S = self.forward_propagation(X)\n",
    "        return np.argmax(O, axis = 1)\n",
    "    \n",
    "    def calc_total_loss(self, X, y):\n",
    "        O, S = self.forward_propagation(X)\n",
    "        return -1 * np.sum(np.log(np.sum(y * O, axis = 1))) / X.shape[0]\n",
    "    \n",
    "    def random_loss(self):\n",
    "        return np.log(self.input_dim)\n",
    "    \n",
    "    def bptt(self, X, y):\n",
    "        T = X.shape[0]\n",
    "        \n",
    "        O, S = self.forward_propagation(X)\n",
    "        \n",
    "        dL_dU = np.zeros(self.U.shape)\n",
    "        dL_dV = np.zeros(self.V.shape)\n",
    "        dL_dW = np.zeros(self.W.shape)\n",
    "        \n",
    "        for t in range(T):\n",
    "            \n",
    "            a_t = np.dot((O - y)[t, :], self.V) * (1 - S[t, :] ** 2)\n",
    "\n",
    "            for step in range(t, max(t - self.bptt_truncate, -1), -1):\n",
    "                \n",
    "                dL_dU += np.outer(a_t, X[step, :])\n",
    "                dL_dW += np.outer(a_t, S[step, :])\n",
    "                a_t = np.dot(a_t, self.W) * (1 - S[step - 1, :] ** 2)\n",
    "            \n",
    "            dL_dV += np.outer((O - y)[t, :], S[t, :])\n",
    "            \n",
    "        return (dL_dU, dL_dV, dL_dW)\n",
    "    \n",
    "    def sgd_step(self, X, y, lr, eta):\n",
    "        (dL_dU, dL_dV, dL_dW) = self.bptt(X, y)\n",
    "        \n",
    "        # Gradient Clipping\n",
    "        if np.linalg.norm(dL_dU) > eta:\n",
    "            dL_dU = dL_dU * eta / np.linalg.norm(dL_dU)\n",
    "        if np.linalg.norm(dL_dV) > eta:\n",
    "            dL_dV = dL_dV * eta / np.linalg.norm(dL_dV)\n",
    "        if np.linalg.norm(dL_dW) > eta:\n",
    "            dL_dW = dL_dW * eta / np.linalg.norm(dL_dW)\n",
    "            \n",
    "        self.U = self.U - lr * dL_dU\n",
    "        self.V = self.V - lr * dL_dV\n",
    "        self.W = self.W - lr * dL_dW"
   ]
  },
  {
   "cell_type": "markdown",
   "metadata": {},
   "source": [
    "### Create Dataset"
   ]
  },
  {
   "cell_type": "code",
   "execution_count": 469,
   "metadata": {},
   "outputs": [],
   "source": [
    "# X is an array with the number of all words on columns, and the sequence of words on rows\n",
    "\n",
    "\n",
    "\n",
    "alice = list(gutenberg.words('carroll-alice.txt'))[200:400]\n",
    "alice = [word.lower() for word in alice]\n",
    "alice_counter = Counter(alice)\n",
    "\n",
    "num_words = len(alice_counter.most_common())\n",
    "word_idxs = {alice_counter.most_common()[i][0]: i for i in range(len(alice_counter.most_common()))}\n",
    "\n",
    "# print(word_idxs)\n",
    "    \n",
    "vocabulary = [word for word in word_idxs.keys()]\n",
    "X = [word_idxs[word] for word in alice]\n",
    "X = one_hot(X)"
   ]
  },
  {
   "cell_type": "markdown",
   "metadata": {},
   "source": [
    "### Train Model"
   ]
  },
  {
   "cell_type": "code",
   "execution_count": 487,
   "metadata": {},
   "outputs": [
    {
     "data": {
      "image/png": "[encoded data removed]",
      "text/plain": [
       "<Figure size 432x288 with 1 Axes>"
      ]
     },
     "metadata": {
      "needs_background": "light"
     },
     "output_type": "display_data"
    },
    {
     "name": "stdout",
     "output_type": "stream",
     "text": [
      "Iteration: 9999 - Current Loss: 3.4238592750912487\n",
      "['waistcoat', '-', 'pocket', ',', 'and']\n",
      "['it', ',', ',', 'and', 'then']\n"
     ]
    },
    {
     "data": {
      "text/plain": [
       "<matplotlib.collections.LineCollection at 0x17f3654b828>"
      ]
     },
     "execution_count": 487,
     "metadata": {},
     "output_type": "execute_result"
    },
    {
     "data": {
      "image/png": "[encoded data removed]",
      "text/plain": [
       "<Figure size 432x288 with 1 Axes>"
      ]
     },
     "metadata": {
      "needs_background": "light"
     },
     "output_type": "display_data"
    }
   ],
   "source": [
    "rnn = RNN(X.shape[1], 64, 4)\n",
    "losses = []\n",
    "\n",
    "for i in range(10000):\n",
    "    if i % 10 == 9:\n",
    "        clear_output()\n",
    "        plt.plot(losses)\n",
    "        plt.show()\n",
    "        print('Iteration: ' + str(i) + ' - Current Loss: ' + str(losses[-1]))\n",
    "    rnn.sgd_step(X[0:X.shape[0] - 1, :], X[1:X.shape[0], :], .0005, 2)\n",
    "    losses.append(rnn.calc_total_loss(X, X))\n",
    "    \n",
    "\n",
    "print([val for val in alice[30:35]])\n",
    "output = rnn.predict(X[30:35, :])\n",
    "print([vocabulary[val] for val in output])\n",
    "\n",
    "plt.plot(losses)\n",
    "plt.hlines(y = rnn.random_loss(), xmin = 0, xmax = len(losses))"
   ]
  },
  {
   "cell_type": "markdown",
   "metadata": {},
   "source": [
    "### Generate Text From Trained Model"
   ]
  },
  {
   "cell_type": "code",
   "execution_count": 491,
   "metadata": {},
   "outputs": [
    {
     "data": {
      "text/plain": [
       "['alice',\n",
       " 'had',\n",
       " 'a',\n",
       " 'watch',\n",
       " 'to',\n",
       " 'to',\n",
       " 'think',\n",
       " 'wondered',\n",
       " ',',\n",
       " 'or',\n",
       " 'at',\n",
       " 'with',\n",
       " 'with',\n",
       " ',',\n",
       " 'or',\n",
       " 'a',\n",
       " 'to',\n",
       " 'to',\n",
       " 'wondered',\n",
       " 'out',\n",
       " 'of']"
      ]
     },
     "execution_count": 491,
     "metadata": {},
     "output_type": "execute_result"
    }
   ],
   "source": [
    "seed = ['alice']\n",
    "\n",
    "for i in range(20):\n",
    "    seed_idx = [word_idxs[word] for word in seed]\n",
    "    seed_X = one_hot(seed_idx, len(vocabulary))\n",
    "\n",
    "    output = [vocabulary[val] for val in rnn.predict(seed_X)]\n",
    "    seed.append(output[-1])\n",
    "seed"
   ]
  }
 ],
 "metadata": {
  "kernelspec": {
   "display_name": "Python (tensorflow)",
   "language": "python",
   "name": "tensorflow"
  },
  "language_info": {
   "codemirror_mode": {
    "name": "ipython",
    "version": 3
   },
   "file_extension": ".py",
   "mimetype": "text/x-python",
   "name": "python",
   "nbconvert_exporter": "python",
   "pygments_lexer": "ipython3",
   "version": "3.7.3"
  }
 },
 "nbformat": 4,
 "nbformat_minor": 2
}

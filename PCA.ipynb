{
 "cells": [
  {
   "cell_type": "markdown",
   "metadata": {},
   "source": [
    "### Import Packages"
   ]
  },
  {
   "cell_type": "code",
   "execution_count": 1,
   "metadata": {},
   "outputs": [],
   "source": [
    "import numpy as np\n",
    "from sklearn import datasets\n",
    "from sklearn.preprocessing import StandardScaler\n",
    "import matplotlib.pyplot as plt\n",
    "import scipy as sp"
   ]
  },
  {
   "cell_type": "markdown",
   "metadata": {},
   "source": [
    "### Create Dataset"
   ]
  },
  {
   "cell_type": "code",
   "execution_count": 49,
   "metadata": {},
   "outputs": [],
   "source": [
    "boston = datasets.load_boston()\n",
    "iris = datasets.load_iris()\n",
    "wine = datasets.load_wine()\n",
    "X = wine['data']\n",
    "y = wine['target']"
   ]
  },
  {
   "cell_type": "markdown",
   "metadata": {},
   "source": [
    "### Scale Data"
   ]
  },
  {
   "cell_type": "code",
   "execution_count": 50,
   "metadata": {},
   "outputs": [],
   "source": [
    "scaler = StandardScaler().fit(X)\n",
    "Z = scaler.transform(X)"
   ]
  },
  {
   "cell_type": "markdown",
   "metadata": {},
   "source": [
    "### Perform PCA"
   ]
  },
  {
   "cell_type": "code",
   "execution_count": 51,
   "metadata": {},
   "outputs": [],
   "source": [
    "cov_Z = np.dot(np.transpose(Z), Z)\n",
    "\n",
    "values, vectors = np.linalg.eig(cov_Z)\n",
    "idx = np.argsort(values)[::-1]\n",
    "values_star = values[idx]\n",
    "D = np.diag(values_star)\n",
    "P_star = vectors[:, idx]\n",
    "\n",
    "Z_star = np.dot(Z, P_star)"
   ]
  },
  {
   "cell_type": "markdown",
   "metadata": {},
   "source": [
    "### Determine which Features to Keep - Scree Plot"
   ]
  },
  {
   "cell_type": "code",
   "execution_count": 52,
   "metadata": {},
   "outputs": [
    {
     "data": {
      "text/plain": [
       "[<matplotlib.lines.Line2D at 0x1eaa7783f98>]"
      ]
     },
     "execution_count": 52,
     "metadata": {},
     "output_type": "execute_result"
    },
    {
     "data": {
      "image/png": "[encoded data removed]",
      "text/plain": [
       "<Figure size 432x288 with 1 Axes>"
      ]
     },
     "metadata": {
      "needs_background": "light"
     },
     "output_type": "display_data"
    }
   ],
   "source": [
    "pct_var = [np.sum(values_star[:i + 1]) / np.sum(values_star) for i in range(len(values_star))]\n",
    "\n",
    "plt.plot([i + 1 for i in range(len(values_star))], pct_var)\n",
    "plt.plot([0, len(values_star)], [.9, .9], linestyle = 'dashed', color = 'gray')"
   ]
  },
  {
   "cell_type": "markdown",
   "metadata": {},
   "source": [
    "### Elbow Plot"
   ]
  },
  {
   "cell_type": "code",
   "execution_count": 53,
   "metadata": {},
   "outputs": [
    {
     "data": {
      "text/plain": [
       "[<matplotlib.lines.Line2D at 0x1eaa781f550>]"
      ]
     },
     "execution_count": 53,
     "metadata": {},
     "output_type": "execute_result"
    },
    {
     "data": {
      "image/png": "[encoded data removed]",
      "text/plain": [
       "<Figure size 432x288 with 1 Axes>"
      ]
     },
     "metadata": {
      "needs_background": "light"
     },
     "output_type": "display_data"
    }
   ],
   "source": [
    "pct_var_ind = [values_star[i] / np.sum(values_star) for i in range(len(values_star))]\n",
    "plt.plot([i + 1 for i in range(len(values_star))], pct_var_ind)"
   ]
  },
  {
   "cell_type": "markdown",
   "metadata": {},
   "source": [
    "### Interpret Remaining Components - Boston Dataset"
   ]
  },
  {
   "cell_type": "code",
   "execution_count": 39,
   "metadata": {},
   "outputs": [
    {
     "data": {
      "text/plain": [
       "array([[ 0.        ,  0.31525237,  0.        ,  0.        ],\n",
       "       [ 0.        ,  0.3233129 ,  0.        ,  0.        ],\n",
       "       [-0.34667207,  0.        ,  0.        ,  0.        ],\n",
       "       [ 0.        , -0.45482914,  0.        , -0.81594136],\n",
       "       [-0.34285231,  0.        ,  0.        ,  0.        ],\n",
       "       [ 0.        ,  0.        , -0.59396117,  0.        ],\n",
       "       [-0.3136706 , -0.31197778,  0.        ,  0.        ],\n",
       "       [ 0.32154387,  0.34907   ,  0.        ,  0.        ],\n",
       "       [-0.31979277,  0.        ,  0.        ,  0.        ],\n",
       "       [-0.33846915,  0.        ,  0.        ,  0.        ],\n",
       "       [ 0.        ,  0.30589695,  0.32344627,  0.        ],\n",
       "       [ 0.        ,  0.        ,  0.3001459 ,  0.        ],\n",
       "       [-0.30975984,  0.        ,  0.        ,  0.        ]])"
      ]
     },
     "execution_count": 39,
     "metadata": {},
     "output_type": "execute_result"
    }
   ],
   "source": [
    "# Assume we are keeping 4 components\n",
    "# Boston Dataset Column Descriptions\n",
    "    # CRIM per capita crime rate by town\n",
    "    # ZN proportion of residential land zoned for lots over 25,000 sq.ft.\n",
    "    # INDUS proportion of non-retail business acres per town\n",
    "    # CHAS Charles River dummy variable (= 1 if tract bounds river; 0 otherwise)\n",
    "    # NOX nitric oxides concentration (parts per 10 million)\n",
    "    # RM average number of rooms per dwelling\n",
    "    # AGE proportion of owner-occupied units built prior to 1940\n",
    "    # DIS weighted distances to five Boston employment centres\n",
    "    # RAD index of accessibility to radial highways\n",
    "    # TAX full-value property-tax rate per $10,000\n",
    "    # PTRATIO pupil-teacher ratio by town\n",
    "    # B 1000(Bk - 0.63)^2 where Bk is the proportion of blacks by town\n",
    "    # LSTAT % lower status of the population\n",
    "    # MEDV Median value of owner-occupied homes in $1000’s\n",
    "np.where(np.abs(P_star[:, 0:4]) < .3, 0, P_star[:, 0:4])\n",
    "\n",
    "# First Component is a measure of many things excluding crime, proportion of blacks, status,\n",
    "    # rooms per dwelling, and charles river - Essentially is this neighboorhood commercial or not?\n",
    "# Seconds component is about crime, distance to employment centers, proportion of blacks, and charles river\n",
    "# Third component is about rooms per dwelling, proportion of blacks, and lower status\n",
    "# Fourth component is about Charles river"
   ]
  },
  {
   "cell_type": "markdown",
   "metadata": {},
   "source": [
    "### Interpret Remaining Components - Iris"
   ]
  },
  {
   "cell_type": "code",
   "execution_count": 48,
   "metadata": {},
   "outputs": [
    {
     "data": {
      "text/plain": [
       "array([[ 0.52106591,  0.        , -0.71956635],\n",
       "       [ 0.        , -0.92329566,  0.        ],\n",
       "       [ 0.5804131 ,  0.        ,  0.        ],\n",
       "       [ 0.56485654,  0.        ,  0.63427274]])"
      ]
     },
     "execution_count": 48,
     "metadata": {},
     "output_type": "execute_result"
    }
   ],
   "source": [
    "np.where(np.abs(P_star[:, 0:3]) < .5, 0, P_star[:, 0:3])"
   ]
  },
  {
   "cell_type": "markdown",
   "metadata": {},
   "source": [
    "### Interpret Remaining Components - Wine"
   ]
  },
  {
   "cell_type": "code",
   "execution_count": 56,
   "metadata": {},
   "outputs": [
    {
     "data": {
      "text/plain": [
       "array([[ 0.        , -0.48365155,  0.        ,  0.        ],\n",
       "       [ 0.        ,  0.        ,  0.        ,  0.53689028],\n",
       "       [ 0.        ,  0.        , -0.6262239 ,  0.        ],\n",
       "       [ 0.        ,  0.        , -0.61208035,  0.        ],\n",
       "       [ 0.        ,  0.        ,  0.        , -0.35179658],\n",
       "       [-0.39466085,  0.        ,  0.        ,  0.        ],\n",
       "       [-0.4229343 ,  0.        ,  0.        ,  0.        ],\n",
       "       [ 0.        ,  0.        ,  0.        ,  0.        ],\n",
       "       [ 0.        ,  0.        ,  0.        ,  0.39905653],\n",
       "       [ 0.        , -0.52999567,  0.        ,  0.        ],\n",
       "       [ 0.        ,  0.        ,  0.        , -0.42777141],\n",
       "       [-0.37616741,  0.        ,  0.        ,  0.        ],\n",
       "       [ 0.        , -0.36490283,  0.        ,  0.        ]])"
      ]
     },
     "execution_count": 56,
     "metadata": {},
     "output_type": "execute_result"
    }
   ],
   "source": [
    "np.where(np.abs(P_star[:, 0:4]) < .35, 0, P_star[:, 0:4])"
   ]
  }
 ],
 "metadata": {
  "kernelspec": {
   "display_name": "Python (tensorflow)",
   "language": "python",
   "name": "tensorflow"
  },
  "language_info": {
   "codemirror_mode": {
    "name": "ipython",
    "version": 3
   },
   "file_extension": ".py",
   "mimetype": "text/x-python",
   "name": "python",
   "nbconvert_exporter": "python",
   "pygments_lexer": "ipython3",
   "version": "3.7.3"
  }
 },
 "nbformat": 4,
 "nbformat_minor": 2
}

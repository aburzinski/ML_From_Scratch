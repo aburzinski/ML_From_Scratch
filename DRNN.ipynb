{
 "cells": [
  {
   "cell_type": "markdown",
   "metadata": {},
   "source": [
    "### Import Packages"
   ]
  },
  {
   "cell_type": "code",
   "execution_count": 6,
   "metadata": {},
   "outputs": [],
   "source": [
    "import numpy as np\n",
    "import matplotlib.pyplot as plt\n",
    "from nltk.corpus import gutenberg\n",
    "from collections import Counter\n",
    "from IPython.display import clear_output"
   ]
  },
  {
   "cell_type": "markdown",
   "metadata": {},
   "source": [
    "### Create Necessary Functions"
   ]
  },
  {
   "cell_type": "code",
   "execution_count": 7,
   "metadata": {},
   "outputs": [],
   "source": [
    "def softmax(z, extra_param = None):\n",
    "    sums = np.sum(np.exp(z))\n",
    "    return np.exp(z) / sums\n",
    "\n",
    "def one_hot(y, total_cats = None):\n",
    "    if total_cats == None:\n",
    "        y_onehot = np.zeros([len(y), len(np.unique(y))])\n",
    "    else:\n",
    "        y_onehot = np.zeros([len(y), total_cats])\n",
    "\n",
    "    for i in range(len(y)):\n",
    "        y_onehot[i, y[i]] = 1\n",
    "        \n",
    "    return y_onehot"
   ]
  },
  {
   "cell_type": "markdown",
   "metadata": {},
   "source": [
    "### Create DRNN Class"
   ]
  },
  {
   "cell_type": "code",
   "execution_count": 45,
   "metadata": {},
   "outputs": [],
   "source": [
    "class DRNN():\n",
    "    \n",
    "    def __init__(self, input_dim, hidden_one_dim, hidden_two_dim, bptt_truncate = 4):\n",
    "        \n",
    "        self.input_dim = input_dim\n",
    "        self.hidden_one_dim = hidden_one_dim\n",
    "        self.hidden_two_dim = hidden_two_dim\n",
    "        self.bptt_truncate = bptt_truncate\n",
    "        \n",
    "        self.U = np.random.uniform(-1 / np.sqrt(self.input_dim), 1 / np.sqrt(self.input_dim),\n",
    "                                   [self.hidden_one_dim, self.input_dim])\n",
    "        self.V = np.random.uniform(-1 / np.sqrt(self.hidden_two_dim), 1 / np.sqrt(self.hidden_two_dim),\n",
    "                                   [self.input_dim, self.hidden_two_dim])\n",
    "        self.W1 = np.random.uniform(-1 / np.sqrt(self.hidden_one_dim), 1 / np.sqrt(self.hidden_one_dim),\n",
    "                                   [self.hidden_one_dim, self.hidden_one_dim])\n",
    "        self.W2 = np.random.uniform(-1 / np.sqrt(self.hidden_two_dim), 1 / np.sqrt(self.hidden_two_dim),\n",
    "                                   [self.hidden_two_dim, self.hidden_two_dim])\n",
    "        self.X = np.random.uniform(-1 / np.sqrt(self.hidden_two_dim), 1 / np.sqrt(self.hidden_two_dim),\n",
    "                                   [self.hidden_two_dim, self.hidden_one_dim])\n",
    "    \n",
    "    def forward_propagation(self, X):\n",
    "        # Total number of time steps\n",
    "        T = X.shape[0]\n",
    "\n",
    "        # Matrix to hold the hidden state at each step from 0 to T\n",
    "        S1 = np.zeros([T + 1, self.hidden_one_dim])\n",
    "        S2 = np.zeros([T + 1, self.hidden_two_dim])\n",
    "        # Initialize to zero\n",
    "        S1[-1, :] = np.zeros([self.hidden_one_dim])\n",
    "        S2[-1, :] = np.zeros([self.hidden_two_dim])\n",
    "        \n",
    "        # Matrix to hold output at each time step\n",
    "        O = np.zeros([T, self.input_dim])\n",
    "        \n",
    "        for t in range(T):\n",
    "            S1[t, :] = np.tanh(np.dot(self.U, X[t, :]) + np.dot(self.W1, S1[t - 1, :]))\n",
    "            S2[t, :] = np.tanh(np.dot(self.X, S1[t, :]) + np.dot(self.W2, S2[t - 1, :]))\n",
    "            O[t, :] = softmax(np.dot(self.V, S2[t, :]))\n",
    "        return (O, S1, S2)\n",
    "    \n",
    "    def predict(self, X):\n",
    "        O, S1, S2 = self.forward_propagation(X)\n",
    "        return np.argmax(O, axis = 1)\n",
    "    \n",
    "    def calc_total_loss(self, X, y):\n",
    "        O, S1, S2 = self.forward_propagation(X)\n",
    "        return -1 * np.sum(np.log(np.sum(y * O, axis = 1))) / X.shape[0]\n",
    "    \n",
    "    def random_loss(self):\n",
    "        return np.log(self.input_dim)\n",
    "    \n",
    "    def bptt(self, X, y):\n",
    "        T = X.shape[0]\n",
    "        \n",
    "        O, S1, S2 = self.forward_propagation(X)\n",
    "        \n",
    "        dL_dU = np.zeros(self.U.shape)\n",
    "        dL_dV = np.zeros(self.V.shape)\n",
    "        dL_dW1 = np.zeros(self.W1.shape)\n",
    "        dL_dW2 = np.zeros(self.W2.shape)\n",
    "        dL_dX = np.zeros(self.X.shape)\n",
    "        \n",
    "        for t in range(T):\n",
    "            \n",
    "            a2_t = np.dot((O - y)[t, :], self.V) * (1 - S2[t, :] ** 2)\n",
    "            a1_t = np.dot(a2_t, self.X) * (1 - S1[t, :] ** 2)\n",
    "\n",
    "            for step in range(t, max(t - self.bptt_truncate, -1), -1):\n",
    "                \n",
    "                dL_dU += np.outer(a1_t, X[step, :])\n",
    "                dL_dW1 += np.outer(a1_t, S1[step, :])\n",
    "                dL_dX += np.outer(a2_t, S1[step, :])\n",
    "                dL_dW2 += np.outer(a2_t, S2[step, :])\n",
    "                \n",
    "                a2_t = np.dot((O - y)[t, :], self.V) * (1 - S2[step - 1, :] ** 2)\n",
    "                a1_t = np.dot(a2_t, self.X) * (1 - S1[step - 1, :] ** 2)\n",
    "            \n",
    "            dL_dV += np.outer((O - y)[t, :], S2[t, :])\n",
    "        \n",
    "        return (dL_dU, dL_dV, dL_dW1, dL_dW2, dL_dX)\n",
    "    \n",
    "    def sgd_step(self, X, y, lr, eta):\n",
    "        (dL_dU, dL_dV, dL_dW1, dL_dW2, dL_dX) = self.bptt(X, y)\n",
    "        \n",
    "        # Gradient Clipping\n",
    "        if np.linalg.norm(dL_dU) > eta:\n",
    "            dL_dU = dL_dU * eta / np.linalg.norm(dL_dU)\n",
    "        if np.linalg.norm(dL_dV) > eta:\n",
    "            dL_dV = dL_dV * eta / np.linalg.norm(dL_dV)\n",
    "        if np.linalg.norm(dL_dW1) > eta:\n",
    "            dL_dW1 = dL_dW1 * eta / np.linalg.norm(dL_dW1)\n",
    "        if np.linalg.norm(dL_dW2) > eta:\n",
    "            dL_dW2 = dL_dW2 * eta / np.linalg.norm(dL_dW2)\n",
    "        if np.linalg.norm(dL_dX) > eta:\n",
    "            dL_dX = dL_dX * eta / np.linalg.norm(dL_dX)\n",
    "        \n",
    "        self.U = self.U - lr * dL_dU\n",
    "        self.V = self.V - lr * dL_dV\n",
    "        self.W1 = self.W1 - lr * dL_dW1\n",
    "        self.W2 = self.W2 - lr * dL_dW2\n",
    "        self.X = self.X - lr * dL_dX"
   ]
  },
  {
   "cell_type": "markdown",
   "metadata": {},
   "source": [
    "### Create Dataset"
   ]
  },
  {
   "cell_type": "code",
   "execution_count": 55,
   "metadata": {},
   "outputs": [],
   "source": [
    "alice = list(gutenberg.raw('carroll-alice.txt').replace('\\n', '').lower())[0:1000]\n",
    "alice_counter = Counter(alice)\n",
    "\n",
    "num_letters = len(alice_counter.most_common())\n",
    "letter_idxs = {alice_counter.most_common()[i][0]: i for i in range(len(alice_counter.most_common()))}\n",
    "\n",
    "# print(letter_idxs)\n",
    "    \n",
    "vocabulary = [word for word in letter_idxs.keys()]\n",
    "X = [letter_idxs[letter] for letter in alice]\n",
    "X = one_hot(X)"
   ]
  },
  {
   "cell_type": "markdown",
   "metadata": {},
   "source": [
    "### Train Model"
   ]
  },
  {
   "cell_type": "code",
   "execution_count": 68,
   "metadata": {},
   "outputs": [
    {
     "data": {
      "image/png": "[encoded data removed]",
      "text/plain": [
       "<Figure size 432x288 with 1 Axes>"
      ]
     },
     "metadata": {
      "needs_background": "light"
     },
     "output_type": "display_data"
    },
    {
     "name": "stdout",
     "output_type": "stream",
     "text": [
      "Iteration: 9999 - Current Loss: 2.952680655921208\n",
      "['a', 'n', 'd', ' ', 'b']\n",
      "['l', 'i', 'e', 'e', ' ']\n"
     ]
    },
    {
     "data": {
      "text/plain": [
       "<matplotlib.collections.LineCollection at 0x13ab9bddd68>"
      ]
     },
     "execution_count": 68,
     "metadata": {},
     "output_type": "execute_result"
    },
    {
     "data": {
      "image/png": "[encoded data removed]",
      "text/plain": [
       "<Figure size 432x288 with 1 Axes>"
      ]
     },
     "metadata": {
      "needs_background": "light"
     },
     "output_type": "display_data"
    }
   ],
   "source": [
    "drnn = DRNN(X.shape[1], 16, 4, 4)\n",
    "losses = []\n",
    "\n",
    "for i in range(10000):\n",
    "    if i % 10 == 9:\n",
    "        clear_output()\n",
    "        plt.plot(losses)\n",
    "        plt.show()\n",
    "        print('Iteration: ' + str(i) + ' - Current Loss: ' + str(losses[-1]))\n",
    "    drnn.sgd_step(X[0:X.shape[0] - 1], X[1:X.shape[0]], .001, 2)\n",
    "#     drnn.sgd_step(X, X, .001, 2)\n",
    "    losses.append(drnn.calc_total_loss(X, X))\n",
    "    \n",
    "\n",
    "print([val for val in alice[30:35]])\n",
    "output = drnn.predict(X[30:35, :])\n",
    "print([vocabulary[val] for val in output])\n",
    "\n",
    "plt.plot(losses)\n",
    "plt.hlines(y = drnn.random_loss(), xmin = 0, xmax = len(losses))"
   ]
  },
  {
   "cell_type": "markdown",
   "metadata": {},
   "source": [
    "### Generate Text From Trained Model"
   ]
  },
  {
   "cell_type": "code",
   "execution_count": 74,
   "metadata": {},
   "outputs": [
    {
     "data": {
      "text/plain": [
       "['a',\n",
       " 'l',\n",
       " \"'\",\n",
       " 'c',\n",
       " 'e',\n",
       " 'e',\n",
       " ' ',\n",
       " ' ',\n",
       " ' ',\n",
       " ' ',\n",
       " ' ',\n",
       " ' ',\n",
       " ' ',\n",
       " ' ',\n",
       " ' ',\n",
       " ' ',\n",
       " ' ',\n",
       " ' ',\n",
       " ' ',\n",
       " ' ',\n",
       " ' ',\n",
       " ' ']"
      ]
     },
     "execution_count": 74,
     "metadata": {},
     "output_type": "execute_result"
    }
   ],
   "source": [
    "seed = ['a', 'l']\n",
    "\n",
    "for i in range(20):\n",
    "    seed_idx = [letter_idxs[letter] for letter in seed]\n",
    "    seed_X = one_hot(seed_idx, len(vocabulary))\n",
    "\n",
    "    output = [vocabulary[val] for val in drnn.predict(seed_X)]\n",
    "    seed.append(output[-1])\n",
    "seed"
   ]
  }
 ],
 "metadata": {
  "kernelspec": {
   "display_name": "Python (tensorflow)",
   "language": "python",
   "name": "tensorflow"
  },
  "language_info": {
   "codemirror_mode": {
    "name": "ipython",
    "version": 3
   },
   "file_extension": ".py",
   "mimetype": "text/x-python",
   "name": "python",
   "nbconvert_exporter": "python",
   "pygments_lexer": "ipython3",
   "version": "3.7.3"
  }
 },
 "nbformat": 4,
 "nbformat_minor": 2
}

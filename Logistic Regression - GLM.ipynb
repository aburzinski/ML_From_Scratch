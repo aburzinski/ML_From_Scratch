{
 "cells": [
  {
   "cell_type": "markdown",
   "metadata": {},
   "source": [
    "### Import Required Packages"
   ]
  },
  {
   "cell_type": "code",
   "execution_count": 1,
   "metadata": {},
   "outputs": [],
   "source": [
    "import numpy as np\n",
    "from sklearn import datasets"
   ]
  },
  {
   "cell_type": "markdown",
   "metadata": {},
   "source": [
    "### Create MLE Functions"
   ]
  },
  {
   "cell_type": "code",
   "execution_count": 2,
   "metadata": {},
   "outputs": [],
   "source": [
    "# Calculate derivative of log-likelihood\n",
    "def log_like_deriv(Y, X, P):\n",
    "    return np.sum((Y - P) * np.transpose(X), axis = 1)"
   ]
  },
  {
   "cell_type": "code",
   "execution_count": 3,
   "metadata": {},
   "outputs": [],
   "source": [
    "# Calculate probabilities of each observation\n",
    "def probs(X, beta):\n",
    "    exps = np.exp(np.sum(beta * X, axis = 1))\n",
    "    return exps / (1 + exps)"
   ]
  },
  {
   "cell_type": "code",
   "execution_count": 4,
   "metadata": {},
   "outputs": [],
   "source": [
    "# Calculate W Martix\n",
    "def calc_W(P):\n",
    "    return np.diag(P * (1 - P))"
   ]
  },
  {
   "cell_type": "markdown",
   "metadata": {},
   "source": [
    "### Calculate Log Likelihood"
   ]
  },
  {
   "cell_type": "code",
   "execution_count": 5,
   "metadata": {},
   "outputs": [],
   "source": [
    "def log_likelihood(Y, P):\n",
    "    log_llh = Y * np.log(P) + (1 - Y) * np.log(1 - P)\n",
    "    return np.sum(log_llh)"
   ]
  },
  {
   "cell_type": "code",
   "execution_count": 6,
   "metadata": {},
   "outputs": [],
   "source": [
    "# Calculate likelihood\n",
    "def likelihood(Y, P):\n",
    "    llh_row = Y * P + (1 - Y) * (1 - P)\n",
    "    return np.product(llh_row)"
   ]
  },
  {
   "cell_type": "markdown",
   "metadata": {},
   "source": [
    "### Initialize Necessary Vectors"
   ]
  },
  {
   "cell_type": "code",
   "execution_count": 19,
   "metadata": {},
   "outputs": [],
   "source": [
    "iris = datasets.load_iris()\n",
    "Y = iris['target'][0:100]\n",
    "X = np.reshape(iris['data'][0:100, 0], (100, -1))\n",
    "\n",
    "P = np.zeros([X.shape[0]])  # Size equal to the number of observataions\n",
    "beta = np.zeros([X.shape[1] + 1])  # Size equal to one plus the number of features\n",
    "X = np.insert(X, 0, 1, axis = 1)"
   ]
  },
  {
   "cell_type": "markdown",
   "metadata": {},
   "source": [
    "### Maximize Likelihood to Solve for Betas (Solve using Newton Raphson)"
   ]
  },
  {
   "cell_type": "code",
   "execution_count": 27,
   "metadata": {},
   "outputs": [
    {
     "name": "stdout",
     "output_type": "stream",
     "text": [
      "[-27.83145099   5.14033614]\n",
      "[ 3.95768663e-13 -7.32191855e-14]\n"
     ]
    }
   ],
   "source": [
    "print(beta)\n",
    "\n",
    "P = probs(X, beta)\n",
    "\n",
    "W = calc_W(P)\n",
    "\n",
    "H = np.linalg.multi_dot([np.transpose(X), W, X])\n",
    "delta = np.dot(np.linalg.inv(H), np.dot(np.transpose(X), (Y - P)))\n",
    "print(delta)\n",
    "\n",
    "beta = beta + delta"
   ]
  }
 ],
 "metadata": {
  "kernelspec": {
   "display_name": "Python (tensorflow)",
   "language": "python",
   "name": "tensorflow"
  },
  "language_info": {
   "codemirror_mode": {
    "name": "ipython",
    "version": 3
   },
   "file_extension": ".py",
   "mimetype": "text/x-python",
   "name": "python",
   "nbconvert_exporter": "python",
   "pygments_lexer": "ipython3",
   "version": "3.7.3"
  }
 },
 "nbformat": 4,
 "nbformat_minor": 2
}

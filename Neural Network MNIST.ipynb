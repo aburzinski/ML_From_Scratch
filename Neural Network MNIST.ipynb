{
 "cells": [
  {
   "cell_type": "markdown",
   "metadata": {},
   "source": [
    "### Import Packages"
   ]
  },
  {
   "cell_type": "code",
   "execution_count": 38,
   "metadata": {},
   "outputs": [],
   "source": [
    "import numpy as np\n",
    "from sklearn import datasets\n",
    "from sklearn.preprocessing import StandardScaler\n",
    "from sklearn.preprocessing import MinMaxScaler\n",
    "from sklearn.model_selection import train_test_split\n",
    "import matplotlib.pyplot as plt\n",
    "from tensorflow.keras import datasets as tf_datasets\n",
    "from sklearn.metrics import confusion_matrix\n",
    "from IPython.display import clear_output"
   ]
  },
  {
   "cell_type": "markdown",
   "metadata": {},
   "source": [
    "### Create Activation_Functions"
   ]
  },
  {
   "cell_type": "code",
   "execution_count": 5,
   "metadata": {},
   "outputs": [],
   "source": [
    "def sigmoid(z, extra_param = None):\n",
    "    return np.exp(z) / (1 + np.exp(z))\n",
    "\n",
    "def d_sigmoid(z, extra_param = None):\n",
    "    return sigmoid(z) * (1 - sigmoid(z))\n",
    "\n",
    "def tanh(z, extra_param = None):\n",
    "    return (np.exp(2 * z) - 1) / (np.exp(2 * z) + 1)\n",
    "\n",
    "def d_tanh(z, extra_param = None):\n",
    "    return 1 - tanh(z) ** 2\n",
    "\n",
    "def leaky_relu(z, alpha):\n",
    "    return z * (z > 0) + (alpha * z) * (z <= 0)\n",
    "\n",
    "def d_leaky_relu(z, alpha):\n",
    "    return 1 * (z > 0) - alpha * (z < 0)\n",
    "\n",
    "def softmax(z, extra_param = None):\n",
    "    sums = np.dot(np.transpose(np.sum(np.exp(z), axis = 1).reshape(1, -1)), np.ones([1, z.shape[1]]))\n",
    "    return np.exp(z) / sums\n",
    "\n",
    "def d_softmax(z, extra_param = None):\n",
    "    # Using this to return 1 since both parts of this gradient are calculated in the d_loss function\n",
    "    return 1"
   ]
  },
  {
   "cell_type": "markdown",
   "metadata": {},
   "source": [
    "### Create Loss Functions"
   ]
  },
  {
   "cell_type": "code",
   "execution_count": 6,
   "metadata": {},
   "outputs": [],
   "source": [
    "def cross_entropy(y, a):\n",
    "    return np.mean(-1 * np.sum(y * np.log(a), axis = 1))\n",
    "\n",
    "def d_cross_entropy(y, a):\n",
    "    return a - y"
   ]
  },
  {
   "cell_type": "markdown",
   "metadata": {},
   "source": [
    "### Create One-Hot Function"
   ]
  },
  {
   "cell_type": "code",
   "execution_count": 7,
   "metadata": {},
   "outputs": [],
   "source": [
    "def one_hot(y):\n",
    "    y_onehot = np.zeros([len(y), len(np.unique(y))])\n",
    "\n",
    "    for i in range(len(y)):\n",
    "        y_onehot[i, y[i]] = 1\n",
    "        \n",
    "    return y_onehot"
   ]
  },
  {
   "cell_type": "markdown",
   "metadata": {},
   "source": [
    "### Create Neural Net Class"
   ]
  },
  {
   "cell_type": "code",
   "execution_count": 12,
   "metadata": {},
   "outputs": [],
   "source": [
    "class NeuralNet:\n",
    "    \n",
    "    def __init__(self, X, y, hidden_layer_nodes, output_layer_nodes, act_fn, d_act_fn,\n",
    "                 final_act_fn, d_final_act_fn, loss_fn, d_loss_fn, random_state, alpha = None):\n",
    "        \n",
    "        self.X = X\n",
    "        self.y = y\n",
    "        self.alpha = alpha\n",
    "        \n",
    "        self.hidden_layer_nodes = hidden_layer_nodes\n",
    "        self.output_layer_nodes = output_layer_nodes\n",
    "        \n",
    "        self.act_fn = act_fn\n",
    "        self.d_act_fn = d_act_fn\n",
    "        self.final_act_fn = final_act_fn\n",
    "        self.d_final_act_fn = d_final_act_fn\n",
    "        self.loss_fn = loss_fn\n",
    "        self.d_loss_fn = d_loss_fn\n",
    "        \n",
    "        self.layers = []\n",
    "        self.losses = np.array([])\n",
    "        \n",
    "        # Create First Layer\n",
    "        self.layers.append(FCLayer(self.act_fn, self.d_act_fn, self.hidden_layer_nodes[0],\n",
    "                                 self.X.shape[1], X, 0, alpha, False))\n",
    "        \n",
    "        # Create Hidden Layers\n",
    "        for i in range(1, 1 + len(self.hidden_layer_nodes)):\n",
    "            if i == len(self.hidden_layer_nodes):\n",
    "                # Create final node - skip to below\n",
    "                break\n",
    "            else:\n",
    "                self.layers.append(FCLayer(self.act_fn, self.d_act_fn, self.hidden_layer_nodes[i],\n",
    "                                         self.layers[i - 1].nodes, self.layers[i - 1].outputs, 0, alpha, False))\n",
    "\n",
    "        # Create Final Layer\n",
    "        self.layers.append(FCLayer(self.final_act_fn, self.d_final_act_fn, self.output_layer_nodes,\n",
    "                                self.layers[-1].nodes, self.layers[-1].outputs, 0, alpha, True, loss_fn, d_loss_fn, y))\n",
    "        \n",
    "    def train(self, eta, epochs):\n",
    "        self.eta = eta\n",
    "        self.epochs = epochs\n",
    "        \n",
    "        for i in range(self.epochs):\n",
    "            if i % 100 == 0:\n",
    "                self.losses = np.append(self.losses, self.get_loss())\n",
    "            self.forward_prop()\n",
    "            self.backward_prop()\n",
    "    \n",
    "    def forward_prop(self):\n",
    "        self.layers[0].set_activations(self.X)\n",
    "        self.layers[0].forward_prop()\n",
    "        \n",
    "        for i in range(1, len(self.layers)):\n",
    "            self.layers[i].set_activations(self.layers[i - 1].outputs)\n",
    "            self.layers[i].forward_prop()\n",
    "    \n",
    "    def backward_prop(self):\n",
    "        # Final layer first\n",
    "        self.layers[-1].backward_prop(self.eta)\n",
    "        \n",
    "        for i in range(len(self.layers) - 2, -1, -1):\n",
    "            self.layers[i].backward_prop(self.eta, self.layers[i + 1].d_w,\n",
    "                                         self.layers[i + 1].d_b, self.layers[i + 1].weights)\n",
    "        \n",
    "    def get_loss(self):\n",
    "        return self.loss_fn(self.y, self.layers[-1].outputs)\n",
    "    \n",
    "    def predict(self, new_X):\n",
    "        outputs = new_X\n",
    "        for layer in self.layers:\n",
    "            outputs = layer.predict(outputs)\n",
    "        return outputs"
   ]
  },
  {
   "cell_type": "markdown",
   "metadata": {},
   "source": [
    "### Create Layer Class"
   ]
  },
  {
   "cell_type": "code",
   "execution_count": 13,
   "metadata": {},
   "outputs": [],
   "source": [
    "class FCLayer:\n",
    "    \n",
    "    def __init__(self, act_fn, d_act_fn, nodes, nodes_prev, activations, random_state, alpha,\n",
    "                 is_final, loss_fn = None, d_loss_fn = None, y = None):\n",
    "        self.act_fn = act_fn\n",
    "        self.d_act_fn = d_act_fn\n",
    "        self.nodes = nodes\n",
    "        self.nodes_prev = nodes_prev \n",
    "        self.is_final = is_final\n",
    "        self.loss_fn = loss_fn\n",
    "        self.d_loss_fn = d_loss_fn\n",
    "        self.y = y\n",
    "        self.alpha = alpha\n",
    "        \n",
    "        np.random.seed(random_state)\n",
    "        self.weights = np.random.random(size = [self.nodes_prev, self.nodes]) * 2 - 1\n",
    "        self.biases = np.random.random(size = [self.nodes]) * 2 - 1\n",
    "        self.activations = activations\n",
    "        \n",
    "        self.weighted_inputs = self.get_weighted_inputs()\n",
    "        self.outputs = self.calc_outputs()\n",
    "        \n",
    "    def output(self, w, a, b):\n",
    "        return np.dot(a, w) + np.sum(b)\n",
    "    \n",
    "    def d_output_w(self, a):\n",
    "        return np.transpose(a)\n",
    "    \n",
    "    def set_activations(self, activations):\n",
    "        self.activations = activations\n",
    "        \n",
    "    def get_weighted_inputs(self):\n",
    "        return self.output(self.weights, self.activations, self.biases)\n",
    "    \n",
    "    def calc_outputs(self):\n",
    "        return self.act_fn(self.weighted_inputs, self.alpha)\n",
    "    \n",
    "    def forward_prop(self):\n",
    "        self.weighted_inputs = self.get_weighted_inputs()\n",
    "        self.outputs = self.calc_outputs()\n",
    "    \n",
    "    def get_weight_deltas(self, d_w_next = None, w_next = None):\n",
    "        if self.is_final:\n",
    "            return self.d_loss_fn(self.y, self.outputs) * self.d_act_fn(self.weighted_inputs, self.alpha)\n",
    "        else:\n",
    "             return np.dot(d_w_next, np.transpose(w_next)) * self.d_act_fn(self.weighted_inputs, self.alpha)\n",
    "        \n",
    "    def get_bias_deltas(self, d_b_next = None, w_next = None):\n",
    "        if self.is_final:\n",
    "            return self.d_w\n",
    "        else:\n",
    "            return np.dot(d_b_next, np.transpose(w_next)) * self.d_act_fn(self.weighted_inputs, self.alpha)\n",
    "            \n",
    "    \n",
    "    def backward_prop(self, eta, d_w_next = None, d_b_next = None, w_next = None):\n",
    "        self.d_w = self.get_weight_deltas(d_w_next, w_next)\n",
    "        self.d_b = self.get_bias_deltas(d_b_next, w_next)\n",
    "        \n",
    "        self.weights = self.weights - eta * np.dot(self.d_output_w(self.activations), self.d_w)\n",
    "        self.biases = self.biases - eta * np.sum(self.d_b, axis = 0)\n",
    "\n",
    "    \n",
    "    def predict(self, new_X):\n",
    "        return self.act_fn(self.output(self.weights, new_X, self.biases), self.alpha)\n"
   ]
  },
  {
   "cell_type": "markdown",
   "metadata": {},
   "source": [
    "### Import Data"
   ]
  },
  {
   "cell_type": "code",
   "execution_count": 35,
   "metadata": {},
   "outputs": [],
   "source": [
    "(x_train, y_train), (x_test, y_test) = tf_datasets.mnist.load_data()\n",
    "\n",
    "training_rows = 4000\n",
    "testing_rows = 10000\n",
    "\n",
    "X_train = x_train.reshape(x_train.shape[0], x_train.shape[1] * x_train.shape[2])[0:training_rows, :]\n",
    "X_test = x_test.reshape(x_test.shape[0], x_train.shape[1] * x_train.shape[2])[0:testing_rows, :]\n",
    "\n",
    "y_train = y_train[0:training_rows]\n",
    "y_test = y_test[0:testing_rows]\n",
    "\n",
    "X_train = X_train / 255.0\n",
    "X_test = X_test / 255.0\n",
    "\n",
    "y_train_oh = one_hot(y_train)[0:training_rows, :]\n",
    "y_test_oh = one_hot(y_test)[0:testing_rows, :]"
   ]
  },
  {
   "cell_type": "markdown",
   "metadata": {},
   "source": [
    "### Create and Train Neural Net"
   ]
  },
  {
   "cell_type": "code",
   "execution_count": 43,
   "metadata": {},
   "outputs": [
    {
     "name": "stdout",
     "output_type": "stream",
     "text": [
      "After 2900 epochs\n"
     ]
    },
    {
     "data": {
      "image/png": "[encoded data removed]",
      "text/plain": [
       "<Figure size 432x288 with 1 Axes>"
      ]
     },
     "metadata": {
      "needs_background": "light"
     },
     "output_type": "display_data"
    },
    {
     "name": "stdout",
     "output_type": "stream",
     "text": [
      "[[378   0   0   0   1   0   0   0   0   0]\n",
      " [  0 440   0   4   0   0   0   0   0   0]\n",
      " [  0   0 393   1   1   0   0   0   0   2]\n",
      " [  0   1   1 385   0   3   0   2   0   0]\n",
      " [  0   1   0   0 428   0   1   0   0   0]\n",
      " [  1   0   0   3   0 343   1   0   2   0]\n",
      " [  0   0   0   0   0   0 405   0   0   0]\n",
      " [  0   2   0   0   0   0   0 429   0   2]\n",
      " [  0   0   1   0   0   1   0   0 370   1]\n",
      " [  1   0   0   0   0   0   0   0   0 396]]\n",
      "0.99175\n"
     ]
    },
    {
     "data": {
      "text/plain": [
       "<Figure size 432x288 with 0 Axes>"
      ]
     },
     "metadata": {},
     "output_type": "display_data"
    }
   ],
   "source": [
    "nn = NeuralNet(X_train, y_train_oh, [784, 80, 20], y_train_oh.shape[1], tanh, d_tanh, softmax, d_softmax, \n",
    "              cross_entropy, d_cross_entropy, random_state = 0, alpha = .1)\n",
    "\n",
    "for i in range(300):\n",
    "    nn.train(.0001, 10)\n",
    "    \n",
    "    if i % 10 == 0:\n",
    "        clear_output()\n",
    "        print('After ' + str(i * 10) + ' epochs')\n",
    "        plt.plot(nn.losses)\n",
    "        plt.show()\n",
    "        plt.clf()\n",
    "        print(confusion_matrix(y_train, np.argmax(nn.predict(X_train), axis = 1)))\n",
    "        print(np.mean(np.argmax(nn.predict(X_train), axis = 1) == y_train))"
   ]
  },
  {
   "cell_type": "code",
   "execution_count": 44,
   "metadata": {},
   "outputs": [
    {
     "name": "stdout",
     "output_type": "stream",
     "text": [
      "[[ 896    0   21   10    2   17   21    2    7    4]\n",
      " [   0 1060   16   11    6   10   14    8   10    0]\n",
      " [  28    3  791   52   23   19   24   14   61   17]\n",
      " [   6    6   47  814    0   70    3   17   26   21]\n",
      " [   2    6   14    0  830    9   19    6   10   86]\n",
      " [  19   14   18  112   26  580   24    5   66   28]\n",
      " [  23    6   27    2   60   24  801    3   10    2]\n",
      " [   2   13   17   23    7    9    2  890    8   57]\n",
      " [  22    9   22   34   21   66   23    7  690   80]\n",
      " [   6    9    6    6   74   15    4   94   22  773]]\n"
     ]
    },
    {
     "data": {
      "text/plain": [
       "0.8125"
      ]
     },
     "execution_count": 44,
     "metadata": {},
     "output_type": "execute_result"
    },
    {
     "data": {
      "image/png": "[encoded data removed]",
      "text/plain": [
       "<Figure size 432x288 with 1 Axes>"
      ]
     },
     "metadata": {
      "needs_background": "light"
     },
     "output_type": "display_data"
    }
   ],
   "source": [
    "plt.plot(nn.losses)\n",
    "print(confusion_matrix(y_test, np.argmax(nn.predict(X_test), axis = 1)))\n",
    "np.mean(np.argmax(nn.predict(X_test), axis = 1) == y_test)\n",
    "\n"
   ]
  }
 ],
 "metadata": {
  "kernelspec": {
   "display_name": "Python (tensorflow)",
   "language": "python",
   "name": "tensorflow"
  },
  "language_info": {
   "codemirror_mode": {
    "name": "ipython",
    "version": 3
   },
   "file_extension": ".py",
   "mimetype": "text/x-python",
   "name": "python",
   "nbconvert_exporter": "python",
   "pygments_lexer": "ipython3",
   "version": "3.7.3"
  }
 },
 "nbformat": 4,
 "nbformat_minor": 2
}

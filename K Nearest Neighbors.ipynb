{
 "cells": [
  {
   "cell_type": "markdown",
   "metadata": {},
   "source": [
    "### Import Packages"
   ]
  },
  {
   "cell_type": "code",
   "execution_count": 152,
   "metadata": {},
   "outputs": [],
   "source": [
    "import numpy as np\n",
    "from sklearn import datasets\n",
    "from sklearn.model_selection import train_test_split\n",
    "from sklearn.preprocessing import StandardScaler"
   ]
  },
  {
   "cell_type": "markdown",
   "metadata": {},
   "source": [
    "### Import Datasets"
   ]
  },
  {
   "cell_type": "code",
   "execution_count": 119,
   "metadata": {},
   "outputs": [],
   "source": [
    "iris = datasets.load_iris() # Classification\n",
    "wine = datasets.load_wine() # Classification\n",
    "breast_cancer = datasets.load_breast_cancer() # Classification\n",
    "boston = datasets.load_boston() # Regression\n",
    "diabetes = datasets.load_diabetes() # Regression"
   ]
  },
  {
   "cell_type": "markdown",
   "metadata": {},
   "source": [
    "### Create distance functions"
   ]
  },
  {
   "cell_type": "code",
   "execution_count": 118,
   "metadata": {},
   "outputs": [],
   "source": [
    "def minkowski_dist(x_1, x_2, p):\n",
    "    return np.sum(np.abs(x_1 - x_2) ** p) ** (1 / p)\n",
    "\n",
    "def taxicab_dist(x_1, x_2):\n",
    "    return minkowski_dist(x_1, x_2, 1)\n",
    "\n",
    "def euclidian_dist(x_1, x_2):\n",
    "    return minkowski_dist(x_1, x_2, 2)\n",
    "\n",
    "def chebychev_dist(x_1, x_2):\n",
    "    return np.max(np.abs(x_1 - x_2))\n",
    "\n",
    "def canberra_dist(x_1, x_2):\n",
    "    return np.sum(np.abs(x_1 - x_2) / (np.abs(x_1) + np.abs(x_2)))"
   ]
  },
  {
   "cell_type": "markdown",
   "metadata": {},
   "source": [
    "### Find Nearest Neighbors"
   ]
  },
  {
   "cell_type": "code",
   "execution_count": 117,
   "metadata": {},
   "outputs": [],
   "source": [
    "def get_kNN_index(X, x_pred, k, distance_fn):\n",
    "    dists = np.apply_along_axis(distance_fn, axis = 1, arr = X, x_2 = x_pred)\n",
    "    return np.argpartition(dists, k)[:k]"
   ]
  },
  {
   "cell_type": "markdown",
   "metadata": {},
   "source": [
    "### Create Prediction Functions"
   ]
  },
  {
   "cell_type": "code",
   "execution_count": 116,
   "metadata": {},
   "outputs": [],
   "source": [
    "def predict_mode(y):\n",
    "    return np.bincount(y).argmax()\n",
    "\n",
    "def predict_mean(y):\n",
    "    return np.mean(y)"
   ]
  },
  {
   "cell_type": "markdown",
   "metadata": {},
   "source": [
    "### Predict Response"
   ]
  },
  {
   "cell_type": "code",
   "execution_count": 115,
   "metadata": {},
   "outputs": [],
   "source": [
    "def predict(y, idx, predict_fn):\n",
    "    return predict_fn(y[idx])"
   ]
  },
  {
   "cell_type": "markdown",
   "metadata": {},
   "source": [
    "### Return Predictions"
   ]
  },
  {
   "cell_type": "code",
   "execution_count": 144,
   "metadata": {},
   "outputs": [],
   "source": [
    "def get_preds(train_X, train_y, test_X, k, distance_fn, prediction_fn):\n",
    "    return np.array([predict(train_y,\n",
    "                   get_kNN_index(train_X, test_X[i,:], k, distance_fn),\n",
    "                   prediction_fn) for i in range(test_X.shape[0])])     "
   ]
  },
  {
   "cell_type": "code",
   "execution_count": 184,
   "metadata": {},
   "outputs": [
    {
     "data": {
      "text/plain": [
       "0.7953216374269005"
      ]
     },
     "execution_count": 184,
     "metadata": {},
     "output_type": "execute_result"
    }
   ],
   "source": [
    "train_X, test_X, train_y, test_y = train_test_split(breast_cancer['data'], breast_cancer['target'],\n",
    "                                                    test_size = .3, random_state = 0)\n",
    "\n",
    "scaler_X = StandardScaler().fit(train_X)\n",
    "train_X = scaler_X.transform(train_X)\n",
    "test_X = scaler_X.transform(test_X)\n",
    "\n",
    "\n",
    "np.mean(get_preds(train_X, train_y, test_X, 5, euclidian_dist, predict_mean) == test_y)\n",
    "# np.sqrt(np.mean((get_preds(train_X, train_y, test_X, 5, taxicab_dist, predict_mean) - test_y) ** 2))\n"
   ]
  }
 ],
 "metadata": {
  "kernelspec": {
   "display_name": "Python (tensorflow)",
   "language": "python",
   "name": "tensorflow"
  },
  "language_info": {
   "codemirror_mode": {
    "name": "ipython",
    "version": 3
   },
   "file_extension": ".py",
   "mimetype": "text/x-python",
   "name": "python",
   "nbconvert_exporter": "python",
   "pygments_lexer": "ipython3",
   "version": "3.7.3"
  }
 },
 "nbformat": 4,
 "nbformat_minor": 2
}
